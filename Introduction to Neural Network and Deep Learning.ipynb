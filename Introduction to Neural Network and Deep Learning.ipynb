{
 "cells": [
  {
   "cell_type": "code",
   "execution_count": 1,
   "metadata": {
    "colab": {
     "base_uri": "https://localhost:8080/"
    },
    "id": "OqDpsQiqKgYy",
    "outputId": "15e11645-2888-44e2-ec07-8c0419fbb434"
   },
   "outputs": [
    {
     "name": "stdout",
     "output_type": "stream",
     "text": [
      "Mounted at /content/drive\n"
     ]
    }
   ],
   "source": [
    "from google.colab import drive\n",
    "drive.mount('/content/drive')"
   ]
  },
  {
   "cell_type": "markdown",
   "metadata": {
    "id": "VrRUqYGNGjtz"
   },
   "source": [
    "### **Part** **A**"
   ]
  },
  {
   "cell_type": "markdown",
   "metadata": {},
   "source": [
    "- **DOMAIN:** Electronics and Telecommunication.\n",
    "- **CONTEXT:** A communications equipment manufacturing company has a product which is responsible for emitting informative signals. Company wants to build a machine learning model which can help the company to predict the equipment’s signal quality using various parameters.\n",
    "- **DATA DESCRIPTION:** The data set contains information on various signal tests performed:\n",
    " 1. Parameters: Various measurable signal parameters.\n",
    " 2. Signal_Quality: Final signal strength or quality.\n",
    "- **PROJECT OBJECTIVE:** To build a classifier which can use the given parameters to determine the signal strength or quality."
   ]
  },
  {
   "cell_type": "markdown",
   "metadata": {},
   "source": [
    "### 1. Data import and Understanding."
   ]
  },
  {
   "cell_type": "markdown",
   "metadata": {
    "id": "SL5aXXGEHARw"
   },
   "source": [
    "### **1.A.  Read the 'Signals.csv' as DatFrame and import required libraries.**"
   ]
  },
  {
   "cell_type": "markdown",
   "metadata": {
    "id": "N0n2KuDWHVwD"
   },
   "source": [
    "#### **Importig necessary Libraries**"
   ]
  },
  {
   "cell_type": "code",
   "execution_count": 25,
   "metadata": {
    "id": "tZLAHD3THS11"
   },
   "outputs": [],
   "source": [
    "import numpy as np\n",
    "import pandas as pd\n",
    "import matplotlib.pyplot as plt\n",
    "import seaborn as sns\n",
    "from sklearn.model_selection import train_test_split\n",
    "from sklearn.preprocessing import StandardScaler\n",
    "from keras.utils import to_categorical\n",
    "import tensorflow as tf\n",
    "from tensorflow import keras\n",
    "import h5py\n",
    "from tensorflow.keras import layers\n",
    "from tensorflow.keras import Sequential\n",
    "from tensorflow.keras.layers import Dense, Activation, BatchNormalization,Dropout\n",
    "from tensorflow.keras import losses, optimizers\n",
    "from tensorflow.keras.models import Sequential\n",
    "from tensorflow.keras.layers import Dense, Flatten\n",
    "from sklearn.metrics import classification_report, confusion_matrix\n"
   ]
  },
  {
   "cell_type": "code",
   "execution_count": 26,
   "metadata": {
    "id": "HEx4z-vzFMBj"
   },
   "outputs": [],
   "source": [
    "path = '/content/drive/MyDrive/AIML DATASETS USED IN THE PROJECT/NN Project Data - Signal.csv'\n",
    "\n",
    "# Read the CSV file as a DataFrame\n",
    "df = pd.read_csv(path)"
   ]
  },
  {
   "cell_type": "code",
   "execution_count": 27,
   "metadata": {
    "colab": {
     "base_uri": "https://localhost:8080/",
     "height": 223
    },
    "id": "CKkdbraX4aVq",
    "outputId": "8433691f-2a12-4de5-d8a4-ea118d4fe317"
   },
   "outputs": [
    {
     "data": {
      "text/html": [
       "\n",
       "  <div id=\"df-7669d06e-1d86-4981-a760-29f2520f447b\" class=\"colab-df-container\">\n",
       "    <div>\n",
       "<style scoped>\n",
       "    .dataframe tbody tr th:only-of-type {\n",
       "        vertical-align: middle;\n",
       "    }\n",
       "\n",
       "    .dataframe tbody tr th {\n",
       "        vertical-align: top;\n",
       "    }\n",
       "\n",
       "    .dataframe thead th {\n",
       "        text-align: right;\n",
       "    }\n",
       "</style>\n",
       "<table border=\"1\" class=\"dataframe\">\n",
       "  <thead>\n",
       "    <tr style=\"text-align: right;\">\n",
       "      <th></th>\n",
       "      <th>Parameter 1</th>\n",
       "      <th>Parameter 2</th>\n",
       "      <th>Parameter 3</th>\n",
       "      <th>Parameter 4</th>\n",
       "      <th>Parameter 5</th>\n",
       "      <th>Parameter 6</th>\n",
       "      <th>Parameter 7</th>\n",
       "      <th>Parameter 8</th>\n",
       "      <th>Parameter 9</th>\n",
       "      <th>Parameter 10</th>\n",
       "      <th>Parameter 11</th>\n",
       "      <th>Signal_Strength</th>\n",
       "    </tr>\n",
       "  </thead>\n",
       "  <tbody>\n",
       "    <tr>\n",
       "      <th>0</th>\n",
       "      <td>7.4</td>\n",
       "      <td>0.70</td>\n",
       "      <td>0.00</td>\n",
       "      <td>1.9</td>\n",
       "      <td>0.076</td>\n",
       "      <td>11.0</td>\n",
       "      <td>34.0</td>\n",
       "      <td>0.9978</td>\n",
       "      <td>3.51</td>\n",
       "      <td>0.56</td>\n",
       "      <td>9.4</td>\n",
       "      <td>5</td>\n",
       "    </tr>\n",
       "    <tr>\n",
       "      <th>1</th>\n",
       "      <td>7.8</td>\n",
       "      <td>0.88</td>\n",
       "      <td>0.00</td>\n",
       "      <td>2.6</td>\n",
       "      <td>0.098</td>\n",
       "      <td>25.0</td>\n",
       "      <td>67.0</td>\n",
       "      <td>0.9968</td>\n",
       "      <td>3.20</td>\n",
       "      <td>0.68</td>\n",
       "      <td>9.8</td>\n",
       "      <td>5</td>\n",
       "    </tr>\n",
       "    <tr>\n",
       "      <th>2</th>\n",
       "      <td>7.8</td>\n",
       "      <td>0.76</td>\n",
       "      <td>0.04</td>\n",
       "      <td>2.3</td>\n",
       "      <td>0.092</td>\n",
       "      <td>15.0</td>\n",
       "      <td>54.0</td>\n",
       "      <td>0.9970</td>\n",
       "      <td>3.26</td>\n",
       "      <td>0.65</td>\n",
       "      <td>9.8</td>\n",
       "      <td>5</td>\n",
       "    </tr>\n",
       "    <tr>\n",
       "      <th>3</th>\n",
       "      <td>11.2</td>\n",
       "      <td>0.28</td>\n",
       "      <td>0.56</td>\n",
       "      <td>1.9</td>\n",
       "      <td>0.075</td>\n",
       "      <td>17.0</td>\n",
       "      <td>60.0</td>\n",
       "      <td>0.9980</td>\n",
       "      <td>3.16</td>\n",
       "      <td>0.58</td>\n",
       "      <td>9.8</td>\n",
       "      <td>6</td>\n",
       "    </tr>\n",
       "    <tr>\n",
       "      <th>4</th>\n",
       "      <td>7.4</td>\n",
       "      <td>0.70</td>\n",
       "      <td>0.00</td>\n",
       "      <td>1.9</td>\n",
       "      <td>0.076</td>\n",
       "      <td>11.0</td>\n",
       "      <td>34.0</td>\n",
       "      <td>0.9978</td>\n",
       "      <td>3.51</td>\n",
       "      <td>0.56</td>\n",
       "      <td>9.4</td>\n",
       "      <td>5</td>\n",
       "    </tr>\n",
       "  </tbody>\n",
       "</table>\n",
       "</div>\n",
       "    <div class=\"colab-df-buttons\">\n",
       "\n",
       "  <div class=\"colab-df-container\">\n",
       "    <button class=\"colab-df-convert\" onclick=\"convertToInteractive('df-7669d06e-1d86-4981-a760-29f2520f447b')\"\n",
       "            title=\"Convert this dataframe to an interactive table.\"\n",
       "            style=\"display:none;\">\n",
       "\n",
       "  <svg xmlns=\"http://www.w3.org/2000/svg\" height=\"24px\" viewBox=\"0 -960 960 960\">\n",
       "    <path d=\"M120-120v-720h720v720H120Zm60-500h600v-160H180v160Zm220 220h160v-160H400v160Zm0 220h160v-160H400v160ZM180-400h160v-160H180v160Zm440 0h160v-160H620v160ZM180-180h160v-160H180v160Zm440 0h160v-160H620v160Z\"/>\n",
       "  </svg>\n",
       "    </button>\n",
       "\n",
       "  <style>\n",
       "    .colab-df-container {\n",
       "      display:flex;\n",
       "      gap: 12px;\n",
       "    }\n",
       "\n",
       "    .colab-df-convert {\n",
       "      background-color: #E8F0FE;\n",
       "      border: none;\n",
       "      border-radius: 50%;\n",
       "      cursor: pointer;\n",
       "      display: none;\n",
       "      fill: #1967D2;\n",
       "      height: 32px;\n",
       "      padding: 0 0 0 0;\n",
       "      width: 32px;\n",
       "    }\n",
       "\n",
       "    .colab-df-convert:hover {\n",
       "      background-color: #E2EBFA;\n",
       "      box-shadow: 0px 1px 2px rgba(60, 64, 67, 0.3), 0px 1px 3px 1px rgba(60, 64, 67, 0.15);\n",
       "      fill: #174EA6;\n",
       "    }\n",
       "\n",
       "    .colab-df-buttons div {\n",
       "      margin-bottom: 4px;\n",
       "    }\n",
       "\n",
       "    [theme=dark] .colab-df-convert {\n",
       "      background-color: #3B4455;\n",
       "      fill: #D2E3FC;\n",
       "    }\n",
       "\n",
       "    [theme=dark] .colab-df-convert:hover {\n",
       "      background-color: #434B5C;\n",
       "      box-shadow: 0px 1px 3px 1px rgba(0, 0, 0, 0.15);\n",
       "      filter: drop-shadow(0px 1px 2px rgba(0, 0, 0, 0.3));\n",
       "      fill: #FFFFFF;\n",
       "    }\n",
       "  </style>\n",
       "\n",
       "    <script>\n",
       "      const buttonEl =\n",
       "        document.querySelector('#df-7669d06e-1d86-4981-a760-29f2520f447b button.colab-df-convert');\n",
       "      buttonEl.style.display =\n",
       "        google.colab.kernel.accessAllowed ? 'block' : 'none';\n",
       "\n",
       "      async function convertToInteractive(key) {\n",
       "        const element = document.querySelector('#df-7669d06e-1d86-4981-a760-29f2520f447b');\n",
       "        const dataTable =\n",
       "          await google.colab.kernel.invokeFunction('convertToInteractive',\n",
       "                                                    [key], {});\n",
       "        if (!dataTable) return;\n",
       "\n",
       "        const docLinkHtml = 'Like what you see? Visit the ' +\n",
       "          '<a target=\"_blank\" href=https://colab.research.google.com/notebooks/data_table.ipynb>data table notebook</a>'\n",
       "          + ' to learn more about interactive tables.';\n",
       "        element.innerHTML = '';\n",
       "        dataTable['output_type'] = 'display_data';\n",
       "        await google.colab.output.renderOutput(dataTable, element);\n",
       "        const docLink = document.createElement('div');\n",
       "        docLink.innerHTML = docLinkHtml;\n",
       "        element.appendChild(docLink);\n",
       "      }\n",
       "    </script>\n",
       "  </div>\n",
       "\n",
       "\n",
       "<div id=\"df-8c7acaf8-6c53-4437-be60-5b78cc14afbd\">\n",
       "  <button class=\"colab-df-quickchart\" onclick=\"quickchart('df-8c7acaf8-6c53-4437-be60-5b78cc14afbd')\"\n",
       "            title=\"Suggest charts.\"\n",
       "            style=\"display:none;\">\n",
       "\n",
       "<svg xmlns=\"http://www.w3.org/2000/svg\" height=\"24px\"viewBox=\"0 0 24 24\"\n",
       "     width=\"24px\">\n",
       "    <g>\n",
       "        <path d=\"M19 3H5c-1.1 0-2 .9-2 2v14c0 1.1.9 2 2 2h14c1.1 0 2-.9 2-2V5c0-1.1-.9-2-2-2zM9 17H7v-7h2v7zm4 0h-2V7h2v10zm4 0h-2v-4h2v4z\"/>\n",
       "    </g>\n",
       "</svg>\n",
       "  </button>\n",
       "\n",
       "<style>\n",
       "  .colab-df-quickchart {\n",
       "      --bg-color: #E8F0FE;\n",
       "      --fill-color: #1967D2;\n",
       "      --hover-bg-color: #E2EBFA;\n",
       "      --hover-fill-color: #174EA6;\n",
       "      --disabled-fill-color: #AAA;\n",
       "      --disabled-bg-color: #DDD;\n",
       "  }\n",
       "\n",
       "  [theme=dark] .colab-df-quickchart {\n",
       "      --bg-color: #3B4455;\n",
       "      --fill-color: #D2E3FC;\n",
       "      --hover-bg-color: #434B5C;\n",
       "      --hover-fill-color: #FFFFFF;\n",
       "      --disabled-bg-color: #3B4455;\n",
       "      --disabled-fill-color: #666;\n",
       "  }\n",
       "\n",
       "  .colab-df-quickchart {\n",
       "    background-color: var(--bg-color);\n",
       "    border: none;\n",
       "    border-radius: 50%;\n",
       "    cursor: pointer;\n",
       "    display: none;\n",
       "    fill: var(--fill-color);\n",
       "    height: 32px;\n",
       "    padding: 0;\n",
       "    width: 32px;\n",
       "  }\n",
       "\n",
       "  .colab-df-quickchart:hover {\n",
       "    background-color: var(--hover-bg-color);\n",
       "    box-shadow: 0 1px 2px rgba(60, 64, 67, 0.3), 0 1px 3px 1px rgba(60, 64, 67, 0.15);\n",
       "    fill: var(--button-hover-fill-color);\n",
       "  }\n",
       "\n",
       "  .colab-df-quickchart-complete:disabled,\n",
       "  .colab-df-quickchart-complete:disabled:hover {\n",
       "    background-color: var(--disabled-bg-color);\n",
       "    fill: var(--disabled-fill-color);\n",
       "    box-shadow: none;\n",
       "  }\n",
       "\n",
       "  .colab-df-spinner {\n",
       "    border: 2px solid var(--fill-color);\n",
       "    border-color: transparent;\n",
       "    border-bottom-color: var(--fill-color);\n",
       "    animation:\n",
       "      spin 1s steps(1) infinite;\n",
       "  }\n",
       "\n",
       "  @keyframes spin {\n",
       "    0% {\n",
       "      border-color: transparent;\n",
       "      border-bottom-color: var(--fill-color);\n",
       "      border-left-color: var(--fill-color);\n",
       "    }\n",
       "    20% {\n",
       "      border-color: transparent;\n",
       "      border-left-color: var(--fill-color);\n",
       "      border-top-color: var(--fill-color);\n",
       "    }\n",
       "    30% {\n",
       "      border-color: transparent;\n",
       "      border-left-color: var(--fill-color);\n",
       "      border-top-color: var(--fill-color);\n",
       "      border-right-color: var(--fill-color);\n",
       "    }\n",
       "    40% {\n",
       "      border-color: transparent;\n",
       "      border-right-color: var(--fill-color);\n",
       "      border-top-color: var(--fill-color);\n",
       "    }\n",
       "    60% {\n",
       "      border-color: transparent;\n",
       "      border-right-color: var(--fill-color);\n",
       "    }\n",
       "    80% {\n",
       "      border-color: transparent;\n",
       "      border-right-color: var(--fill-color);\n",
       "      border-bottom-color: var(--fill-color);\n",
       "    }\n",
       "    90% {\n",
       "      border-color: transparent;\n",
       "      border-bottom-color: var(--fill-color);\n",
       "    }\n",
       "  }\n",
       "</style>\n",
       "\n",
       "  <script>\n",
       "    async function quickchart(key) {\n",
       "      const quickchartButtonEl =\n",
       "        document.querySelector('#' + key + ' button');\n",
       "      quickchartButtonEl.disabled = true;  // To prevent multiple clicks.\n",
       "      quickchartButtonEl.classList.add('colab-df-spinner');\n",
       "      try {\n",
       "        const charts = await google.colab.kernel.invokeFunction(\n",
       "            'suggestCharts', [key], {});\n",
       "      } catch (error) {\n",
       "        console.error('Error during call to suggestCharts:', error);\n",
       "      }\n",
       "      quickchartButtonEl.classList.remove('colab-df-spinner');\n",
       "      quickchartButtonEl.classList.add('colab-df-quickchart-complete');\n",
       "    }\n",
       "    (() => {\n",
       "      let quickchartButtonEl =\n",
       "        document.querySelector('#df-8c7acaf8-6c53-4437-be60-5b78cc14afbd button');\n",
       "      quickchartButtonEl.style.display =\n",
       "        google.colab.kernel.accessAllowed ? 'block' : 'none';\n",
       "    })();\n",
       "  </script>\n",
       "</div>\n",
       "    </div>\n",
       "  </div>\n"
      ],
      "text/plain": [
       "   Parameter 1  Parameter 2  Parameter 3  Parameter 4  Parameter 5  \\\n",
       "0          7.4         0.70         0.00          1.9        0.076   \n",
       "1          7.8         0.88         0.00          2.6        0.098   \n",
       "2          7.8         0.76         0.04          2.3        0.092   \n",
       "3         11.2         0.28         0.56          1.9        0.075   \n",
       "4          7.4         0.70         0.00          1.9        0.076   \n",
       "\n",
       "   Parameter 6  Parameter 7  Parameter 8  Parameter 9  Parameter 10  \\\n",
       "0         11.0         34.0       0.9978         3.51          0.56   \n",
       "1         25.0         67.0       0.9968         3.20          0.68   \n",
       "2         15.0         54.0       0.9970         3.26          0.65   \n",
       "3         17.0         60.0       0.9980         3.16          0.58   \n",
       "4         11.0         34.0       0.9978         3.51          0.56   \n",
       "\n",
       "   Parameter 11  Signal_Strength  \n",
       "0           9.4                5  \n",
       "1           9.8                5  \n",
       "2           9.8                5  \n",
       "3           9.8                6  \n",
       "4           9.4                5  "
      ]
     },
     "execution_count": 27,
     "metadata": {},
     "output_type": "execute_result"
    }
   ],
   "source": [
    "# Display the first few rows of the DataFrame\n",
    "df.head()"
   ]
  },
  {
   "cell_type": "code",
   "execution_count": 28,
   "metadata": {
    "colab": {
     "base_uri": "https://localhost:8080/",
     "height": 223
    },
    "id": "FlG4FWnb4aZy",
    "outputId": "c8b81937-e58b-41be-fc91-2fa7f4fd5e08"
   },
   "outputs": [
    {
     "data": {
      "text/html": [
       "\n",
       "  <div id=\"df-0631ea70-dcd3-4c6b-abcd-ac5436eb0966\" class=\"colab-df-container\">\n",
       "    <div>\n",
       "<style scoped>\n",
       "    .dataframe tbody tr th:only-of-type {\n",
       "        vertical-align: middle;\n",
       "    }\n",
       "\n",
       "    .dataframe tbody tr th {\n",
       "        vertical-align: top;\n",
       "    }\n",
       "\n",
       "    .dataframe thead th {\n",
       "        text-align: right;\n",
       "    }\n",
       "</style>\n",
       "<table border=\"1\" class=\"dataframe\">\n",
       "  <thead>\n",
       "    <tr style=\"text-align: right;\">\n",
       "      <th></th>\n",
       "      <th>Parameter 1</th>\n",
       "      <th>Parameter 2</th>\n",
       "      <th>Parameter 3</th>\n",
       "      <th>Parameter 4</th>\n",
       "      <th>Parameter 5</th>\n",
       "      <th>Parameter 6</th>\n",
       "      <th>Parameter 7</th>\n",
       "      <th>Parameter 8</th>\n",
       "      <th>Parameter 9</th>\n",
       "      <th>Parameter 10</th>\n",
       "      <th>Parameter 11</th>\n",
       "      <th>Signal_Strength</th>\n",
       "    </tr>\n",
       "  </thead>\n",
       "  <tbody>\n",
       "    <tr>\n",
       "      <th>1594</th>\n",
       "      <td>6.2</td>\n",
       "      <td>0.600</td>\n",
       "      <td>0.08</td>\n",
       "      <td>2.0</td>\n",
       "      <td>0.090</td>\n",
       "      <td>32.0</td>\n",
       "      <td>44.0</td>\n",
       "      <td>0.99490</td>\n",
       "      <td>3.45</td>\n",
       "      <td>0.58</td>\n",
       "      <td>10.5</td>\n",
       "      <td>5</td>\n",
       "    </tr>\n",
       "    <tr>\n",
       "      <th>1595</th>\n",
       "      <td>5.9</td>\n",
       "      <td>0.550</td>\n",
       "      <td>0.10</td>\n",
       "      <td>2.2</td>\n",
       "      <td>0.062</td>\n",
       "      <td>39.0</td>\n",
       "      <td>51.0</td>\n",
       "      <td>0.99512</td>\n",
       "      <td>3.52</td>\n",
       "      <td>0.76</td>\n",
       "      <td>11.2</td>\n",
       "      <td>6</td>\n",
       "    </tr>\n",
       "    <tr>\n",
       "      <th>1596</th>\n",
       "      <td>6.3</td>\n",
       "      <td>0.510</td>\n",
       "      <td>0.13</td>\n",
       "      <td>2.3</td>\n",
       "      <td>0.076</td>\n",
       "      <td>29.0</td>\n",
       "      <td>40.0</td>\n",
       "      <td>0.99574</td>\n",
       "      <td>3.42</td>\n",
       "      <td>0.75</td>\n",
       "      <td>11.0</td>\n",
       "      <td>6</td>\n",
       "    </tr>\n",
       "    <tr>\n",
       "      <th>1597</th>\n",
       "      <td>5.9</td>\n",
       "      <td>0.645</td>\n",
       "      <td>0.12</td>\n",
       "      <td>2.0</td>\n",
       "      <td>0.075</td>\n",
       "      <td>32.0</td>\n",
       "      <td>44.0</td>\n",
       "      <td>0.99547</td>\n",
       "      <td>3.57</td>\n",
       "      <td>0.71</td>\n",
       "      <td>10.2</td>\n",
       "      <td>5</td>\n",
       "    </tr>\n",
       "    <tr>\n",
       "      <th>1598</th>\n",
       "      <td>6.0</td>\n",
       "      <td>0.310</td>\n",
       "      <td>0.47</td>\n",
       "      <td>3.6</td>\n",
       "      <td>0.067</td>\n",
       "      <td>18.0</td>\n",
       "      <td>42.0</td>\n",
       "      <td>0.99549</td>\n",
       "      <td>3.39</td>\n",
       "      <td>0.66</td>\n",
       "      <td>11.0</td>\n",
       "      <td>6</td>\n",
       "    </tr>\n",
       "  </tbody>\n",
       "</table>\n",
       "</div>\n",
       "    <div class=\"colab-df-buttons\">\n",
       "\n",
       "  <div class=\"colab-df-container\">\n",
       "    <button class=\"colab-df-convert\" onclick=\"convertToInteractive('df-0631ea70-dcd3-4c6b-abcd-ac5436eb0966')\"\n",
       "            title=\"Convert this dataframe to an interactive table.\"\n",
       "            style=\"display:none;\">\n",
       "\n",
       "  <svg xmlns=\"http://www.w3.org/2000/svg\" height=\"24px\" viewBox=\"0 -960 960 960\">\n",
       "    <path d=\"M120-120v-720h720v720H120Zm60-500h600v-160H180v160Zm220 220h160v-160H400v160Zm0 220h160v-160H400v160ZM180-400h160v-160H180v160Zm440 0h160v-160H620v160ZM180-180h160v-160H180v160Zm440 0h160v-160H620v160Z\"/>\n",
       "  </svg>\n",
       "    </button>\n",
       "\n",
       "  <style>\n",
       "    .colab-df-container {\n",
       "      display:flex;\n",
       "      gap: 12px;\n",
       "    }\n",
       "\n",
       "    .colab-df-convert {\n",
       "      background-color: #E8F0FE;\n",
       "      border: none;\n",
       "      border-radius: 50%;\n",
       "      cursor: pointer;\n",
       "      display: none;\n",
       "      fill: #1967D2;\n",
       "      height: 32px;\n",
       "      padding: 0 0 0 0;\n",
       "      width: 32px;\n",
       "    }\n",
       "\n",
       "    .colab-df-convert:hover {\n",
       "      background-color: #E2EBFA;\n",
       "      box-shadow: 0px 1px 2px rgba(60, 64, 67, 0.3), 0px 1px 3px 1px rgba(60, 64, 67, 0.15);\n",
       "      fill: #174EA6;\n",
       "    }\n",
       "\n",
       "    .colab-df-buttons div {\n",
       "      margin-bottom: 4px;\n",
       "    }\n",
       "\n",
       "    [theme=dark] .colab-df-convert {\n",
       "      background-color: #3B4455;\n",
       "      fill: #D2E3FC;\n",
       "    }\n",
       "\n",
       "    [theme=dark] .colab-df-convert:hover {\n",
       "      background-color: #434B5C;\n",
       "      box-shadow: 0px 1px 3px 1px rgba(0, 0, 0, 0.15);\n",
       "      filter: drop-shadow(0px 1px 2px rgba(0, 0, 0, 0.3));\n",
       "      fill: #FFFFFF;\n",
       "    }\n",
       "  </style>\n",
       "\n",
       "    <script>\n",
       "      const buttonEl =\n",
       "        document.querySelector('#df-0631ea70-dcd3-4c6b-abcd-ac5436eb0966 button.colab-df-convert');\n",
       "      buttonEl.style.display =\n",
       "        google.colab.kernel.accessAllowed ? 'block' : 'none';\n",
       "\n",
       "      async function convertToInteractive(key) {\n",
       "        const element = document.querySelector('#df-0631ea70-dcd3-4c6b-abcd-ac5436eb0966');\n",
       "        const dataTable =\n",
       "          await google.colab.kernel.invokeFunction('convertToInteractive',\n",
       "                                                    [key], {});\n",
       "        if (!dataTable) return;\n",
       "\n",
       "        const docLinkHtml = 'Like what you see? Visit the ' +\n",
       "          '<a target=\"_blank\" href=https://colab.research.google.com/notebooks/data_table.ipynb>data table notebook</a>'\n",
       "          + ' to learn more about interactive tables.';\n",
       "        element.innerHTML = '';\n",
       "        dataTable['output_type'] = 'display_data';\n",
       "        await google.colab.output.renderOutput(dataTable, element);\n",
       "        const docLink = document.createElement('div');\n",
       "        docLink.innerHTML = docLinkHtml;\n",
       "        element.appendChild(docLink);\n",
       "      }\n",
       "    </script>\n",
       "  </div>\n",
       "\n",
       "\n",
       "<div id=\"df-371252b4-4b87-4314-b270-90835d4f90d7\">\n",
       "  <button class=\"colab-df-quickchart\" onclick=\"quickchart('df-371252b4-4b87-4314-b270-90835d4f90d7')\"\n",
       "            title=\"Suggest charts.\"\n",
       "            style=\"display:none;\">\n",
       "\n",
       "<svg xmlns=\"http://www.w3.org/2000/svg\" height=\"24px\"viewBox=\"0 0 24 24\"\n",
       "     width=\"24px\">\n",
       "    <g>\n",
       "        <path d=\"M19 3H5c-1.1 0-2 .9-2 2v14c0 1.1.9 2 2 2h14c1.1 0 2-.9 2-2V5c0-1.1-.9-2-2-2zM9 17H7v-7h2v7zm4 0h-2V7h2v10zm4 0h-2v-4h2v4z\"/>\n",
       "    </g>\n",
       "</svg>\n",
       "  </button>\n",
       "\n",
       "<style>\n",
       "  .colab-df-quickchart {\n",
       "      --bg-color: #E8F0FE;\n",
       "      --fill-color: #1967D2;\n",
       "      --hover-bg-color: #E2EBFA;\n",
       "      --hover-fill-color: #174EA6;\n",
       "      --disabled-fill-color: #AAA;\n",
       "      --disabled-bg-color: #DDD;\n",
       "  }\n",
       "\n",
       "  [theme=dark] .colab-df-quickchart {\n",
       "      --bg-color: #3B4455;\n",
       "      --fill-color: #D2E3FC;\n",
       "      --hover-bg-color: #434B5C;\n",
       "      --hover-fill-color: #FFFFFF;\n",
       "      --disabled-bg-color: #3B4455;\n",
       "      --disabled-fill-color: #666;\n",
       "  }\n",
       "\n",
       "  .colab-df-quickchart {\n",
       "    background-color: var(--bg-color);\n",
       "    border: none;\n",
       "    border-radius: 50%;\n",
       "    cursor: pointer;\n",
       "    display: none;\n",
       "    fill: var(--fill-color);\n",
       "    height: 32px;\n",
       "    padding: 0;\n",
       "    width: 32px;\n",
       "  }\n",
       "\n",
       "  .colab-df-quickchart:hover {\n",
       "    background-color: var(--hover-bg-color);\n",
       "    box-shadow: 0 1px 2px rgba(60, 64, 67, 0.3), 0 1px 3px 1px rgba(60, 64, 67, 0.15);\n",
       "    fill: var(--button-hover-fill-color);\n",
       "  }\n",
       "\n",
       "  .colab-df-quickchart-complete:disabled,\n",
       "  .colab-df-quickchart-complete:disabled:hover {\n",
       "    background-color: var(--disabled-bg-color);\n",
       "    fill: var(--disabled-fill-color);\n",
       "    box-shadow: none;\n",
       "  }\n",
       "\n",
       "  .colab-df-spinner {\n",
       "    border: 2px solid var(--fill-color);\n",
       "    border-color: transparent;\n",
       "    border-bottom-color: var(--fill-color);\n",
       "    animation:\n",
       "      spin 1s steps(1) infinite;\n",
       "  }\n",
       "\n",
       "  @keyframes spin {\n",
       "    0% {\n",
       "      border-color: transparent;\n",
       "      border-bottom-color: var(--fill-color);\n",
       "      border-left-color: var(--fill-color);\n",
       "    }\n",
       "    20% {\n",
       "      border-color: transparent;\n",
       "      border-left-color: var(--fill-color);\n",
       "      border-top-color: var(--fill-color);\n",
       "    }\n",
       "    30% {\n",
       "      border-color: transparent;\n",
       "      border-left-color: var(--fill-color);\n",
       "      border-top-color: var(--fill-color);\n",
       "      border-right-color: var(--fill-color);\n",
       "    }\n",
       "    40% {\n",
       "      border-color: transparent;\n",
       "      border-right-color: var(--fill-color);\n",
       "      border-top-color: var(--fill-color);\n",
       "    }\n",
       "    60% {\n",
       "      border-color: transparent;\n",
       "      border-right-color: var(--fill-color);\n",
       "    }\n",
       "    80% {\n",
       "      border-color: transparent;\n",
       "      border-right-color: var(--fill-color);\n",
       "      border-bottom-color: var(--fill-color);\n",
       "    }\n",
       "    90% {\n",
       "      border-color: transparent;\n",
       "      border-bottom-color: var(--fill-color);\n",
       "    }\n",
       "  }\n",
       "</style>\n",
       "\n",
       "  <script>\n",
       "    async function quickchart(key) {\n",
       "      const quickchartButtonEl =\n",
       "        document.querySelector('#' + key + ' button');\n",
       "      quickchartButtonEl.disabled = true;  // To prevent multiple clicks.\n",
       "      quickchartButtonEl.classList.add('colab-df-spinner');\n",
       "      try {\n",
       "        const charts = await google.colab.kernel.invokeFunction(\n",
       "            'suggestCharts', [key], {});\n",
       "      } catch (error) {\n",
       "        console.error('Error during call to suggestCharts:', error);\n",
       "      }\n",
       "      quickchartButtonEl.classList.remove('colab-df-spinner');\n",
       "      quickchartButtonEl.classList.add('colab-df-quickchart-complete');\n",
       "    }\n",
       "    (() => {\n",
       "      let quickchartButtonEl =\n",
       "        document.querySelector('#df-371252b4-4b87-4314-b270-90835d4f90d7 button');\n",
       "      quickchartButtonEl.style.display =\n",
       "        google.colab.kernel.accessAllowed ? 'block' : 'none';\n",
       "    })();\n",
       "  </script>\n",
       "</div>\n",
       "    </div>\n",
       "  </div>\n"
      ],
      "text/plain": [
       "      Parameter 1  Parameter 2  Parameter 3  Parameter 4  Parameter 5  \\\n",
       "1594          6.2        0.600         0.08          2.0        0.090   \n",
       "1595          5.9        0.550         0.10          2.2        0.062   \n",
       "1596          6.3        0.510         0.13          2.3        0.076   \n",
       "1597          5.9        0.645         0.12          2.0        0.075   \n",
       "1598          6.0        0.310         0.47          3.6        0.067   \n",
       "\n",
       "      Parameter 6  Parameter 7  Parameter 8  Parameter 9  Parameter 10  \\\n",
       "1594         32.0         44.0      0.99490         3.45          0.58   \n",
       "1595         39.0         51.0      0.99512         3.52          0.76   \n",
       "1596         29.0         40.0      0.99574         3.42          0.75   \n",
       "1597         32.0         44.0      0.99547         3.57          0.71   \n",
       "1598         18.0         42.0      0.99549         3.39          0.66   \n",
       "\n",
       "      Parameter 11  Signal_Strength  \n",
       "1594          10.5                5  \n",
       "1595          11.2                6  \n",
       "1596          11.0                6  \n",
       "1597          10.2                5  \n",
       "1598          11.0                6  "
      ]
     },
     "execution_count": 28,
     "metadata": {},
     "output_type": "execute_result"
    }
   ],
   "source": [
    "# Display the last few rows of the DataFrame\n",
    "df.tail()"
   ]
  },
  {
   "cell_type": "code",
   "execution_count": 29,
   "metadata": {
    "colab": {
     "base_uri": "https://localhost:8080/"
    },
    "id": "6J9xPk6q4TIo",
    "outputId": "befe55f6-c1d1-41a6-8899-34287ddfeeff"
   },
   "outputs": [
    {
     "name": "stdout",
     "output_type": "stream",
     "text": [
      "Shape:\n",
      "(1599, 12)\n",
      "Columns:\n",
      "Index(['Parameter 1', 'Parameter 2', 'Parameter 3', 'Parameter 4',\n",
      "       'Parameter 5', 'Parameter 6', 'Parameter 7', 'Parameter 8',\n",
      "       'Parameter 9', 'Parameter 10', 'Parameter 11', 'Signal_Strength'],\n",
      "      dtype='object')\n"
     ]
    }
   ],
   "source": [
    "# Print shape and columns of the dataset\n",
    "print(\"Shape:\")\n",
    "print(df.shape)\n",
    "print(\"Columns:\")\n",
    "print(df.columns)"
   ]
  },
  {
   "cell_type": "code",
   "execution_count": 30,
   "metadata": {
    "colab": {
     "base_uri": "https://localhost:8080/"
    },
    "id": "gSA7pWfv6EaZ",
    "outputId": "c8913aed-8df7-4818-d023-de419d537ea4"
   },
   "outputs": [
    {
     "name": "stdout",
     "output_type": "stream",
     "text": [
      "<class 'pandas.core.frame.DataFrame'>\n",
      "RangeIndex: 1599 entries, 0 to 1598\n",
      "Data columns (total 12 columns):\n",
      " #   Column           Non-Null Count  Dtype  \n",
      "---  ------           --------------  -----  \n",
      " 0   Parameter 1      1599 non-null   float64\n",
      " 1   Parameter 2      1599 non-null   float64\n",
      " 2   Parameter 3      1599 non-null   float64\n",
      " 3   Parameter 4      1599 non-null   float64\n",
      " 4   Parameter 5      1599 non-null   float64\n",
      " 5   Parameter 6      1599 non-null   float64\n",
      " 6   Parameter 7      1599 non-null   float64\n",
      " 7   Parameter 8      1599 non-null   float64\n",
      " 8   Parameter 9      1599 non-null   float64\n",
      " 9   Parameter 10     1599 non-null   float64\n",
      " 10  Parameter 11     1599 non-null   float64\n",
      " 11  Signal_Strength  1599 non-null   int64  \n",
      "dtypes: float64(11), int64(1)\n",
      "memory usage: 150.0 KB\n"
     ]
    }
   ],
   "source": [
    "# Check the data types of the columns for the dataset\n",
    "\n",
    "df.info()"
   ]
  },
  {
   "cell_type": "markdown",
   "metadata": {
    "id": "YG-zogvO6iS-"
   },
   "source": [
    "- All the columns in the data are numerical in nature.\n",
    "- Signal_Strength is the target column."
   ]
  },
  {
   "cell_type": "markdown",
   "metadata": {
    "id": "wCaSEpwMLhFH"
   },
   "source": [
    "### **1.B.  Check for missing values and print percentage for each attribute.**"
   ]
  },
  {
   "cell_type": "code",
   "execution_count": 31,
   "metadata": {
    "colab": {
     "base_uri": "https://localhost:8080/"
    },
    "id": "g6uelgD3H3TN",
    "outputId": "800732e5-eefb-4fd5-badc-3437f8b15221"
   },
   "outputs": [
    {
     "name": "stdout",
     "output_type": "stream",
     "text": [
      "Parameter 1        0.0\n",
      "Parameter 2        0.0\n",
      "Parameter 3        0.0\n",
      "Parameter 4        0.0\n",
      "Parameter 5        0.0\n",
      "Parameter 6        0.0\n",
      "Parameter 7        0.0\n",
      "Parameter 8        0.0\n",
      "Parameter 9        0.0\n",
      "Parameter 10       0.0\n",
      "Parameter 11       0.0\n",
      "Signal_Strength    0.0\n",
      "dtype: float64\n"
     ]
    }
   ],
   "source": [
    "# Checking for missing values and calculating the percentage\n",
    "missing_percentage = (df.isnull().sum() / len(df)) * 100\n",
    "\n",
    "# Print the percentage of missing values for each attribute\n",
    "print(missing_percentage)"
   ]
  },
  {
   "cell_type": "markdown",
   "metadata": {
    "id": "QyDhEeYd5g2I"
   },
   "source": [
    "There are no missing values present in the dataset"
   ]
  },
  {
   "cell_type": "markdown",
   "metadata": {
    "id": "y1myhjw9MeTc"
   },
   "source": [
    "#### **1.C. Check for presence of duplicate records in the dataset and impute with appropriate method.**"
   ]
  },
  {
   "cell_type": "code",
   "execution_count": 32,
   "metadata": {
    "colab": {
     "base_uri": "https://localhost:8080/"
    },
    "id": "mwo1dX49Mg-p",
    "outputId": "96bb5edf-0f32-45ed-d21f-d2aee893a096"
   },
   "outputs": [
    {
     "name": "stdout",
     "output_type": "stream",
     "text": [
      "Number of duplicate records: 240\n",
      "Number of duplicate records after removal: 0\n"
     ]
    }
   ],
   "source": [
    "# Check for presence of duplicate records in the dataset\n",
    "duplicates = df.duplicated().sum()\n",
    "print(\"Number of duplicate records:\", duplicates)\n",
    "\n",
    "# Remove duplicates, keeping the first occurrence\n",
    "df.drop_duplicates(keep='first', inplace=True)\n",
    "\n",
    "# Rechecking if there are any duplicate values present after removal\n",
    "duplicates_after_removal = df.duplicated().sum()\n",
    "print(\"Number of duplicate records after removal:\", duplicates_after_removal)"
   ]
  },
  {
   "cell_type": "markdown",
   "metadata": {
    "id": "A9m_FQNxNz69"
   },
   "source": [
    "### **1.D. Visualise distribution of the target variable.**"
   ]
  },
  {
   "cell_type": "code",
   "execution_count": 33,
   "metadata": {
    "colab": {
     "base_uri": "https://localhost:8080/",
     "height": 564
    },
    "id": "crsdaYGijJzL",
    "outputId": "e009c674-2b52-45fb-aaba-8a46b1c5f662"
   },
   "outputs": [
    {
     "data": {
      "image/png": "[encoded data removed]",
      "text/plain": [
       "<Figure size 800x600 with 1 Axes>"
      ]
     },
     "metadata": {},
     "output_type": "display_data"
    }
   ],
   "source": [
    "target_column = 'Signal_Strength'\n",
    "\n",
    "# Calculate value counts for each category\n",
    "value_counts = df[target_column].value_counts()\n",
    "\n",
    "# Create a vertical bar plot to visualize the distribution\n",
    "plt.figure(figsize=(8, 6))\n",
    "plt.bar(value_counts.index, value_counts.values, color='skyblue', edgecolor='black')\n",
    "plt.title('Distribution of Signal Strength')\n",
    "plt.xlabel('Signal Strength')\n",
    "plt.ylabel('Frequency')\n",
    "plt.grid(True)\n",
    "plt.show()"
   ]
  },
  {
   "cell_type": "markdown",
   "metadata": {
    "id": "iKtUpRCvlcdn"
   },
   "source": [
    "### **1.E. Share insights from the initial data analysis (at least 2)**."
   ]
  },
  {
   "cell_type": "markdown",
   "metadata": {
    "id": "CnY4x26uqRnU"
   },
   "source": [
    "- The signal predominantly favors values around 5 and 6, displaying a bias in that range.\n",
    "- The least signal strength is 3.\n",
    "- The highest frequency is around 580.\n",
    "- Additionally, the sensors have varying ranges for different attributes, underscoring the need for normalization."
   ]
  },
  {
   "cell_type": "markdown",
   "metadata": {},
   "source": [
    "### 2. Data preprocessing. "
   ]
  },
  {
   "cell_type": "markdown",
   "metadata": {
    "id": "XHuHua_sqrj9"
   },
   "source": [
    "### **2.A. Split the data into X & Y.**"
   ]
  },
  {
   "cell_type": "code",
   "execution_count": 34,
   "metadata": {
    "id": "_JYnwzSDqTlw"
   },
   "outputs": [],
   "source": [
    "X = df.drop('Signal_Strength',axis=1)   # Independent variables\n",
    "y = df['Signal_Strength']               # Target variable"
   ]
  },
  {
   "cell_type": "markdown",
   "metadata": {
    "id": "sWr76hWnrZV9"
   },
   "source": [
    " ### **2.B. Split the data into train & test with 70:30 proportion.**"
   ]
  },
  {
   "cell_type": "code",
   "execution_count": 35,
   "metadata": {
    "id": "vovzJj4UrN_4"
   },
   "outputs": [],
   "source": [
    "X_train, X_test, y_train, y_test = train_test_split(X, y, test_size=0.30, random_state=12)"
   ]
  },
  {
   "cell_type": "markdown",
   "metadata": {
    "id": "6gTmeHmNsuPw"
   },
   "source": [
    "### **2.C. Print shape of all the 4 variables and verify if train and test data is in sync.**"
   ]
  },
  {
   "cell_type": "code",
   "execution_count": 36,
   "metadata": {
    "colab": {
     "base_uri": "https://localhost:8080/"
    },
    "id": "vvw0G9lbsf-y",
    "outputId": "31ad05b6-7dd8-4568-af6a-5e23056b64a7"
   },
   "outputs": [
    {
     "name": "stdout",
     "output_type": "stream",
     "text": [
      "Shape of X_train: (951, 11)\n",
      "Shape of X_test: (408, 11)\n",
      "Shape of y_train: (951,)\n",
      "Shape of y_test: (408,)\n"
     ]
    }
   ],
   "source": [
    "print(\"Shape of X_train:\", X_train.shape)\n",
    "print(\"Shape of X_test:\", X_test.shape)\n",
    "print(\"Shape of y_train:\", y_train.shape)\n",
    "print(\"Shape of y_test:\", y_test.shape)"
   ]
  },
  {
   "cell_type": "markdown",
   "metadata": {
    "id": "Rl7lHz3DuDdW"
   },
   "source": [
    "### **2.D. Normalise the train and test data with appropriate method.**"
   ]
  },
  {
   "cell_type": "code",
   "execution_count": 37,
   "metadata": {
    "id": "yZCvsf_Nse0s"
   },
   "outputs": [],
   "source": [
    "# Initialize the StandardScaler\n",
    "scaler = StandardScaler()\n",
    "\n",
    "# Fit the scaler on the training data and transform it\n",
    "X_train_scaled = scaler.fit_transform(X_train)\n",
    "\n",
    "# Transform the test data using the same scaler\n",
    "X_test_scaled = scaler.transform(X_test)"
   ]
  },
  {
   "cell_type": "code",
   "execution_count": 38,
   "metadata": {
    "colab": {
     "base_uri": "https://localhost:8080/"
    },
    "id": "ocevaJC00kgK",
    "outputId": "6a97fad5-48c1-4017-d593-99ab93aedf68"
   },
   "outputs": [
    {
     "data": {
      "text/plain": [
       "array([[-1.35376931, -1.30626009, -0.10719318, ...,  0.12443142,\n",
       "        -0.68165575, -0.10569495],\n",
       "       [ 2.43446605, -0.75397567,  1.12533943, ..., -1.52261956,\n",
       "         0.90152168, -0.10569495],\n",
       "       [ 2.03868026, -0.80920411,  1.12533943, ..., -0.95248653,\n",
       "        -0.28586139, -0.10569495],\n",
       "       ...,\n",
       "       [-1.07106518,  0.18490784, -0.62074844, ...,  0.12443142,\n",
       "        -0.34240344,  0.08145645],\n",
       "       [-1.18414683,  0.68196382, -1.08294817, ...,  1.64478616,\n",
       "        -0.68165575,  1.4383041 ],\n",
       "       [-0.84490187,  1.5656189 , -1.1343037 , ...,  1.26469748,\n",
       "        -0.00315113,  0.36218355]])"
      ]
     },
     "execution_count": 38,
     "metadata": {},
     "output_type": "execute_result"
    }
   ],
   "source": [
    "X_train_scaled"
   ]
  },
  {
   "cell_type": "code",
   "execution_count": 39,
   "metadata": {
    "colab": {
     "base_uri": "https://localhost:8080/"
    },
    "id": "82j-zfhr1d7P",
    "outputId": "373791e3-b826-46b7-d157-a8463efefa6d"
   },
   "outputs": [
    {
     "data": {
      "text/plain": [
       "array([[ 1.81251696,  0.35059317,  1.63889469, ..., -0.8257903 ,\n",
       "        -0.05969319,  0.54933495],\n",
       "       [-0.44911609,  1.34470513, -0.36397081, ..., -0.69909407,\n",
       "        -0.45548754, -1.13502765],\n",
       "       [ 2.43446605, -1.19580321,  2.30651652, ..., -2.72623373,\n",
       "         0.90152168, -0.57357345],\n",
       "       ...,\n",
       "       [ 1.75597613, -1.47194542,  0.8685618 , ..., -1.20587898,\n",
       "         0.90152168, -1.04145195],\n",
       "       [-0.95798353,  1.51039046, -1.23701475, ...,  1.32804559,\n",
       "        -0.90782395,  1.67224335],\n",
       "       [-0.78836105, -0.09123437, -0.20990424, ...,  0.56786822,\n",
       "         1.01460578,  0.73648635]])"
      ]
     },
     "execution_count": 39,
     "metadata": {},
     "output_type": "execute_result"
    }
   ],
   "source": [
    "X_test_scaled"
   ]
  },
  {
   "cell_type": "markdown",
   "metadata": {
    "id": "1wdEPhhtu8Vs"
   },
   "source": [
    "### **2.E.Transform Labels into format acceptable by Neural Network.**"
   ]
  },
  {
   "cell_type": "code",
   "execution_count": 40,
   "metadata": {
    "id": "HIYAfAbHwtVe"
   },
   "outputs": [],
   "source": [
    "y_train = to_categorical(y_train)\n",
    "y_test = to_categorical(y_test)"
   ]
  },
  {
   "cell_type": "code",
   "execution_count": 41,
   "metadata": {
    "colab": {
     "base_uri": "https://localhost:8080/"
    },
    "id": "CxU8n09V0JA4",
    "outputId": "f3813df5-29d6-4d74-ba14-46f2e81a10fa"
   },
   "outputs": [
    {
     "data": {
      "text/plain": [
       "array([[0., 0., 0., ..., 1., 0., 0.],\n",
       "       [0., 0., 0., ..., 1., 0., 0.],\n",
       "       [0., 0., 0., ..., 0., 0., 0.],\n",
       "       ...,\n",
       "       [0., 0., 0., ..., 1., 0., 0.],\n",
       "       [0., 0., 0., ..., 0., 0., 0.],\n",
       "       [0., 0., 0., ..., 1., 0., 0.]], dtype=float32)"
      ]
     },
     "execution_count": 41,
     "metadata": {},
     "output_type": "execute_result"
    }
   ],
   "source": [
    "y_train"
   ]
  },
  {
   "cell_type": "code",
   "execution_count": 42,
   "metadata": {
    "colab": {
     "base_uri": "https://localhost:8080/"
    },
    "id": "2AhW4L3X0Q-H",
    "outputId": "0e43ab85-d5b5-4cd6-d31f-d233c0ffd119"
   },
   "outputs": [
    {
     "data": {
      "text/plain": [
       "array([[0., 0., 0., ..., 1., 0., 0.],\n",
       "       [0., 0., 0., ..., 0., 0., 0.],\n",
       "       [0., 0., 0., ..., 0., 0., 1.],\n",
       "       ...,\n",
       "       [0., 0., 0., ..., 1., 0., 0.],\n",
       "       [0., 0., 0., ..., 0., 0., 0.],\n",
       "       [0., 0., 0., ..., 1., 0., 0.]], dtype=float32)"
      ]
     },
     "execution_count": 42,
     "metadata": {},
     "output_type": "execute_result"
    }
   ],
   "source": [
    "y_test"
   ]
  },
  {
   "cell_type": "markdown",
   "metadata": {},
   "source": [
    "### 3. Model Training & Evaluation using Neural Network."
   ]
  },
  {
   "cell_type": "markdown",
   "metadata": {
    "id": "DPQ1fyv348oX"
   },
   "source": [
    "### **3.A. Design a Neural Network to train a classifier.**"
   ]
  },
  {
   "cell_type": "code",
   "execution_count": 43,
   "metadata": {
    "colab": {
     "base_uri": "https://localhost:8080/"
    },
    "id": "0o51hr30GqMt",
    "outputId": "26a7b627-01d4-45c0-f059-9c01a548be37"
   },
   "outputs": [
    {
     "name": "stdout",
     "output_type": "stream",
     "text": [
      "Model: \"sequential_1\"\n",
      "_________________________________________________________________\n",
      " Layer (type)                Output Shape              Param #   \n",
      "=================================================================\n",
      " dense_3 (Dense)             (None, 11)                132       \n",
      "                                                                 \n",
      " batch_normalization_1 (Bat  (None, 11)                44        \n",
      " chNormalization)                                                \n",
      "                                                                 \n",
      " dense_4 (Dense)             (None, 9)                 108       \n",
      "                                                                 \n",
      " dense_5 (Dense)             (None, 9)                 90        \n",
      "                                                                 \n",
      "=================================================================\n",
      "Total params: 374 (1.46 KB)\n",
      "Trainable params: 352 (1.38 KB)\n",
      "Non-trainable params: 22 (88.00 Byte)\n",
      "_________________________________________________________________\n"
     ]
    }
   ],
   "source": [
    "NN_model_1= Sequential()\n",
    "\n",
    "# The Input Layer :\n",
    "NN_model_1.add(Dense(11, kernel_initializer='normal',input_dim = X_train.shape[1], activation='relu'))\n",
    "NN_model_1.add(BatchNormalization())\n",
    "\n",
    "NN_model_1.add(Dense(9,activation='relu'))\n",
    "\n",
    "# The Output Layer :\n",
    "NN_model_1.add(Dense(9,activation='softmax'))  # except softmax\n",
    "\n",
    "# Compile the network :\n",
    "NN_model_1.compile(loss='mean_absolute_error', optimizer='adam', metrics=['MeanSquaredError'])\n",
    "NN_model_1.summary()"
   ]
  },
  {
   "cell_type": "markdown",
   "metadata": {
    "id": "_rIfw-YfAcuP"
   },
   "source": [
    "### **3.B. Train the classifier using previously designed Architecture**"
   ]
  },
  {
   "cell_type": "code",
   "execution_count": 44,
   "metadata": {
    "colab": {
     "base_uri": "https://localhost:8080/"
    },
    "id": "ztP0jrVRF73h",
    "outputId": "9a95668f-9c81-4955-8530-5a94c72dd5fc"
   },
   "outputs": [
    {
     "name": "stdout",
     "output_type": "stream",
     "text": [
      "Epoch 1/100\n",
      "8/8 [==============================] - 2s 27ms/step - loss: 0.1951 - mean_squared_error: 0.1013 - val_loss: 0.1963 - val_mean_squared_error: 0.0976\n",
      "Epoch 2/100\n",
      "8/8 [==============================] - 0s 8ms/step - loss: 0.1902 - mean_squared_error: 0.0968 - val_loss: 0.1953 - val_mean_squared_error: 0.0967\n",
      "Epoch 3/100\n",
      "8/8 [==============================] - 0s 11ms/step - loss: 0.1844 - mean_squared_error: 0.0923 - val_loss: 0.1940 - val_mean_squared_error: 0.0955\n",
      "Epoch 4/100\n",
      "8/8 [==============================] - 0s 8ms/step - loss: 0.1779 - mean_squared_error: 0.0881 - val_loss: 0.1924 - val_mean_squared_error: 0.0941\n",
      "Epoch 5/100\n",
      "8/8 [==============================] - 0s 10ms/step - loss: 0.1717 - mean_squared_error: 0.0848 - val_loss: 0.1904 - val_mean_squared_error: 0.0924\n",
      "Epoch 6/100\n",
      "8/8 [==============================] - 0s 10ms/step - loss: 0.1655 - mean_squared_error: 0.0819 - val_loss: 0.1882 - val_mean_squared_error: 0.0906\n",
      "Epoch 7/100\n",
      "8/8 [==============================] - 0s 9ms/step - loss: 0.1592 - mean_squared_error: 0.0797 - val_loss: 0.1854 - val_mean_squared_error: 0.0885\n",
      "Epoch 8/100\n",
      "8/8 [==============================] - 0s 8ms/step - loss: 0.1531 - mean_squared_error: 0.0777 - val_loss: 0.1823 - val_mean_squared_error: 0.0862\n",
      "Epoch 9/100\n",
      "8/8 [==============================] - 0s 8ms/step - loss: 0.1475 - mean_squared_error: 0.0768 - val_loss: 0.1788 - val_mean_squared_error: 0.0839\n",
      "Epoch 10/100\n",
      "8/8 [==============================] - 0s 8ms/step - loss: 0.1414 - mean_squared_error: 0.0757 - val_loss: 0.1752 - val_mean_squared_error: 0.0817\n",
      "Epoch 11/100\n",
      "8/8 [==============================] - 0s 8ms/step - loss: 0.1363 - mean_squared_error: 0.0753 - val_loss: 0.1712 - val_mean_squared_error: 0.0796\n",
      "Epoch 12/100\n",
      "8/8 [==============================] - 0s 8ms/step - loss: 0.1313 - mean_squared_error: 0.0755 - val_loss: 0.1671 - val_mean_squared_error: 0.0776\n",
      "Epoch 13/100\n",
      "8/8 [==============================] - 0s 9ms/step - loss: 0.1268 - mean_squared_error: 0.0754 - val_loss: 0.1631 - val_mean_squared_error: 0.0758\n",
      "Epoch 14/100\n",
      "8/8 [==============================] - 0s 9ms/step - loss: 0.1230 - mean_squared_error: 0.0759 - val_loss: 0.1592 - val_mean_squared_error: 0.0744\n",
      "Epoch 15/100\n",
      "8/8 [==============================] - 0s 10ms/step - loss: 0.1195 - mean_squared_error: 0.0764 - val_loss: 0.1553 - val_mean_squared_error: 0.0731\n",
      "Epoch 16/100\n",
      "8/8 [==============================] - 0s 9ms/step - loss: 0.1167 - mean_squared_error: 0.0771 - val_loss: 0.1516 - val_mean_squared_error: 0.0720\n",
      "Epoch 17/100\n",
      "8/8 [==============================] - 0s 10ms/step - loss: 0.1143 - mean_squared_error: 0.0777 - val_loss: 0.1480 - val_mean_squared_error: 0.0711\n",
      "Epoch 18/100\n",
      "8/8 [==============================] - 0s 10ms/step - loss: 0.1122 - mean_squared_error: 0.0785 - val_loss: 0.1446 - val_mean_squared_error: 0.0703\n",
      "Epoch 19/100\n",
      "8/8 [==============================] - 0s 10ms/step - loss: 0.1100 - mean_squared_error: 0.0786 - val_loss: 0.1414 - val_mean_squared_error: 0.0696\n",
      "Epoch 20/100\n",
      "8/8 [==============================] - 0s 10ms/step - loss: 0.1089 - mean_squared_error: 0.0799 - val_loss: 0.1381 - val_mean_squared_error: 0.0691\n",
      "Epoch 21/100\n",
      "8/8 [==============================] - 0s 10ms/step - loss: 0.1074 - mean_squared_error: 0.0804 - val_loss: 0.1351 - val_mean_squared_error: 0.0687\n",
      "Epoch 22/100\n",
      "8/8 [==============================] - 0s 10ms/step - loss: 0.1063 - mean_squared_error: 0.0810 - val_loss: 0.1323 - val_mean_squared_error: 0.0685\n",
      "Epoch 23/100\n",
      "8/8 [==============================] - 0s 8ms/step - loss: 0.1050 - mean_squared_error: 0.0809 - val_loss: 0.1297 - val_mean_squared_error: 0.0682\n",
      "Epoch 24/100\n",
      "8/8 [==============================] - 0s 8ms/step - loss: 0.1045 - mean_squared_error: 0.0815 - val_loss: 0.1271 - val_mean_squared_error: 0.0680\n",
      "Epoch 25/100\n",
      "8/8 [==============================] - 0s 8ms/step - loss: 0.1032 - mean_squared_error: 0.0820 - val_loss: 0.1245 - val_mean_squared_error: 0.0679\n",
      "Epoch 26/100\n",
      "8/8 [==============================] - 0s 7ms/step - loss: 0.1028 - mean_squared_error: 0.0830 - val_loss: 0.1221 - val_mean_squared_error: 0.0679\n",
      "Epoch 27/100\n",
      "8/8 [==============================] - 0s 10ms/step - loss: 0.1009 - mean_squared_error: 0.0821 - val_loss: 0.1198 - val_mean_squared_error: 0.0679\n",
      "Epoch 28/100\n",
      "8/8 [==============================] - 0s 9ms/step - loss: 0.1005 - mean_squared_error: 0.0827 - val_loss: 0.1172 - val_mean_squared_error: 0.0678\n",
      "Epoch 29/100\n",
      "8/8 [==============================] - 0s 8ms/step - loss: 0.0999 - mean_squared_error: 0.0829 - val_loss: 0.1151 - val_mean_squared_error: 0.0680\n",
      "Epoch 30/100\n",
      "8/8 [==============================] - 0s 9ms/step - loss: 0.0988 - mean_squared_error: 0.0824 - val_loss: 0.1130 - val_mean_squared_error: 0.0681\n",
      "Epoch 31/100\n",
      "8/8 [==============================] - 0s 8ms/step - loss: 0.0979 - mean_squared_error: 0.0818 - val_loss: 0.1111 - val_mean_squared_error: 0.0684\n",
      "Epoch 32/100\n",
      "8/8 [==============================] - 0s 9ms/step - loss: 0.0972 - mean_squared_error: 0.0816 - val_loss: 0.1094 - val_mean_squared_error: 0.0687\n",
      "Epoch 33/100\n",
      "8/8 [==============================] - 0s 9ms/step - loss: 0.0970 - mean_squared_error: 0.0817 - val_loss: 0.1079 - val_mean_squared_error: 0.0692\n",
      "Epoch 34/100\n",
      "8/8 [==============================] - 0s 8ms/step - loss: 0.0962 - mean_squared_error: 0.0816 - val_loss: 0.1064 - val_mean_squared_error: 0.0696\n",
      "Epoch 35/100\n",
      "8/8 [==============================] - 0s 7ms/step - loss: 0.0956 - mean_squared_error: 0.0809 - val_loss: 0.1053 - val_mean_squared_error: 0.0698\n",
      "Epoch 36/100\n",
      "8/8 [==============================] - 0s 9ms/step - loss: 0.0947 - mean_squared_error: 0.0799 - val_loss: 0.1042 - val_mean_squared_error: 0.0704\n",
      "Epoch 37/100\n",
      "8/8 [==============================] - 0s 9ms/step - loss: 0.0948 - mean_squared_error: 0.0802 - val_loss: 0.1029 - val_mean_squared_error: 0.0711\n",
      "Epoch 38/100\n",
      "8/8 [==============================] - 0s 10ms/step - loss: 0.0942 - mean_squared_error: 0.0804 - val_loss: 0.1017 - val_mean_squared_error: 0.0719\n",
      "Epoch 39/100\n",
      "8/8 [==============================] - 0s 15ms/step - loss: 0.0939 - mean_squared_error: 0.0805 - val_loss: 0.1008 - val_mean_squared_error: 0.0722\n",
      "Epoch 40/100\n",
      "8/8 [==============================] - 0s 12ms/step - loss: 0.0938 - mean_squared_error: 0.0798 - val_loss: 0.0998 - val_mean_squared_error: 0.0726\n",
      "Epoch 41/100\n",
      "8/8 [==============================] - 0s 12ms/step - loss: 0.0932 - mean_squared_error: 0.0801 - val_loss: 0.0988 - val_mean_squared_error: 0.0730\n",
      "Epoch 42/100\n",
      "8/8 [==============================] - 0s 12ms/step - loss: 0.0929 - mean_squared_error: 0.0795 - val_loss: 0.0980 - val_mean_squared_error: 0.0733\n",
      "Epoch 43/100\n",
      "8/8 [==============================] - 0s 13ms/step - loss: 0.0925 - mean_squared_error: 0.0787 - val_loss: 0.0973 - val_mean_squared_error: 0.0733\n",
      "Epoch 44/100\n",
      "8/8 [==============================] - 0s 12ms/step - loss: 0.0924 - mean_squared_error: 0.0778 - val_loss: 0.0968 - val_mean_squared_error: 0.0733\n",
      "Epoch 45/100\n",
      "8/8 [==============================] - 0s 11ms/step - loss: 0.0910 - mean_squared_error: 0.0763 - val_loss: 0.0962 - val_mean_squared_error: 0.0733\n",
      "Epoch 46/100\n",
      "8/8 [==============================] - 0s 12ms/step - loss: 0.0912 - mean_squared_error: 0.0755 - val_loss: 0.0958 - val_mean_squared_error: 0.0736\n",
      "Epoch 47/100\n",
      "8/8 [==============================] - 0s 12ms/step - loss: 0.0914 - mean_squared_error: 0.0760 - val_loss: 0.0952 - val_mean_squared_error: 0.0742\n",
      "Epoch 48/100\n",
      "8/8 [==============================] - 0s 12ms/step - loss: 0.0896 - mean_squared_error: 0.0745 - val_loss: 0.0946 - val_mean_squared_error: 0.0744\n",
      "Epoch 49/100\n",
      "8/8 [==============================] - 0s 12ms/step - loss: 0.0888 - mean_squared_error: 0.0741 - val_loss: 0.0941 - val_mean_squared_error: 0.0750\n",
      "Epoch 50/100\n",
      "8/8 [==============================] - 0s 13ms/step - loss: 0.0892 - mean_squared_error: 0.0747 - val_loss: 0.0939 - val_mean_squared_error: 0.0758\n",
      "Epoch 51/100\n",
      "8/8 [==============================] - 0s 12ms/step - loss: 0.0876 - mean_squared_error: 0.0733 - val_loss: 0.0936 - val_mean_squared_error: 0.0761\n",
      "Epoch 52/100\n",
      "8/8 [==============================] - 0s 18ms/step - loss: 0.0878 - mean_squared_error: 0.0738 - val_loss: 0.0933 - val_mean_squared_error: 0.0766\n",
      "Epoch 53/100\n",
      "8/8 [==============================] - 0s 14ms/step - loss: 0.0871 - mean_squared_error: 0.0735 - val_loss: 0.0931 - val_mean_squared_error: 0.0770\n",
      "Epoch 54/100\n",
      "8/8 [==============================] - 0s 13ms/step - loss: 0.0865 - mean_squared_error: 0.0735 - val_loss: 0.0927 - val_mean_squared_error: 0.0778\n",
      "Epoch 55/100\n",
      "8/8 [==============================] - 0s 12ms/step - loss: 0.0864 - mean_squared_error: 0.0740 - val_loss: 0.0924 - val_mean_squared_error: 0.0789\n",
      "Epoch 56/100\n",
      "8/8 [==============================] - 0s 12ms/step - loss: 0.0862 - mean_squared_error: 0.0743 - val_loss: 0.0921 - val_mean_squared_error: 0.0792\n",
      "Epoch 57/100\n",
      "8/8 [==============================] - 0s 12ms/step - loss: 0.0857 - mean_squared_error: 0.0741 - val_loss: 0.0921 - val_mean_squared_error: 0.0787\n",
      "Epoch 58/100\n",
      "8/8 [==============================] - 0s 13ms/step - loss: 0.0861 - mean_squared_error: 0.0744 - val_loss: 0.0918 - val_mean_squared_error: 0.0790\n",
      "Epoch 59/100\n",
      "8/8 [==============================] - 0s 13ms/step - loss: 0.0857 - mean_squared_error: 0.0744 - val_loss: 0.0919 - val_mean_squared_error: 0.0792\n",
      "Epoch 60/100\n",
      "8/8 [==============================] - 0s 11ms/step - loss: 0.0858 - mean_squared_error: 0.0745 - val_loss: 0.0919 - val_mean_squared_error: 0.0793\n",
      "Epoch 61/100\n",
      "8/8 [==============================] - 0s 13ms/step - loss: 0.0856 - mean_squared_error: 0.0747 - val_loss: 0.0918 - val_mean_squared_error: 0.0800\n",
      "Epoch 62/100\n",
      "8/8 [==============================] - 0s 13ms/step - loss: 0.0851 - mean_squared_error: 0.0742 - val_loss: 0.0917 - val_mean_squared_error: 0.0800\n",
      "Epoch 63/100\n",
      "8/8 [==============================] - 0s 15ms/step - loss: 0.0858 - mean_squared_error: 0.0749 - val_loss: 0.0919 - val_mean_squared_error: 0.0805\n",
      "Epoch 64/100\n",
      "8/8 [==============================] - 0s 11ms/step - loss: 0.0847 - mean_squared_error: 0.0746 - val_loss: 0.0917 - val_mean_squared_error: 0.0804\n",
      "Epoch 65/100\n",
      "8/8 [==============================] - 0s 12ms/step - loss: 0.0846 - mean_squared_error: 0.0746 - val_loss: 0.0914 - val_mean_squared_error: 0.0803\n",
      "Epoch 66/100\n",
      "8/8 [==============================] - 0s 12ms/step - loss: 0.0836 - mean_squared_error: 0.0737 - val_loss: 0.0915 - val_mean_squared_error: 0.0804\n",
      "Epoch 67/100\n",
      "8/8 [==============================] - 0s 12ms/step - loss: 0.0837 - mean_squared_error: 0.0744 - val_loss: 0.0916 - val_mean_squared_error: 0.0808\n",
      "Epoch 68/100\n",
      "8/8 [==============================] - 0s 12ms/step - loss: 0.0835 - mean_squared_error: 0.0742 - val_loss: 0.0916 - val_mean_squared_error: 0.0812\n",
      "Epoch 69/100\n",
      "8/8 [==============================] - 0s 12ms/step - loss: 0.0835 - mean_squared_error: 0.0743 - val_loss: 0.0920 - val_mean_squared_error: 0.0813\n",
      "Epoch 70/100\n",
      "8/8 [==============================] - 0s 13ms/step - loss: 0.0836 - mean_squared_error: 0.0745 - val_loss: 0.0919 - val_mean_squared_error: 0.0814\n",
      "Epoch 71/100\n",
      "8/8 [==============================] - 0s 12ms/step - loss: 0.0830 - mean_squared_error: 0.0739 - val_loss: 0.0918 - val_mean_squared_error: 0.0813\n",
      "Epoch 72/100\n",
      "8/8 [==============================] - 0s 12ms/step - loss: 0.0828 - mean_squared_error: 0.0740 - val_loss: 0.0915 - val_mean_squared_error: 0.0816\n",
      "Epoch 73/100\n",
      "8/8 [==============================] - 0s 13ms/step - loss: 0.0827 - mean_squared_error: 0.0741 - val_loss: 0.0918 - val_mean_squared_error: 0.0821\n",
      "Epoch 74/100\n",
      "8/8 [==============================] - 0s 13ms/step - loss: 0.0824 - mean_squared_error: 0.0738 - val_loss: 0.0920 - val_mean_squared_error: 0.0825\n",
      "Epoch 75/100\n",
      "8/8 [==============================] - 0s 8ms/step - loss: 0.0828 - mean_squared_error: 0.0739 - val_loss: 0.0924 - val_mean_squared_error: 0.0827\n",
      "Epoch 76/100\n",
      "8/8 [==============================] - 0s 8ms/step - loss: 0.0830 - mean_squared_error: 0.0748 - val_loss: 0.0924 - val_mean_squared_error: 0.0827\n",
      "Epoch 77/100\n",
      "8/8 [==============================] - 0s 11ms/step - loss: 0.0826 - mean_squared_error: 0.0744 - val_loss: 0.0921 - val_mean_squared_error: 0.0827\n",
      "Epoch 78/100\n",
      "8/8 [==============================] - 0s 10ms/step - loss: 0.0839 - mean_squared_error: 0.0759 - val_loss: 0.0922 - val_mean_squared_error: 0.0829\n",
      "Epoch 79/100\n",
      "8/8 [==============================] - 0s 8ms/step - loss: 0.0828 - mean_squared_error: 0.0746 - val_loss: 0.0925 - val_mean_squared_error: 0.0830\n",
      "Epoch 80/100\n",
      "8/8 [==============================] - 0s 10ms/step - loss: 0.0830 - mean_squared_error: 0.0746 - val_loss: 0.0925 - val_mean_squared_error: 0.0828\n",
      "Epoch 81/100\n",
      "8/8 [==============================] - 0s 10ms/step - loss: 0.0823 - mean_squared_error: 0.0743 - val_loss: 0.0925 - val_mean_squared_error: 0.0833\n",
      "Epoch 82/100\n",
      "8/8 [==============================] - 0s 10ms/step - loss: 0.0816 - mean_squared_error: 0.0740 - val_loss: 0.0929 - val_mean_squared_error: 0.0838\n",
      "Epoch 83/100\n",
      "8/8 [==============================] - 0s 8ms/step - loss: 0.0819 - mean_squared_error: 0.0741 - val_loss: 0.0934 - val_mean_squared_error: 0.0841\n",
      "Epoch 84/100\n",
      "8/8 [==============================] - 0s 8ms/step - loss: 0.0832 - mean_squared_error: 0.0753 - val_loss: 0.0931 - val_mean_squared_error: 0.0844\n",
      "Epoch 85/100\n",
      "8/8 [==============================] - 0s 9ms/step - loss: 0.0824 - mean_squared_error: 0.0749 - val_loss: 0.0924 - val_mean_squared_error: 0.0843\n",
      "Epoch 86/100\n",
      "8/8 [==============================] - 0s 10ms/step - loss: 0.0820 - mean_squared_error: 0.0745 - val_loss: 0.0925 - val_mean_squared_error: 0.0843\n",
      "Epoch 87/100\n",
      "8/8 [==============================] - 0s 10ms/step - loss: 0.0819 - mean_squared_error: 0.0743 - val_loss: 0.0926 - val_mean_squared_error: 0.0843\n",
      "Epoch 88/100\n",
      "8/8 [==============================] - 0s 8ms/step - loss: 0.0821 - mean_squared_error: 0.0744 - val_loss: 0.0926 - val_mean_squared_error: 0.0841\n",
      "Epoch 89/100\n",
      "8/8 [==============================] - 0s 10ms/step - loss: 0.0828 - mean_squared_error: 0.0752 - val_loss: 0.0924 - val_mean_squared_error: 0.0839\n",
      "Epoch 90/100\n",
      "8/8 [==============================] - 0s 8ms/step - loss: 0.0831 - mean_squared_error: 0.0756 - val_loss: 0.0924 - val_mean_squared_error: 0.0839\n",
      "Epoch 91/100\n",
      "8/8 [==============================] - 0s 11ms/step - loss: 0.0822 - mean_squared_error: 0.0748 - val_loss: 0.0923 - val_mean_squared_error: 0.0843\n",
      "Epoch 92/100\n",
      "8/8 [==============================] - 0s 8ms/step - loss: 0.0821 - mean_squared_error: 0.0749 - val_loss: 0.0927 - val_mean_squared_error: 0.0844\n",
      "Epoch 93/100\n",
      "8/8 [==============================] - 0s 10ms/step - loss: 0.0817 - mean_squared_error: 0.0745 - val_loss: 0.0927 - val_mean_squared_error: 0.0846\n",
      "Epoch 94/100\n",
      "8/8 [==============================] - 0s 8ms/step - loss: 0.0816 - mean_squared_error: 0.0746 - val_loss: 0.0926 - val_mean_squared_error: 0.0843\n",
      "Epoch 95/100\n",
      "8/8 [==============================] - 0s 9ms/step - loss: 0.0817 - mean_squared_error: 0.0744 - val_loss: 0.0928 - val_mean_squared_error: 0.0847\n",
      "Epoch 96/100\n",
      "8/8 [==============================] - 0s 8ms/step - loss: 0.0828 - mean_squared_error: 0.0756 - val_loss: 0.0923 - val_mean_squared_error: 0.0845\n",
      "Epoch 97/100\n",
      "8/8 [==============================] - 0s 9ms/step - loss: 0.0820 - mean_squared_error: 0.0752 - val_loss: 0.0923 - val_mean_squared_error: 0.0847\n",
      "Epoch 98/100\n",
      "8/8 [==============================] - 0s 10ms/step - loss: 0.0818 - mean_squared_error: 0.0748 - val_loss: 0.0931 - val_mean_squared_error: 0.0851\n",
      "Epoch 99/100\n",
      "8/8 [==============================] - 0s 9ms/step - loss: 0.0809 - mean_squared_error: 0.0736 - val_loss: 0.0937 - val_mean_squared_error: 0.0851\n",
      "Epoch 100/100\n",
      "8/8 [==============================] - 0s 9ms/step - loss: 0.0809 - mean_squared_error: 0.0734 - val_loss: 0.0935 - val_mean_squared_error: 0.0848\n"
     ]
    }
   ],
   "source": [
    "NN_model_training_1 = NN_model_1.fit(X_train_scaled, y_train, validation_data=(X_test_scaled,y_test), epochs=100, batch_size=128)"
   ]
  },
  {
   "cell_type": "markdown",
   "metadata": {
    "id": "zVvPAON1l_tK"
   },
   "source": [
    "### 3.C. Plot 2 separate visuals.\n",
    "\n",
    "### i. Training Loss and Validation Loss.\n",
    "### ii. Training Accuracy and Validation Accuracy."
   ]
  },
  {
   "cell_type": "code",
   "execution_count": 45,
   "metadata": {
    "colab": {
     "base_uri": "https://localhost:8080/"
    },
    "id": "-l7yobQ9msAZ",
    "outputId": "e1038755-9593-4f66-cbca-f402cd224f87"
   },
   "outputs": [
    {
     "data": {
      "text/plain": [
       "dict_keys(['loss', 'mean_squared_error', 'val_loss', 'val_mean_squared_error'])"
      ]
     },
     "execution_count": 45,
     "metadata": {},
     "output_type": "execute_result"
    }
   ],
   "source": [
    "# Access training history keys\n",
    "history= NN_model_training_1.history.keys()\n",
    "history"
   ]
  },
  {
   "cell_type": "code",
   "execution_count": 46,
   "metadata": {
    "colab": {
     "base_uri": "https://localhost:8080/",
     "height": 564
    },
    "id": "wgTWPW9vnAEC",
    "outputId": "f6109ca9-5e60-45a5-dc23-9c3488b634b5"
   },
   "outputs": [
    {
     "data": {
      "image/png": "[encoded data removed]",
      "text/plain": [
       "<Figure size 1200x600 with 2 Axes>"
      ]
     },
     "metadata": {},
     "output_type": "display_data"
    }
   ],
   "source": [
    "import matplotlib.pyplot as plt\n",
    "\n",
    "# Plot Training Loss and Validation Loss\n",
    "plt.figure(figsize=(12, 6))\n",
    "plt.subplot(1, 2, 1)\n",
    "epochs = range(1, 100 + 1)\n",
    "plt.plot(NN_model_training_1.history['loss'], label='Training Loss')\n",
    "plt.plot(NN_model_training_1.history['val_loss'], label='Validation Loss')\n",
    "plt.xlabel('Epochs')\n",
    "plt.ylabel('Loss')\n",
    "plt.legend()\n",
    "\n",
    "# Corrected code to access RMSE values\n",
    "Acc_train = NN_model_training_1.history['mean_squared_error']\n",
    "Acc_val = NN_model_training_1.history['val_mean_squared_error']\n",
    "\n",
    "plt.subplot(1, 2, 2)  # Add a subplot for accuracy\n",
    "plt.plot(epochs, Acc_train, 'g', label='Training RMSE')\n",
    "plt.plot(epochs, Acc_val, 'b', label='Validation RMSE')\n",
    "plt.title('Training and Validation accuracy')\n",
    "plt.xlabel('Epochs')\n",
    "plt.ylabel('RMSE')\n",
    "plt.legend()\n",
    "plt.show()"
   ]
  },
  {
   "cell_type": "markdown",
   "metadata": {
    "id": "r33yMKas-49U"
   },
   "source": [
    "### **3.D. Design new architecture/update existing architecture in attempt to improve the performance of the model.**"
   ]
  },
  {
   "cell_type": "code",
   "execution_count": 47,
   "metadata": {
    "colab": {
     "base_uri": "https://localhost:8080/"
    },
    "id": "dmnxpBNE-0RE",
    "outputId": "a9e67e4e-5f9a-4540-f170-c50cf5ca1b6c"
   },
   "outputs": [
    {
     "name": "stdout",
     "output_type": "stream",
     "text": [
      "Model: \"sequential_2\"\n",
      "_________________________________________________________________\n",
      " Layer (type)                Output Shape              Param #   \n",
      "=================================================================\n",
      " dense_6 (Dense)             (None, 11)                132       \n",
      "                                                                 \n",
      " batch_normalization_2 (Bat  (None, 11)                44        \n",
      " chNormalization)                                                \n",
      "                                                                 \n",
      " dense_7 (Dense)             (None, 9)                 108       \n",
      "                                                                 \n",
      " dense_8 (Dense)             (None, 9)                 90        \n",
      "                                                                 \n",
      " dense_9 (Dense)             (None, 9)                 90        \n",
      "                                                                 \n",
      "=================================================================\n",
      "Total params: 464 (1.81 KB)\n",
      "Trainable params: 442 (1.73 KB)\n",
      "Non-trainable params: 22 (88.00 Byte)\n",
      "_________________________________________________________________\n"
     ]
    }
   ],
   "source": [
    "NN_model_2 = Sequential()\n",
    "\n",
    "# The Input Layer :\n",
    "NN_model_2.add(Dense(11, kernel_initializer='normal',input_dim = X_train.shape[1], activation='relu'))\n",
    "NN_model_2.add(BatchNormalization())\n",
    "\n",
    "NN_model_2.add(Dense(9,activation='relu'))\n",
    "NN_model_2.add(Dense(9,activation='relu'))\n",
    "\n",
    "# The Output Layer :\n",
    "NN_model_2.add(Dense(9,activation='softmax'))\n",
    "\n",
    "# Compile the network :\n",
    "NN_model_2.compile(loss='categorical_crossentropy', optimizer='adam', metrics=['accuracy'])\n",
    "NN_model_2.summary()"
   ]
  },
  {
   "cell_type": "code",
   "execution_count": 48,
   "metadata": {
    "colab": {
     "base_uri": "https://localhost:8080/"
    },
    "id": "h7mapbsxAC1H",
    "outputId": "57d2bac7-60aa-41ce-f545-a3bbd34a0ac7"
   },
   "outputs": [
    {
     "name": "stdout",
     "output_type": "stream",
     "text": [
      "Epoch 1/100\n",
      "30/30 [==============================] - 2s 11ms/step - loss: 2.2140 - accuracy: 0.0768 - val_loss: 2.1324 - val_accuracy: 0.3971\n",
      "Epoch 2/100\n",
      "30/30 [==============================] - 0s 6ms/step - loss: 2.0038 - accuracy: 0.2839 - val_loss: 2.0258 - val_accuracy: 0.3971\n",
      "Epoch 3/100\n",
      "30/30 [==============================] - 0s 6ms/step - loss: 1.8175 - accuracy: 0.4385 - val_loss: 1.8979 - val_accuracy: 0.3922\n",
      "Epoch 4/100\n",
      "30/30 [==============================] - 0s 5ms/step - loss: 1.6407 - accuracy: 0.4543 - val_loss: 1.7664 - val_accuracy: 0.3995\n",
      "Epoch 5/100\n",
      "30/30 [==============================] - 0s 8ms/step - loss: 1.4662 - accuracy: 0.4700 - val_loss: 1.6372 - val_accuracy: 0.4387\n",
      "Epoch 6/100\n",
      "30/30 [==============================] - 0s 9ms/step - loss: 1.3065 - accuracy: 0.4995 - val_loss: 1.5009 - val_accuracy: 0.5147\n",
      "Epoch 7/100\n",
      "30/30 [==============================] - 0s 9ms/step - loss: 1.1873 - accuracy: 0.5258 - val_loss: 1.3688 - val_accuracy: 0.5637\n",
      "Epoch 8/100\n",
      "30/30 [==============================] - 0s 9ms/step - loss: 1.1103 - accuracy: 0.5563 - val_loss: 1.2510 - val_accuracy: 0.5956\n",
      "Epoch 9/100\n",
      "30/30 [==============================] - 1s 18ms/step - loss: 1.0564 - accuracy: 0.5783 - val_loss: 1.1685 - val_accuracy: 0.6078\n",
      "Epoch 10/100\n",
      "30/30 [==============================] - 1s 23ms/step - loss: 1.0285 - accuracy: 0.5962 - val_loss: 1.1061 - val_accuracy: 0.6078\n",
      "Epoch 11/100\n",
      "30/30 [==============================] - 0s 9ms/step - loss: 1.0004 - accuracy: 0.5931 - val_loss: 1.0677 - val_accuracy: 0.6054\n",
      "Epoch 12/100\n",
      "30/30 [==============================] - 0s 9ms/step - loss: 0.9932 - accuracy: 0.6046 - val_loss: 1.0319 - val_accuracy: 0.6029\n",
      "Epoch 13/100\n",
      "30/30 [==============================] - 0s 9ms/step - loss: 0.9758 - accuracy: 0.6120 - val_loss: 1.0109 - val_accuracy: 0.6005\n",
      "Epoch 14/100\n",
      "30/30 [==============================] - 0s 9ms/step - loss: 0.9759 - accuracy: 0.5952 - val_loss: 0.9937 - val_accuracy: 0.6103\n",
      "Epoch 15/100\n",
      "30/30 [==============================] - 0s 9ms/step - loss: 0.9637 - accuracy: 0.6025 - val_loss: 0.9827 - val_accuracy: 0.6078\n",
      "Epoch 16/100\n",
      "30/30 [==============================] - 0s 7ms/step - loss: 0.9566 - accuracy: 0.6057 - val_loss: 0.9714 - val_accuracy: 0.6078\n",
      "Epoch 17/100\n",
      "30/30 [==============================] - 0s 7ms/step - loss: 0.9432 - accuracy: 0.6046 - val_loss: 0.9679 - val_accuracy: 0.6152\n",
      "Epoch 18/100\n",
      "30/30 [==============================] - 0s 6ms/step - loss: 0.9474 - accuracy: 0.6078 - val_loss: 0.9633 - val_accuracy: 0.6225\n",
      "Epoch 19/100\n",
      "30/30 [==============================] - 0s 6ms/step - loss: 0.9346 - accuracy: 0.6078 - val_loss: 0.9627 - val_accuracy: 0.6176\n",
      "Epoch 20/100\n",
      "30/30 [==============================] - 0s 6ms/step - loss: 0.9387 - accuracy: 0.6099 - val_loss: 0.9631 - val_accuracy: 0.6201\n",
      "Epoch 21/100\n",
      "30/30 [==============================] - 0s 7ms/step - loss: 0.9289 - accuracy: 0.5994 - val_loss: 0.9611 - val_accuracy: 0.6250\n",
      "Epoch 22/100\n",
      "30/30 [==============================] - 0s 6ms/step - loss: 0.9357 - accuracy: 0.6099 - val_loss: 0.9614 - val_accuracy: 0.6324\n",
      "Epoch 23/100\n",
      "30/30 [==============================] - 0s 6ms/step - loss: 0.9258 - accuracy: 0.6025 - val_loss: 0.9612 - val_accuracy: 0.6225\n",
      "Epoch 24/100\n",
      "30/30 [==============================] - 0s 6ms/step - loss: 0.9193 - accuracy: 0.6109 - val_loss: 0.9602 - val_accuracy: 0.6225\n",
      "Epoch 25/100\n",
      "30/30 [==============================] - 0s 7ms/step - loss: 0.9266 - accuracy: 0.6130 - val_loss: 0.9648 - val_accuracy: 0.6324\n",
      "Epoch 26/100\n",
      "30/30 [==============================] - 0s 7ms/step - loss: 0.9225 - accuracy: 0.6151 - val_loss: 0.9631 - val_accuracy: 0.6225\n",
      "Epoch 27/100\n",
      "30/30 [==============================] - 0s 6ms/step - loss: 0.9115 - accuracy: 0.6036 - val_loss: 0.9620 - val_accuracy: 0.6250\n",
      "Epoch 28/100\n",
      "30/30 [==============================] - 0s 6ms/step - loss: 0.9173 - accuracy: 0.6151 - val_loss: 0.9656 - val_accuracy: 0.6201\n",
      "Epoch 29/100\n",
      "30/30 [==============================] - 0s 7ms/step - loss: 0.9075 - accuracy: 0.6215 - val_loss: 0.9651 - val_accuracy: 0.6201\n",
      "Epoch 30/100\n",
      "30/30 [==============================] - 0s 6ms/step - loss: 0.9086 - accuracy: 0.6183 - val_loss: 0.9651 - val_accuracy: 0.6299\n",
      "Epoch 31/100\n",
      "30/30 [==============================] - 0s 7ms/step - loss: 0.9006 - accuracy: 0.6130 - val_loss: 0.9702 - val_accuracy: 0.6103\n",
      "Epoch 32/100\n",
      "30/30 [==============================] - 0s 7ms/step - loss: 0.8970 - accuracy: 0.6193 - val_loss: 0.9701 - val_accuracy: 0.6127\n",
      "Epoch 33/100\n",
      "30/30 [==============================] - 0s 7ms/step - loss: 0.9059 - accuracy: 0.6120 - val_loss: 0.9713 - val_accuracy: 0.6201\n",
      "Epoch 34/100\n",
      "30/30 [==============================] - 0s 6ms/step - loss: 0.9167 - accuracy: 0.6025 - val_loss: 0.9698 - val_accuracy: 0.6054\n",
      "Epoch 35/100\n",
      "30/30 [==============================] - 0s 7ms/step - loss: 0.9014 - accuracy: 0.6109 - val_loss: 0.9737 - val_accuracy: 0.6127\n",
      "Epoch 36/100\n",
      "30/30 [==============================] - 0s 6ms/step - loss: 0.9062 - accuracy: 0.6088 - val_loss: 0.9766 - val_accuracy: 0.6176\n",
      "Epoch 37/100\n",
      "30/30 [==============================] - 0s 7ms/step - loss: 0.8899 - accuracy: 0.6151 - val_loss: 0.9720 - val_accuracy: 0.6176\n",
      "Epoch 38/100\n",
      "30/30 [==============================] - 0s 6ms/step - loss: 0.9003 - accuracy: 0.6267 - val_loss: 0.9794 - val_accuracy: 0.6127\n",
      "Epoch 39/100\n",
      "30/30 [==============================] - 0s 6ms/step - loss: 0.8871 - accuracy: 0.6204 - val_loss: 0.9765 - val_accuracy: 0.6176\n",
      "Epoch 40/100\n",
      "30/30 [==============================] - 0s 7ms/step - loss: 0.8911 - accuracy: 0.6278 - val_loss: 0.9796 - val_accuracy: 0.6152\n",
      "Epoch 41/100\n",
      "30/30 [==============================] - 0s 7ms/step - loss: 0.8784 - accuracy: 0.6141 - val_loss: 0.9892 - val_accuracy: 0.6103\n",
      "Epoch 42/100\n",
      "30/30 [==============================] - 0s 7ms/step - loss: 0.8894 - accuracy: 0.6109 - val_loss: 0.9903 - val_accuracy: 0.5956\n",
      "Epoch 43/100\n",
      "30/30 [==============================] - 0s 6ms/step - loss: 0.8845 - accuracy: 0.6215 - val_loss: 0.9808 - val_accuracy: 0.6078\n",
      "Epoch 44/100\n",
      "30/30 [==============================] - 0s 7ms/step - loss: 0.8953 - accuracy: 0.6204 - val_loss: 0.9881 - val_accuracy: 0.6176\n",
      "Epoch 45/100\n",
      "30/30 [==============================] - 0s 7ms/step - loss: 0.8821 - accuracy: 0.6141 - val_loss: 0.9905 - val_accuracy: 0.6005\n",
      "Epoch 46/100\n",
      "30/30 [==============================] - 0s 6ms/step - loss: 0.8889 - accuracy: 0.6151 - val_loss: 0.9897 - val_accuracy: 0.6103\n",
      "Epoch 47/100\n",
      "30/30 [==============================] - 0s 7ms/step - loss: 0.8810 - accuracy: 0.6162 - val_loss: 0.9910 - val_accuracy: 0.6054\n",
      "Epoch 48/100\n",
      "30/30 [==============================] - 0s 7ms/step - loss: 0.8811 - accuracy: 0.6183 - val_loss: 0.9965 - val_accuracy: 0.6005\n",
      "Epoch 49/100\n",
      "30/30 [==============================] - 0s 6ms/step - loss: 0.8803 - accuracy: 0.6246 - val_loss: 1.0020 - val_accuracy: 0.5956\n",
      "Epoch 50/100\n",
      "30/30 [==============================] - 0s 7ms/step - loss: 0.8821 - accuracy: 0.6236 - val_loss: 1.0022 - val_accuracy: 0.5931\n",
      "Epoch 51/100\n",
      "30/30 [==============================] - 0s 6ms/step - loss: 0.8740 - accuracy: 0.6309 - val_loss: 1.0082 - val_accuracy: 0.6054\n",
      "Epoch 52/100\n",
      "30/30 [==============================] - 0s 6ms/step - loss: 0.8709 - accuracy: 0.6320 - val_loss: 1.0052 - val_accuracy: 0.5931\n",
      "Epoch 53/100\n",
      "30/30 [==============================] - 0s 7ms/step - loss: 0.8620 - accuracy: 0.6246 - val_loss: 1.0047 - val_accuracy: 0.6029\n",
      "Epoch 54/100\n",
      "30/30 [==============================] - 0s 6ms/step - loss: 0.8657 - accuracy: 0.6299 - val_loss: 1.0115 - val_accuracy: 0.6078\n",
      "Epoch 55/100\n",
      "30/30 [==============================] - 0s 7ms/step - loss: 0.8732 - accuracy: 0.6172 - val_loss: 1.0051 - val_accuracy: 0.6152\n",
      "Epoch 56/100\n",
      "30/30 [==============================] - 0s 6ms/step - loss: 0.8703 - accuracy: 0.6215 - val_loss: 1.0087 - val_accuracy: 0.5956\n",
      "Epoch 57/100\n",
      "30/30 [==============================] - 0s 6ms/step - loss: 0.8589 - accuracy: 0.6267 - val_loss: 1.0112 - val_accuracy: 0.6078\n",
      "Epoch 58/100\n",
      "30/30 [==============================] - 0s 6ms/step - loss: 0.8624 - accuracy: 0.6351 - val_loss: 1.0128 - val_accuracy: 0.6054\n",
      "Epoch 59/100\n",
      "30/30 [==============================] - 0s 6ms/step - loss: 0.8582 - accuracy: 0.6109 - val_loss: 1.0101 - val_accuracy: 0.5931\n",
      "Epoch 60/100\n",
      "30/30 [==============================] - 0s 6ms/step - loss: 0.8740 - accuracy: 0.6257 - val_loss: 1.0148 - val_accuracy: 0.5980\n",
      "Epoch 61/100\n",
      "30/30 [==============================] - 0s 6ms/step - loss: 0.8624 - accuracy: 0.6299 - val_loss: 1.0133 - val_accuracy: 0.5882\n",
      "Epoch 62/100\n",
      "30/30 [==============================] - 0s 6ms/step - loss: 0.8464 - accuracy: 0.6414 - val_loss: 1.0203 - val_accuracy: 0.5833\n",
      "Epoch 63/100\n",
      "30/30 [==============================] - 0s 6ms/step - loss: 0.8585 - accuracy: 0.6393 - val_loss: 1.0190 - val_accuracy: 0.6029\n",
      "Epoch 64/100\n",
      "30/30 [==============================] - 0s 6ms/step - loss: 0.8430 - accuracy: 0.6341 - val_loss: 1.0205 - val_accuracy: 0.6005\n",
      "Epoch 65/100\n",
      "30/30 [==============================] - 0s 6ms/step - loss: 0.8580 - accuracy: 0.6267 - val_loss: 1.0215 - val_accuracy: 0.6029\n",
      "Epoch 66/100\n",
      "30/30 [==============================] - 0s 6ms/step - loss: 0.8461 - accuracy: 0.6309 - val_loss: 1.0217 - val_accuracy: 0.6005\n",
      "Epoch 67/100\n",
      "30/30 [==============================] - 0s 8ms/step - loss: 0.8498 - accuracy: 0.6341 - val_loss: 1.0305 - val_accuracy: 0.6005\n",
      "Epoch 68/100\n",
      "30/30 [==============================] - 0s 9ms/step - loss: 0.8516 - accuracy: 0.6204 - val_loss: 1.0269 - val_accuracy: 0.5882\n",
      "Epoch 69/100\n",
      "30/30 [==============================] - 0s 9ms/step - loss: 0.8461 - accuracy: 0.6320 - val_loss: 1.0352 - val_accuracy: 0.6029\n",
      "Epoch 70/100\n",
      "30/30 [==============================] - 0s 9ms/step - loss: 0.8557 - accuracy: 0.6162 - val_loss: 1.0343 - val_accuracy: 0.5833\n",
      "Epoch 71/100\n",
      "30/30 [==============================] - 0s 8ms/step - loss: 0.8403 - accuracy: 0.6404 - val_loss: 1.0298 - val_accuracy: 0.5907\n",
      "Epoch 72/100\n",
      "30/30 [==============================] - 0s 9ms/step - loss: 0.8390 - accuracy: 0.6299 - val_loss: 1.0313 - val_accuracy: 0.6029\n",
      "Epoch 73/100\n",
      "30/30 [==============================] - 0s 9ms/step - loss: 0.8561 - accuracy: 0.6130 - val_loss: 1.0360 - val_accuracy: 0.5882\n",
      "Epoch 74/100\n",
      "30/30 [==============================] - 0s 9ms/step - loss: 0.8628 - accuracy: 0.6193 - val_loss: 1.0402 - val_accuracy: 0.5833\n",
      "Epoch 75/100\n",
      "30/30 [==============================] - 0s 8ms/step - loss: 0.8572 - accuracy: 0.6257 - val_loss: 1.0353 - val_accuracy: 0.5882\n",
      "Epoch 76/100\n",
      "30/30 [==============================] - 0s 8ms/step - loss: 0.8463 - accuracy: 0.6267 - val_loss: 1.0375 - val_accuracy: 0.5784\n",
      "Epoch 77/100\n",
      "30/30 [==============================] - 0s 9ms/step - loss: 0.8470 - accuracy: 0.6341 - val_loss: 1.0360 - val_accuracy: 0.5931\n",
      "Epoch 78/100\n",
      "30/30 [==============================] - 0s 8ms/step - loss: 0.8453 - accuracy: 0.6299 - val_loss: 1.0392 - val_accuracy: 0.5784\n",
      "Epoch 79/100\n",
      "30/30 [==============================] - 0s 8ms/step - loss: 0.8421 - accuracy: 0.6288 - val_loss: 1.0415 - val_accuracy: 0.5637\n",
      "Epoch 80/100\n",
      "30/30 [==============================] - 0s 10ms/step - loss: 0.8280 - accuracy: 0.6404 - val_loss: 1.0476 - val_accuracy: 0.5760\n",
      "Epoch 81/100\n",
      "30/30 [==============================] - 0s 7ms/step - loss: 0.8461 - accuracy: 0.6193 - val_loss: 1.0449 - val_accuracy: 0.5711\n",
      "Epoch 82/100\n",
      "30/30 [==============================] - 0s 7ms/step - loss: 0.8242 - accuracy: 0.6425 - val_loss: 1.0503 - val_accuracy: 0.5760\n",
      "Epoch 83/100\n",
      "30/30 [==============================] - 0s 7ms/step - loss: 0.8293 - accuracy: 0.6372 - val_loss: 1.0461 - val_accuracy: 0.5735\n",
      "Epoch 84/100\n",
      "30/30 [==============================] - 0s 6ms/step - loss: 0.8361 - accuracy: 0.6183 - val_loss: 1.0459 - val_accuracy: 0.5760\n",
      "Epoch 85/100\n",
      "30/30 [==============================] - 0s 6ms/step - loss: 0.8433 - accuracy: 0.6257 - val_loss: 1.0494 - val_accuracy: 0.5833\n",
      "Epoch 86/100\n",
      "30/30 [==============================] - 0s 7ms/step - loss: 0.8428 - accuracy: 0.6372 - val_loss: 1.0473 - val_accuracy: 0.5637\n",
      "Epoch 87/100\n",
      "30/30 [==============================] - 0s 6ms/step - loss: 0.8372 - accuracy: 0.6278 - val_loss: 1.0405 - val_accuracy: 0.5882\n",
      "Epoch 88/100\n",
      "30/30 [==============================] - 0s 7ms/step - loss: 0.8333 - accuracy: 0.6299 - val_loss: 1.0450 - val_accuracy: 0.5711\n",
      "Epoch 89/100\n",
      "30/30 [==============================] - 0s 7ms/step - loss: 0.8469 - accuracy: 0.6299 - val_loss: 1.0557 - val_accuracy: 0.5466\n",
      "Epoch 90/100\n",
      "30/30 [==============================] - 0s 7ms/step - loss: 0.8297 - accuracy: 0.6299 - val_loss: 1.0502 - val_accuracy: 0.5760\n",
      "Epoch 91/100\n",
      "30/30 [==============================] - 0s 6ms/step - loss: 0.8467 - accuracy: 0.6341 - val_loss: 1.0471 - val_accuracy: 0.5613\n",
      "Epoch 92/100\n",
      "30/30 [==============================] - 0s 6ms/step - loss: 0.8198 - accuracy: 0.6362 - val_loss: 1.0492 - val_accuracy: 0.5760\n",
      "Epoch 93/100\n",
      "30/30 [==============================] - 0s 6ms/step - loss: 0.8330 - accuracy: 0.6320 - val_loss: 1.0458 - val_accuracy: 0.5735\n",
      "Epoch 94/100\n",
      "30/30 [==============================] - 0s 7ms/step - loss: 0.8215 - accuracy: 0.6404 - val_loss: 1.0460 - val_accuracy: 0.5735\n",
      "Epoch 95/100\n",
      "30/30 [==============================] - 0s 6ms/step - loss: 0.8282 - accuracy: 0.6309 - val_loss: 1.0492 - val_accuracy: 0.5784\n",
      "Epoch 96/100\n",
      "30/30 [==============================] - 0s 6ms/step - loss: 0.8324 - accuracy: 0.6246 - val_loss: 1.0491 - val_accuracy: 0.5809\n",
      "Epoch 97/100\n",
      "30/30 [==============================] - 0s 6ms/step - loss: 0.8227 - accuracy: 0.6309 - val_loss: 1.0566 - val_accuracy: 0.5662\n",
      "Epoch 98/100\n",
      "30/30 [==============================] - 0s 6ms/step - loss: 0.8274 - accuracy: 0.6309 - val_loss: 1.0580 - val_accuracy: 0.5735\n",
      "Epoch 99/100\n",
      "30/30 [==============================] - 0s 6ms/step - loss: 0.8168 - accuracy: 0.6309 - val_loss: 1.0547 - val_accuracy: 0.5735\n",
      "Epoch 100/100\n",
      "30/30 [==============================] - 0s 6ms/step - loss: 0.8109 - accuracy: 0.6509 - val_loss: 1.0575 - val_accuracy: 0.5809\n"
     ]
    }
   ],
   "source": [
    "NN_model_train_2 = NN_model_2.fit(X_train_scaled, y_train, validation_data=(X_test_scaled,y_test), epochs=100, batch_size=32)"
   ]
  },
  {
   "cell_type": "markdown",
   "metadata": {
    "id": "ec4hgbnlAjGa"
   },
   "source": [
    "### **3.E. Plot visuals as in 3.C and share insights about difference observed in both the models.**"
   ]
  },
  {
   "cell_type": "code",
   "execution_count": 49,
   "metadata": {
    "colab": {
     "base_uri": "https://localhost:8080/"
    },
    "id": "pH4FIutdBcHG",
    "outputId": "5def631d-0c41-43d9-d48a-96944946ab67"
   },
   "outputs": [
    {
     "name": "stdout",
     "output_type": "stream",
     "text": [
      "dict_keys(['loss', 'accuracy', 'val_loss', 'val_accuracy'])\n"
     ]
    }
   ],
   "source": [
    "# Access training history keys\n",
    "print(NN_model_train_2.history.keys())"
   ]
  },
  {
   "cell_type": "code",
   "execution_count": 50,
   "metadata": {
    "colab": {
     "base_uri": "https://localhost:8080/",
     "height": 564
    },
    "id": "L6HluytnAd0_",
    "outputId": "2c62d5ba-eb53-4d0e-fcf2-dd3a14d4dc2b"
   },
   "outputs": [
    {
     "data": {
      "image/png": "[encoded data removed]",
      "text/plain": [
       "<Figure size 1200x600 with 2 Axes>"
      ]
     },
     "metadata": {},
     "output_type": "display_data"
    }
   ],
   "source": [
    "# Training loss and validation loss\n",
    "train_loss = NN_model_train_2.history['loss']\n",
    "val_loss = NN_model_train_2.history['val_loss']\n",
    "\n",
    "# Training accuracy and validation accuracy\n",
    "train_accuracy = NN_model_train_2.history['accuracy']\n",
    "val_accuracy = NN_model_train_2.history['val_accuracy']\n",
    "\n",
    "# Number of epochs\n",
    "epochs = range(1,100+1)\n",
    "\n",
    "# i.Plotting training and validation loss\n",
    "plt.figure(figsize=(12, 6))\n",
    "plt.subplot(1, 2, 1)\n",
    "plt.plot(epochs, train_loss, label='Training Loss')\n",
    "plt.plot(epochs, val_loss, 'r', label='Validation Loss')\n",
    "plt.title('Training and Validation Loss')\n",
    "plt.xlabel('Epochs')\n",
    "plt.ylabel('Loss')\n",
    "plt.legend()\n",
    "\n",
    "# ii.Plotting training and validation accuracy\n",
    "plt.subplot(1, 2, 2)\n",
    "plt.plot(epochs, train_accuracy, label='Training Accuracy')\n",
    "plt.plot(epochs, val_accuracy, 'r', label='Validation Accuracy')\n",
    "plt.title('Training and Validation Accuracy')\n",
    "plt.xlabel('Epochs')\n",
    "plt.ylabel('Accuracy')\n",
    "plt.legend()\n",
    "plt.show()\n"
   ]
  },
  {
   "cell_type": "markdown",
   "metadata": {
    "id": "n5jPKLODFRcq"
   },
   "source": [
    "- Loss is gradual in both training and testing data with batch size 128 but steeper with batch size 32.\n",
    "- When an additional hidden layer is added, accuracy improves by 5%.\n"
   ]
  },
  {
   "cell_type": "markdown",
   "metadata": {
    "id": "4jKUY_N-UYgB"
   },
   "source": [
    "# **Part B**"
   ]
  },
  {
   "cell_type": "markdown",
   "metadata": {},
   "source": [
    "- **DOMAIN:** Autonomous Vehicles.\n",
    "- **CONTEXT:** A Recognising multi-digit numbers in photographs captured at street level is an important component of modern-day map making. A classic example of a corpus of such street-level photographs is Google’s Street View imagery composed of hundreds of millions of geo-located 360-degree panoramic images.\n",
    "The ability to automatically transcribe an address number from a geo-located patch of pixels and associate the transcribed number with a known street address helps pinpoint, with a high degree of accuracy, the location of the building it represents. More broadly, recognising numbers in photographs is a problem of interest to the optical character recognition community.\n",
    "While OCR on constrained domains like document processing is well studied, arbitrary multi-character text recognition in photographs is still highly challenging. This difficulty arises due to the wide variability in the visual appearance of text in the wild on account of a large range of fonts, colours, styles, orientations, and character arrangements.\n",
    "The recognition problem is further complicated by environmental factors such as lighting, shadows, specularity, and occlusions as well as by image acquisition factors such as resolution, motion, and focus blurs. In this project, we will use the dataset with images centred around a single digit (many of the images do contain some distractors at the sides). Although we are taking a sample of the data which is simpler, it is more complex than MNIST because of the distractors.\n",
    "- **DATA DESCRIPTION:** The SVHN is a real-world image dataset for developing machine learning and object recognition algorithms with the minimal requirement on data formatting but comes from a significantly harder, unsolved, real-world problem (recognising digits and numbers in natural scene images). SVHN is obtained from house numbers in Google Street View images."
   ]
  },
  {
   "attachments": {
    "Screenshot%202024-01-11%20220103.png": {
     "image/png": "[encoded data removed]"
    }
   },
   "cell_type": "markdown",
   "metadata": {},
   "source": [
    "![Screenshot%202024-01-11%20220103.png](attachment:Screenshot%202024-01-11%20220103.png)\n",
    "\n",
    "Where the labels for each of this image are the prominent number in that image i.e. 2,6,7 and 4 respectively.\n",
    "The dataset has been provided in the form of h5py files. You can read about this file format here: https://docs.h5py.org/en/stable/\n",
    "Acknowledgement: Yuval Netzer, Tao Wang, Adam Coates, Alessandro Bissacco, Bo Wu, Andrew Y. Ng Reading Digits in Natural Images with Unsupervised\n",
    "Feature Learning NIPS Workshop on Deep Learning and Unsupervised Feature Learning 2011. PDF\n",
    "http://ufldl.stanford.edu/housenumbers as the URL for this site\n",
    "\n",
    "- **PROJECT OBJECTIVE:** To build a digit classifier on the SVHN (Street View Housing Number) dataset."
   ]
  },
  {
   "cell_type": "markdown",
   "metadata": {},
   "source": [
    "### 1. Data Import and Exploration."
   ]
  },
  {
   "cell_type": "markdown",
   "metadata": {
    "id": "jI_9XQa7UAJO"
   },
   "source": [
    "### **1.A. Read the .h5 file and assign to a variable.**"
   ]
  },
  {
   "cell_type": "code",
   "execution_count": 51,
   "metadata": {
    "id": "Z2XrZbe6BnMq"
   },
   "outputs": [],
   "source": [
    "import h5py\n",
    "hdf5_file_path = h5py.File(\"/content/drive/MyDrive/AIML DATASETS USED IN THE PROJECT/Autonomous_Vehicles_SVHN_single_grey1.h5\",\"r\")"
   ]
  },
  {
   "cell_type": "markdown",
   "metadata": {
    "id": "vryDOkR2uyPh"
   },
   "source": [
    "### **1.B. Print all the keys from the .h5 file.**"
   ]
  },
  {
   "cell_type": "code",
   "execution_count": 52,
   "metadata": {
    "colab": {
     "base_uri": "https://localhost:8080/"
    },
    "id": "2fOhX_ztCFNU",
    "outputId": "e288265a-713c-4353-cdc1-61c90da63e89"
   },
   "outputs": [
    {
     "name": "stdout",
     "output_type": "stream",
     "text": [
      "Keys in the HDF5 file:\n",
      "X_test\n",
      "X_train\n",
      "X_val\n",
      "y_test\n",
      "y_train\n",
      "y_val\n"
     ]
    }
   ],
   "source": [
    "print(\"Keys in the HDF5 file:\")\n",
    "for key in hdf5_file_path.keys():\n",
    "    print(key)"
   ]
  },
  {
   "cell_type": "markdown",
   "metadata": {
    "id": "wJVY3pN8vVnZ"
   },
   "source": [
    "### **1.C. Split the data into X_train, X_test, Y_train, Y_test**"
   ]
  },
  {
   "cell_type": "code",
   "execution_count": 53,
   "metadata": {
    "id": "VcRdS2opE6iP"
   },
   "outputs": [],
   "source": [
    "X_train = hdf5_file_path['X_train'][:]\n",
    "X_test = hdf5_file_path['X_test'][:]\n",
    "y_train = hdf5_file_path['y_train'][:]\n",
    "y_test = hdf5_file_path['y_test'][:]"
   ]
  },
  {
   "cell_type": "markdown",
   "metadata": {},
   "source": [
    "### 2. Data Visualisation and preprocessing."
   ]
  },
  {
   "cell_type": "markdown",
   "metadata": {
    "id": "EMaT_7dIxcB7"
   },
   "source": [
    "### **2.A. Print shape of all the 4 data split into x, y, train, test to verify if x & y is in sync.**"
   ]
  },
  {
   "cell_type": "code",
   "execution_count": 54,
   "metadata": {
    "colab": {
     "base_uri": "https://localhost:8080/"
    },
    "id": "uMr7ORYSwSqj",
    "outputId": "6b7c5779-c023-417e-fa9d-4de19ea442d7"
   },
   "outputs": [
    {
     "name": "stdout",
     "output_type": "stream",
     "text": [
      "X_train shape: (42000, 32, 32)\n",
      "X_test shape: (18000, 32, 32)\n",
      "y_train shape: (42000,)\n",
      "y_test shape: (18000,)\n"
     ]
    }
   ],
   "source": [
    "print(\"X_train shape:\", X_train.shape)\n",
    "print(\"X_test shape:\", X_test.shape)\n",
    "print(\"y_train shape:\", y_train.shape)\n",
    "print(\"y_test shape:\", y_test.shape)\n"
   ]
  },
  {
   "cell_type": "markdown",
   "metadata": {
    "id": "-V34Uvprx53v"
   },
   "source": [
    "### **2.B. Visualise first 10 images in train data and print its corresponding labels.**"
   ]
  },
  {
   "cell_type": "code",
   "execution_count": 55,
   "metadata": {
    "colab": {
     "base_uri": "https://localhost:8080/",
     "height": 172
    },
    "id": "Ln_SSilo8rbo",
    "outputId": "a680a3d7-9da2-4826-c7a7-cff40e737d41"
   },
   "outputs": [
    {
     "data": {
      "image/png": "[encoded data removed]",
      "text/plain": [
       "<Figure size 1500x200 with 10 Axes>"
      ]
     },
     "metadata": {},
     "output_type": "display_data"
    },
    {
     "name": "stdout",
     "output_type": "stream",
     "text": [
      "Labels for each of the above images: [2 6 7 4 4 0 3 0 7 3]\n"
     ]
    }
   ],
   "source": [
    "plt.figure(figsize=(15, 2))\n",
    "for i in range(10):\n",
    "    plt.subplot(1, 10, i + 1)\n",
    "    plt.imshow(X_train[i], cmap='Purples_r')\n",
    "    plt.axis('off')\n",
    "    plt.title(str(y_train[i]))\n",
    "\n",
    "plt.show()\n",
    "\n",
    "print('Labels for each of the above images:', y_train[:10])"
   ]
  },
  {
   "cell_type": "markdown",
   "metadata": {
    "id": "MSANk_6x32xX"
   },
   "source": [
    "### **2.C. Reshape all the images with appropriate shape update the data in same variable.**\n"
   ]
  },
  {
   "cell_type": "code",
   "execution_count": 56,
   "metadata": {
    "colab": {
     "base_uri": "https://localhost:8080/"
    },
    "id": "BjE_YLX6_D_N",
    "outputId": "8b4066ad-712d-456a-c8a7-920e421516cb"
   },
   "outputs": [
    {
     "name": "stdout",
     "output_type": "stream",
     "text": [
      "Shape: (32, 32)\n",
      "\n",
      "First image:\n",
      " [[ 33.0704  30.2601  26.852  ...  71.4471  58.2204  42.9939]\n",
      " [ 25.2283  25.5533  29.9765 ... 113.0209 103.3639  84.2949]\n",
      " [ 26.2775  22.6137  40.4763 ... 113.3028 121.775  115.4228]\n",
      " ...\n",
      " [ 28.5502  36.212   45.0801 ...  24.1359  25.0927  26.0603]\n",
      " [ 38.4352  26.4733  23.2717 ...  28.1094  29.4683  30.0661]\n",
      " [ 50.2984  26.0773  24.0389 ...  49.6682  50.853   53.0377]]\n"
     ]
    }
   ],
   "source": [
    "# Shape of the images and the first image\n",
    "\n",
    "print(\"Shape:\", X_train[0].shape)\n",
    "print()\n",
    "print(\"First image:\\n\", X_train[0])"
   ]
  },
  {
   "cell_type": "code",
   "execution_count": 57,
   "metadata": {
    "id": "s0WukLUTtGFx"
   },
   "outputs": [],
   "source": [
    "# Flatten the images\n",
    "image_vector_size = 32*32\n",
    "X_train = X_train.reshape(X_train.shape[0], image_vector_size)\n",
    "X_test = X_test.reshape(X_test.shape[0], image_vector_size)\n"
   ]
  },
  {
   "cell_type": "code",
   "execution_count": 58,
   "metadata": {
    "colab": {
     "base_uri": "https://localhost:8080/"
    },
    "id": "jztMwV7v41RZ",
    "outputId": "689140f4-f926-463b-a89b-6ee6a9ac988e"
   },
   "outputs": [
    {
     "name": "stdout",
     "output_type": "stream",
     "text": [
      "Shape: (1024,)\n",
      "\n",
      "First image:\n",
      " [33.0704 30.2601 26.852  ... 49.6682 50.853  53.0377]\n"
     ]
    }
   ],
   "source": [
    "# Check Shape of the images and the first image\n",
    "print(\"Shape:\", X_train[0].shape)\n",
    "print()\n",
    "print(\"First image:\\n\", X_train[0])"
   ]
  },
  {
   "cell_type": "code",
   "execution_count": 59,
   "metadata": {
    "colab": {
     "base_uri": "https://localhost:8080/"
    },
    "id": "umHfDxFVLG8e",
    "outputId": "40f13ae6-818f-431a-cdc8-06a848eb5468"
   },
   "outputs": [
    {
     "name": "stdout",
     "output_type": "stream",
     "text": [
      "X_train (42000, 1024)  X_test (18000, 1024) y_train (42000,) y_test (18000,)\n"
     ]
    }
   ],
   "source": [
    "print(\"X_train\",X_train.shape,\" X_test\", X_test.shape, 'y_train',y_train.shape, 'y_test',y_test.shape)"
   ]
  },
  {
   "cell_type": "markdown",
   "metadata": {
    "id": "Pt0ShTpuMgAa"
   },
   "source": [
    "### **2.D. Normalise the images i.e. Normalise the pixel values.**"
   ]
  },
  {
   "cell_type": "code",
   "execution_count": 60,
   "metadata": {
    "colab": {
     "base_uri": "https://localhost:8080/"
    },
    "id": "pEJqSE_hL1hY",
    "outputId": "949e8868-1ec8-4b0f-cb12-ee1da7e55300"
   },
   "outputs": [
    {
     "name": "stdout",
     "output_type": "stream",
     "text": [
      "Resized Training set (42000, 1024) (42000,)\n",
      "Resized Test set (18000, 1024) (18000,)\n"
     ]
    }
   ],
   "source": [
    "# normalize inputs from 0-255 to 0-1\n",
    "X_train = X_train / 255.0\n",
    "X_test = X_test / 255.0\n",
    "\n",
    "print('Resized Training set', X_train.shape, y_train.shape)\n",
    "print('Resized Test set', X_test.shape, y_test.shape)"
   ]
  },
  {
   "cell_type": "markdown",
   "metadata": {
    "id": "N9eEBAjlNLas"
   },
   "source": [
    "### **2.E. Transform Labels into format acceptable by Neural Network**"
   ]
  },
  {
   "cell_type": "code",
   "execution_count": 61,
   "metadata": {
    "id": "pYcGOcGgLfsX"
   },
   "outputs": [],
   "source": [
    "# one hot encode outputs\n",
    "y_train = to_categorical(y_train)\n",
    "y_test = to_categorical(y_test)"
   ]
  },
  {
   "cell_type": "code",
   "execution_count": 62,
   "metadata": {
    "colab": {
     "base_uri": "https://localhost:8080/"
    },
    "id": "e7mW88Y8nXeN",
    "outputId": "a798f1cb-b49f-4e9e-88ea-a1bc64d12fbd"
   },
   "outputs": [
    {
     "data": {
      "text/plain": [
       "array([[0., 0., 1., ..., 0., 0., 0.],\n",
       "       [0., 0., 0., ..., 0., 0., 0.],\n",
       "       [0., 0., 0., ..., 1., 0., 0.],\n",
       "       ...,\n",
       "       [0., 0., 0., ..., 1., 0., 0.],\n",
       "       [1., 0., 0., ..., 0., 0., 0.],\n",
       "       [0., 0., 0., ..., 0., 0., 0.]], dtype=float32)"
      ]
     },
     "execution_count": 62,
     "metadata": {},
     "output_type": "execute_result"
    }
   ],
   "source": [
    "y_train"
   ]
  },
  {
   "cell_type": "code",
   "execution_count": 63,
   "metadata": {
    "colab": {
     "base_uri": "https://localhost:8080/"
    },
    "id": "3XGMRYmdnlTH",
    "outputId": "4894629c-e6ad-4d02-e951-536a44dca33e"
   },
   "outputs": [
    {
     "data": {
      "text/plain": [
       "array([[0., 1., 0., ..., 0., 0., 0.],\n",
       "       [0., 0., 0., ..., 1., 0., 0.],\n",
       "       [0., 0., 1., ..., 0., 0., 0.],\n",
       "       ...,\n",
       "       [0., 0., 0., ..., 1., 0., 0.],\n",
       "       [0., 0., 0., ..., 0., 0., 1.],\n",
       "       [0., 0., 1., ..., 0., 0., 0.]], dtype=float32)"
      ]
     },
     "execution_count": 63,
     "metadata": {},
     "output_type": "execute_result"
    }
   ],
   "source": [
    "y_test"
   ]
  },
  {
   "cell_type": "code",
   "execution_count": 64,
   "metadata": {
    "colab": {
     "base_uri": "https://localhost:8080/"
    },
    "id": "LgwXpZLsnqbf",
    "outputId": "d477a7d4-017c-4f28-a45b-7f62d2477963"
   },
   "outputs": [
    {
     "name": "stdout",
     "output_type": "stream",
     "text": [
      "(42000, 10)\n",
      "(18000, 10)\n"
     ]
    }
   ],
   "source": [
    "print(y_train.shape)\n",
    "print(y_test.shape)"
   ]
  },
  {
   "cell_type": "markdown",
   "metadata": {
    "id": "FMvK62FdSR4g"
   },
   "source": [
    "### **2.F. Print total Number of classes in the Dataset.**"
   ]
  },
  {
   "cell_type": "code",
   "execution_count": 65,
   "metadata": {
    "colab": {
     "base_uri": "https://localhost:8080/"
    },
    "id": "02e1q_OIRk7g",
    "outputId": "ac7e740c-3bb4-4d9f-e9cd-a0aa2ea45c87"
   },
   "outputs": [
    {
     "name": "stdout",
     "output_type": "stream",
     "text": [
      "Total number of classes: 10\n"
     ]
    }
   ],
   "source": [
    "num_classes = y_train.shape[1]\n",
    "print(\"Total number of classes:\", num_classes)\n"
   ]
  },
  {
   "cell_type": "markdown",
   "metadata": {},
   "source": [
    "### 3. Model Training & Evaluation using Neural Network."
   ]
  },
  {
   "cell_type": "markdown",
   "metadata": {
    "id": "wT7Zn-5cSr21"
   },
   "source": [
    "### **3.A. Design a Neural Network to train a classifier.**"
   ]
  },
  {
   "cell_type": "code",
   "execution_count": 66,
   "metadata": {
    "id": "sjnn428hSu8y"
   },
   "outputs": [],
   "source": [
    "from tensorflow.keras import optimizers\n",
    "from tensorflow.keras.models import Sequential\n",
    "from tensorflow.keras.layers import Dense, Flatten\n",
    "\n",
    "def nn_model():\n",
    "    # create model\n",
    "    model = Sequential()\n",
    "    model.add(Flatten())\n",
    "    model.add(Dense(256, activation='relu')) ###Multiple Dense units with Relu activation\n",
    "    model.add(Dense(64, activation='relu'))\n",
    "    model.add(Dense(64, activation='relu'))\n",
    "    model.add(Dense(32, activation='relu'))\n",
    "    model.add(Dense(num_classes, activation='softmax'))\n",
    "    return model"
   ]
  },
  {
   "cell_type": "code",
   "execution_count": 67,
   "metadata": {
    "id": "qfSEjv6lczsU"
   },
   "outputs": [],
   "source": [
    "# build the model\n",
    "model = nn_model()"
   ]
  },
  {
   "cell_type": "markdown",
   "metadata": {
    "id": "29Yi_BOHWFtJ"
   },
   "source": [
    "### **3.B. Train the classifier using previously designed Architecture (Use best suitable parameters).**"
   ]
  },
  {
   "cell_type": "code",
   "execution_count": 69,
   "metadata": {
    "id": "XHP9BMOqyQIw"
   },
   "outputs": [],
   "source": [
    "# Compile model\n",
    "optimizer = optimizers.Adam(learning_rate=1e-3)\n",
    "model.compile(loss='categorical_crossentropy', optimizer=optimizer, metrics=['accuracy'])"
   ]
  },
  {
   "cell_type": "code",
   "execution_count": 70,
   "metadata": {
    "colab": {
     "base_uri": "https://localhost:8080/"
    },
    "id": "PoyIKPpYWWRo",
    "outputId": "63924793-d82d-47a0-a396-5d5186f113b5"
   },
   "outputs": [
    {
     "name": "stdout",
     "output_type": "stream",
     "text": [
      "Epoch 1/100\n",
      "140/140 - 4s - loss: 2.2914 - accuracy: 0.1179 - val_loss: 2.2315 - val_accuracy: 0.1348 - 4s/epoch - 30ms/step\n",
      "Epoch 2/100\n",
      "140/140 - 1s - loss: 2.0716 - accuracy: 0.2214 - val_loss: 1.8752 - val_accuracy: 0.3214 - 618ms/epoch - 4ms/step\n",
      "Epoch 3/100\n",
      "140/140 - 1s - loss: 1.7346 - accuracy: 0.3822 - val_loss: 1.5867 - val_accuracy: 0.4438 - 600ms/epoch - 4ms/step\n",
      "Epoch 4/100\n",
      "140/140 - 1s - loss: 1.5520 - accuracy: 0.4579 - val_loss: 1.4803 - val_accuracy: 0.4857 - 599ms/epoch - 4ms/step\n",
      "Epoch 5/100\n",
      "140/140 - 1s - loss: 1.4265 - accuracy: 0.5211 - val_loss: 1.3799 - val_accuracy: 0.5297 - 594ms/epoch - 4ms/step\n",
      "Epoch 6/100\n",
      "140/140 - 1s - loss: 1.3257 - accuracy: 0.5597 - val_loss: 1.2669 - val_accuracy: 0.5848 - 625ms/epoch - 4ms/step\n",
      "Epoch 7/100\n",
      "140/140 - 1s - loss: 1.2613 - accuracy: 0.5871 - val_loss: 1.2473 - val_accuracy: 0.5802 - 606ms/epoch - 4ms/step\n",
      "Epoch 8/100\n",
      "140/140 - 1s - loss: 1.1923 - accuracy: 0.6137 - val_loss: 1.1722 - val_accuracy: 0.6230 - 596ms/epoch - 4ms/step\n",
      "Epoch 9/100\n",
      "140/140 - 1s - loss: 1.1493 - accuracy: 0.6311 - val_loss: 1.1020 - val_accuracy: 0.6510 - 606ms/epoch - 4ms/step\n",
      "Epoch 10/100\n",
      "140/140 - 1s - loss: 1.0914 - accuracy: 0.6540 - val_loss: 1.0831 - val_accuracy: 0.6614 - 598ms/epoch - 4ms/step\n",
      "Epoch 11/100\n",
      "140/140 - 1s - loss: 1.0548 - accuracy: 0.6683 - val_loss: 1.0578 - val_accuracy: 0.6700 - 616ms/epoch - 4ms/step\n",
      "Epoch 12/100\n",
      "140/140 - 1s - loss: 1.0026 - accuracy: 0.6893 - val_loss: 0.9969 - val_accuracy: 0.6931 - 606ms/epoch - 4ms/step\n",
      "Epoch 13/100\n",
      "140/140 - 1s - loss: 0.9754 - accuracy: 0.6966 - val_loss: 1.0166 - val_accuracy: 0.6783 - 590ms/epoch - 4ms/step\n",
      "Epoch 14/100\n",
      "140/140 - 1s - loss: 0.9397 - accuracy: 0.7090 - val_loss: 0.9312 - val_accuracy: 0.7161 - 622ms/epoch - 4ms/step\n",
      "Epoch 15/100\n",
      "140/140 - 1s - loss: 0.9111 - accuracy: 0.7196 - val_loss: 0.9732 - val_accuracy: 0.6977 - 588ms/epoch - 4ms/step\n",
      "Epoch 16/100\n",
      "140/140 - 1s - loss: 0.8996 - accuracy: 0.7217 - val_loss: 0.9438 - val_accuracy: 0.7124 - 574ms/epoch - 4ms/step\n",
      "Epoch 17/100\n",
      "140/140 - 1s - loss: 0.8648 - accuracy: 0.7338 - val_loss: 0.8909 - val_accuracy: 0.7286 - 598ms/epoch - 4ms/step\n",
      "Epoch 18/100\n",
      "140/140 - 1s - loss: 0.8516 - accuracy: 0.7370 - val_loss: 0.8637 - val_accuracy: 0.7347 - 778ms/epoch - 6ms/step\n",
      "Epoch 19/100\n",
      "140/140 - 1s - loss: 0.8310 - accuracy: 0.7443 - val_loss: 0.8987 - val_accuracy: 0.7236 - 916ms/epoch - 7ms/step\n",
      "Epoch 20/100\n",
      "140/140 - 1s - loss: 0.8383 - accuracy: 0.7401 - val_loss: 0.8696 - val_accuracy: 0.7343 - 917ms/epoch - 7ms/step\n",
      "Epoch 21/100\n",
      "140/140 - 1s - loss: 0.8065 - accuracy: 0.7516 - val_loss: 0.8509 - val_accuracy: 0.7392 - 904ms/epoch - 6ms/step\n",
      "Epoch 22/100\n",
      "140/140 - 1s - loss: 0.7896 - accuracy: 0.7571 - val_loss: 0.9113 - val_accuracy: 0.7192 - 598ms/epoch - 4ms/step\n",
      "Epoch 23/100\n",
      "140/140 - 1s - loss: 0.7949 - accuracy: 0.7541 - val_loss: 0.8173 - val_accuracy: 0.7520 - 579ms/epoch - 4ms/step\n",
      "Epoch 24/100\n",
      "140/140 - 1s - loss: 0.7606 - accuracy: 0.7664 - val_loss: 0.8117 - val_accuracy: 0.7531 - 595ms/epoch - 4ms/step\n",
      "Epoch 25/100\n",
      "140/140 - 1s - loss: 0.7480 - accuracy: 0.7695 - val_loss: 0.8232 - val_accuracy: 0.7467 - 579ms/epoch - 4ms/step\n",
      "Epoch 26/100\n",
      "140/140 - 1s - loss: 0.7517 - accuracy: 0.7692 - val_loss: 0.7984 - val_accuracy: 0.7587 - 585ms/epoch - 4ms/step\n",
      "Epoch 27/100\n",
      "140/140 - 1s - loss: 0.7332 - accuracy: 0.7724 - val_loss: 0.8028 - val_accuracy: 0.7594 - 598ms/epoch - 4ms/step\n",
      "Epoch 28/100\n",
      "140/140 - 1s - loss: 0.7306 - accuracy: 0.7746 - val_loss: 0.7718 - val_accuracy: 0.7662 - 580ms/epoch - 4ms/step\n",
      "Epoch 29/100\n",
      "140/140 - 1s - loss: 0.7175 - accuracy: 0.7795 - val_loss: 0.8183 - val_accuracy: 0.7485 - 605ms/epoch - 4ms/step\n",
      "Epoch 30/100\n",
      "140/140 - 1s - loss: 0.7107 - accuracy: 0.7811 - val_loss: 0.7858 - val_accuracy: 0.7638 - 587ms/epoch - 4ms/step\n",
      "Epoch 31/100\n",
      "140/140 - 1s - loss: 0.7057 - accuracy: 0.7815 - val_loss: 0.7691 - val_accuracy: 0.7720 - 587ms/epoch - 4ms/step\n",
      "Epoch 32/100\n",
      "140/140 - 1s - loss: 0.6924 - accuracy: 0.7870 - val_loss: 0.7978 - val_accuracy: 0.7583 - 596ms/epoch - 4ms/step\n",
      "Epoch 33/100\n",
      "140/140 - 1s - loss: 0.6922 - accuracy: 0.7853 - val_loss: 0.8007 - val_accuracy: 0.7578 - 592ms/epoch - 4ms/step\n",
      "Epoch 34/100\n",
      "140/140 - 1s - loss: 0.6766 - accuracy: 0.7921 - val_loss: 0.7286 - val_accuracy: 0.7817 - 759ms/epoch - 5ms/step\n",
      "Epoch 35/100\n",
      "140/140 - 1s - loss: 0.6662 - accuracy: 0.7967 - val_loss: 0.7625 - val_accuracy: 0.7702 - 599ms/epoch - 4ms/step\n",
      "Epoch 36/100\n",
      "140/140 - 1s - loss: 0.6623 - accuracy: 0.7956 - val_loss: 0.7465 - val_accuracy: 0.7745 - 603ms/epoch - 4ms/step\n",
      "Epoch 37/100\n",
      "140/140 - 1s - loss: 0.6624 - accuracy: 0.7953 - val_loss: 0.8040 - val_accuracy: 0.7556 - 601ms/epoch - 4ms/step\n",
      "Epoch 38/100\n",
      "140/140 - 1s - loss: 0.6570 - accuracy: 0.7970 - val_loss: 0.7423 - val_accuracy: 0.7784 - 967ms/epoch - 7ms/step\n",
      "Epoch 39/100\n",
      "140/140 - 1s - loss: 0.6411 - accuracy: 0.8025 - val_loss: 0.7278 - val_accuracy: 0.7829 - 799ms/epoch - 6ms/step\n",
      "Epoch 40/100\n",
      "140/140 - 1s - loss: 0.6403 - accuracy: 0.8027 - val_loss: 0.7502 - val_accuracy: 0.7772 - 936ms/epoch - 7ms/step\n",
      "Epoch 41/100\n",
      "140/140 - 1s - loss: 0.6370 - accuracy: 0.8032 - val_loss: 0.7489 - val_accuracy: 0.7790 - 797ms/epoch - 6ms/step\n",
      "Epoch 42/100\n",
      "140/140 - 1s - loss: 0.6397 - accuracy: 0.8010 - val_loss: 0.7448 - val_accuracy: 0.7769 - 624ms/epoch - 4ms/step\n",
      "Epoch 43/100\n",
      "140/140 - 1s - loss: 0.6345 - accuracy: 0.8048 - val_loss: 0.7210 - val_accuracy: 0.7838 - 592ms/epoch - 4ms/step\n",
      "Epoch 44/100\n",
      "140/140 - 1s - loss: 0.6179 - accuracy: 0.8092 - val_loss: 0.7133 - val_accuracy: 0.7875 - 600ms/epoch - 4ms/step\n",
      "Epoch 45/100\n",
      "140/140 - 1s - loss: 0.6119 - accuracy: 0.8102 - val_loss: 0.7320 - val_accuracy: 0.7787 - 594ms/epoch - 4ms/step\n",
      "Epoch 46/100\n",
      "140/140 - 1s - loss: 0.6185 - accuracy: 0.8082 - val_loss: 0.7244 - val_accuracy: 0.7863 - 635ms/epoch - 5ms/step\n",
      "Epoch 47/100\n",
      "140/140 - 1s - loss: 0.6005 - accuracy: 0.8144 - val_loss: 0.7302 - val_accuracy: 0.7824 - 594ms/epoch - 4ms/step\n",
      "Epoch 48/100\n",
      "140/140 - 1s - loss: 0.5935 - accuracy: 0.8183 - val_loss: 0.7094 - val_accuracy: 0.7891 - 601ms/epoch - 4ms/step\n",
      "Epoch 49/100\n",
      "140/140 - 1s - loss: 0.5895 - accuracy: 0.8181 - val_loss: 0.7072 - val_accuracy: 0.7944 - 584ms/epoch - 4ms/step\n",
      "Epoch 50/100\n",
      "140/140 - 1s - loss: 0.5984 - accuracy: 0.8140 - val_loss: 0.7284 - val_accuracy: 0.7841 - 581ms/epoch - 4ms/step\n",
      "Epoch 51/100\n",
      "140/140 - 1s - loss: 0.5819 - accuracy: 0.8186 - val_loss: 0.7319 - val_accuracy: 0.7856 - 581ms/epoch - 4ms/step\n",
      "Epoch 52/100\n",
      "140/140 - 1s - loss: 0.5771 - accuracy: 0.8195 - val_loss: 0.7061 - val_accuracy: 0.7935 - 637ms/epoch - 5ms/step\n",
      "Epoch 53/100\n",
      "140/140 - 1s - loss: 0.5820 - accuracy: 0.8200 - val_loss: 0.6876 - val_accuracy: 0.7975 - 742ms/epoch - 5ms/step\n",
      "Epoch 54/100\n",
      "140/140 - 1s - loss: 0.5707 - accuracy: 0.8232 - val_loss: 0.7133 - val_accuracy: 0.7893 - 587ms/epoch - 4ms/step\n",
      "Epoch 55/100\n",
      "140/140 - 1s - loss: 0.5713 - accuracy: 0.8220 - val_loss: 0.7000 - val_accuracy: 0.7949 - 595ms/epoch - 4ms/step\n",
      "Epoch 56/100\n",
      "140/140 - 1s - loss: 0.5687 - accuracy: 0.8220 - val_loss: 0.7231 - val_accuracy: 0.7889 - 593ms/epoch - 4ms/step\n",
      "Epoch 57/100\n",
      "140/140 - 1s - loss: 0.5600 - accuracy: 0.8269 - val_loss: 0.7124 - val_accuracy: 0.7894 - 591ms/epoch - 4ms/step\n",
      "Epoch 58/100\n",
      "140/140 - 1s - loss: 0.5655 - accuracy: 0.8239 - val_loss: 0.6923 - val_accuracy: 0.7968 - 814ms/epoch - 6ms/step\n",
      "Epoch 59/100\n",
      "140/140 - 1s - loss: 0.5701 - accuracy: 0.8216 - val_loss: 0.6742 - val_accuracy: 0.8030 - 948ms/epoch - 7ms/step\n",
      "Epoch 60/100\n",
      "140/140 - 1s - loss: 0.5542 - accuracy: 0.8274 - val_loss: 0.6904 - val_accuracy: 0.7981 - 813ms/epoch - 6ms/step\n",
      "Epoch 61/100\n",
      "140/140 - 1s - loss: 0.5499 - accuracy: 0.8277 - val_loss: 0.7292 - val_accuracy: 0.7875 - 796ms/epoch - 6ms/step\n",
      "Epoch 62/100\n",
      "140/140 - 1s - loss: 0.5392 - accuracy: 0.8319 - val_loss: 0.6962 - val_accuracy: 0.8017 - 703ms/epoch - 5ms/step\n",
      "Epoch 63/100\n",
      "140/140 - 1s - loss: 0.5333 - accuracy: 0.8338 - val_loss: 0.6868 - val_accuracy: 0.8012 - 596ms/epoch - 4ms/step\n",
      "Epoch 64/100\n",
      "140/140 - 1s - loss: 0.5308 - accuracy: 0.8325 - val_loss: 0.6989 - val_accuracy: 0.7944 - 609ms/epoch - 4ms/step\n",
      "Epoch 65/100\n",
      "140/140 - 1s - loss: 0.5464 - accuracy: 0.8285 - val_loss: 0.7203 - val_accuracy: 0.7888 - 564ms/epoch - 4ms/step\n",
      "Epoch 66/100\n",
      "140/140 - 1s - loss: 0.5340 - accuracy: 0.8339 - val_loss: 0.6994 - val_accuracy: 0.7946 - 577ms/epoch - 4ms/step\n",
      "Epoch 67/100\n",
      "140/140 - 1s - loss: 0.5244 - accuracy: 0.8350 - val_loss: 0.6821 - val_accuracy: 0.8031 - 585ms/epoch - 4ms/step\n",
      "Epoch 68/100\n",
      "140/140 - 1s - loss: 0.5192 - accuracy: 0.8379 - val_loss: 0.7241 - val_accuracy: 0.7869 - 598ms/epoch - 4ms/step\n",
      "Epoch 69/100\n",
      "140/140 - 1s - loss: 0.5215 - accuracy: 0.8366 - val_loss: 0.7020 - val_accuracy: 0.7949 - 598ms/epoch - 4ms/step\n",
      "Epoch 70/100\n",
      "140/140 - 1s - loss: 0.5200 - accuracy: 0.8381 - val_loss: 0.7258 - val_accuracy: 0.7877 - 576ms/epoch - 4ms/step\n",
      "Epoch 71/100\n",
      "140/140 - 1s - loss: 0.5232 - accuracy: 0.8361 - val_loss: 0.7051 - val_accuracy: 0.7982 - 580ms/epoch - 4ms/step\n",
      "Epoch 72/100\n",
      "140/140 - 1s - loss: 0.5115 - accuracy: 0.8400 - val_loss: 0.6796 - val_accuracy: 0.8057 - 592ms/epoch - 4ms/step\n",
      "Epoch 73/100\n",
      "140/140 - 1s - loss: 0.5089 - accuracy: 0.8408 - val_loss: 0.6882 - val_accuracy: 0.8013 - 591ms/epoch - 4ms/step\n",
      "Epoch 74/100\n",
      "140/140 - 1s - loss: 0.5038 - accuracy: 0.8427 - val_loss: 0.6967 - val_accuracy: 0.7958 - 586ms/epoch - 4ms/step\n",
      "Epoch 75/100\n",
      "140/140 - 1s - loss: 0.5052 - accuracy: 0.8416 - val_loss: 0.7032 - val_accuracy: 0.7973 - 591ms/epoch - 4ms/step\n",
      "Epoch 76/100\n",
      "140/140 - 1s - loss: 0.5090 - accuracy: 0.8419 - val_loss: 0.7046 - val_accuracy: 0.8002 - 599ms/epoch - 4ms/step\n",
      "Epoch 77/100\n",
      "140/140 - 1s - loss: 0.4939 - accuracy: 0.8435 - val_loss: 0.6972 - val_accuracy: 0.7996 - 617ms/epoch - 4ms/step\n",
      "Epoch 78/100\n",
      "140/140 - 1s - loss: 0.4942 - accuracy: 0.8460 - val_loss: 0.6764 - val_accuracy: 0.8060 - 611ms/epoch - 4ms/step\n",
      "Epoch 79/100\n",
      "140/140 - 1s - loss: 0.4917 - accuracy: 0.8450 - val_loss: 0.6854 - val_accuracy: 0.8038 - 769ms/epoch - 5ms/step\n",
      "Epoch 80/100\n",
      "140/140 - 1s - loss: 0.4951 - accuracy: 0.8447 - val_loss: 0.6933 - val_accuracy: 0.8010 - 769ms/epoch - 5ms/step\n",
      "Epoch 81/100\n",
      "140/140 - 1s - loss: 0.4793 - accuracy: 0.8492 - val_loss: 0.7070 - val_accuracy: 0.7948 - 982ms/epoch - 7ms/step\n",
      "Epoch 82/100\n",
      "140/140 - 1s - loss: 0.4905 - accuracy: 0.8461 - val_loss: 0.6927 - val_accuracy: 0.8024 - 1s/epoch - 7ms/step\n",
      "Epoch 83/100\n",
      "140/140 - 1s - loss: 0.4855 - accuracy: 0.8475 - val_loss: 0.6864 - val_accuracy: 0.8011 - 613ms/epoch - 4ms/step\n",
      "Epoch 84/100\n",
      "140/140 - 1s - loss: 0.4838 - accuracy: 0.8467 - val_loss: 0.6957 - val_accuracy: 0.7984 - 598ms/epoch - 4ms/step\n",
      "Epoch 85/100\n",
      "140/140 - 1s - loss: 0.4786 - accuracy: 0.8499 - val_loss: 0.6898 - val_accuracy: 0.8016 - 594ms/epoch - 4ms/step\n",
      "Epoch 86/100\n",
      "140/140 - 1s - loss: 0.4801 - accuracy: 0.8482 - val_loss: 0.7185 - val_accuracy: 0.7974 - 586ms/epoch - 4ms/step\n",
      "Epoch 87/100\n",
      "140/140 - 1s - loss: 0.4697 - accuracy: 0.8521 - val_loss: 0.6965 - val_accuracy: 0.7979 - 571ms/epoch - 4ms/step\n",
      "Epoch 88/100\n",
      "140/140 - 1s - loss: 0.4730 - accuracy: 0.8519 - val_loss: 0.7009 - val_accuracy: 0.8023 - 579ms/epoch - 4ms/step\n",
      "Epoch 89/100\n",
      "140/140 - 1s - loss: 0.4689 - accuracy: 0.8518 - val_loss: 0.6973 - val_accuracy: 0.8022 - 588ms/epoch - 4ms/step\n",
      "Epoch 90/100\n",
      "140/140 - 1s - loss: 0.4614 - accuracy: 0.8533 - val_loss: 0.6905 - val_accuracy: 0.8071 - 602ms/epoch - 4ms/step\n",
      "Epoch 91/100\n",
      "140/140 - 1s - loss: 0.4631 - accuracy: 0.8534 - val_loss: 0.6983 - val_accuracy: 0.8009 - 588ms/epoch - 4ms/step\n",
      "Epoch 92/100\n",
      "140/140 - 1s - loss: 0.4534 - accuracy: 0.8568 - val_loss: 0.7008 - val_accuracy: 0.8015 - 613ms/epoch - 4ms/step\n",
      "Epoch 93/100\n",
      "140/140 - 1s - loss: 0.4617 - accuracy: 0.8538 - val_loss: 0.6922 - val_accuracy: 0.8032 - 630ms/epoch - 5ms/step\n",
      "Epoch 94/100\n",
      "140/140 - 1s - loss: 0.4547 - accuracy: 0.8571 - val_loss: 0.6848 - val_accuracy: 0.8045 - 615ms/epoch - 4ms/step\n",
      "Epoch 95/100\n",
      "140/140 - 1s - loss: 0.4516 - accuracy: 0.8566 - val_loss: 0.7109 - val_accuracy: 0.7964 - 590ms/epoch - 4ms/step\n",
      "Epoch 96/100\n",
      "140/140 - 1s - loss: 0.4599 - accuracy: 0.8544 - val_loss: 0.6755 - val_accuracy: 0.8081 - 577ms/epoch - 4ms/step\n",
      "Epoch 97/100\n",
      "140/140 - 1s - loss: 0.4519 - accuracy: 0.8574 - val_loss: 0.7239 - val_accuracy: 0.7916 - 582ms/epoch - 4ms/step\n",
      "Epoch 98/100\n",
      "140/140 - 1s - loss: 0.4564 - accuracy: 0.8558 - val_loss: 0.6870 - val_accuracy: 0.8037 - 589ms/epoch - 4ms/step\n",
      "Epoch 99/100\n",
      "140/140 - 1s - loss: 0.4494 - accuracy: 0.8574 - val_loss: 0.6746 - val_accuracy: 0.8077 - 712ms/epoch - 5ms/step\n",
      "Epoch 100/100\n",
      "140/140 - 1s - loss: 0.4491 - accuracy: 0.8574 - val_loss: 0.6955 - val_accuracy: 0.8044 - 807ms/epoch - 6ms/step\n"
     ]
    }
   ],
   "source": [
    "# Fit the model\n",
    "training_history = model.fit(X_train, y_train, validation_data=(X_test, y_test), epochs=100, batch_size=300, verbose=2)"
   ]
  },
  {
   "cell_type": "markdown",
   "metadata": {
    "id": "16tsNO6kel_v"
   },
   "source": [
    "### **3.C. Evaluate performance of the model with appropriate metrics.**"
   ]
  },
  {
   "cell_type": "code",
   "execution_count": 71,
   "metadata": {
    "colab": {
     "base_uri": "https://localhost:8080/",
     "height": 777
    },
    "id": "cZYpY3d80DQB",
    "outputId": "de33f327-bfe3-48b9-ea19-5bbde0571772"
   },
   "outputs": [
    {
     "name": "stdout",
     "output_type": "stream",
     "text": [
      "563/563 [==============================] - 1s 2ms/step\n",
      "              precision    recall  f1-score   support\n",
      "\n",
      "           0       0.88      0.84      0.86      1814\n",
      "           1       0.82      0.83      0.82      1828\n",
      "           2       0.89      0.78      0.83      1803\n",
      "           3       0.75      0.75      0.75      1719\n",
      "           4       0.78      0.86      0.82      1812\n",
      "           5       0.71      0.81      0.76      1768\n",
      "           6       0.77      0.82      0.79      1832\n",
      "           7       0.87      0.83      0.85      1808\n",
      "           8       0.79      0.73      0.76      1812\n",
      "           9       0.80      0.79      0.79      1804\n",
      "\n",
      "    accuracy                           0.80     18000\n",
      "   macro avg       0.81      0.80      0.80     18000\n",
      "weighted avg       0.81      0.80      0.80     18000\n",
      "\n"
     ]
    },
    {
     "data": {
      "image/png": "[encoded data removed]",
      "text/plain": [
       "<Figure size 800x500 with 2 Axes>"
      ]
     },
     "metadata": {},
     "output_type": "display_data"
    }
   ],
   "source": [
    "from sklearn.metrics import classification_report, confusion_matrix\n",
    "\n",
    "# Predicting on the test data\n",
    "test_pred = model.predict(X_test)\n",
    "test_pred = np.argmax(test_pred, axis=-1)\n",
    "\n",
    "# Converting each entry to a single label from a one-hot encoded vector\n",
    "y_test = np.argmax(y_test, axis=-1)\n",
    "\n",
    "# Printing the classification report\n",
    "print(classification_report(y_test, test_pred))\n",
    "\n",
    "# Plotting the heatmap using confusion matrix\n",
    "cm = confusion_matrix(y_test, test_pred)\n",
    "plt.figure(figsize=(8, 5))\n",
    "sns.heatmap(cm, annot=True, fmt='.0f')\n",
    "plt.ylabel('Actual')\n",
    "plt.xlabel('Predicted')\n",
    "plt.show()"
   ]
  },
  {
   "cell_type": "markdown",
   "metadata": {
    "id": "sPVofhUz0_jJ"
   },
   "source": [
    "### **3.D. Plot the training loss, validation loss vs number of epochs and training accuracy, validation accuracy vs number of epochs plot and write your observations on the same.**"
   ]
  },
  {
   "cell_type": "code",
   "execution_count": 72,
   "metadata": {
    "colab": {
     "base_uri": "https://localhost:8080/",
     "height": 494
    },
    "id": "vh_QL0NgXrZ0",
    "outputId": "713f4cba-f48f-47ff-c2dc-0aa005dd389a"
   },
   "outputs": [
    {
     "data": {
      "image/png": "[encoded data removed]",
      "text/plain": [
       "<Figure size 1200x500 with 2 Axes>"
      ]
     },
     "metadata": {},
     "output_type": "display_data"
    }
   ],
   "source": [
    "import matplotlib.pyplot as plt\n",
    "\n",
    "# Extract the training history\n",
    "train_loss = training_history.history['loss']\n",
    "val_loss = training_history.history['val_loss']\n",
    "train_accuracy = training_history.history['accuracy']\n",
    "val_accuracy = training_history.history['val_accuracy']\n",
    "# Plot training loss and validation loss\n",
    "plt.figure(figsize=(12, 5))\n",
    "plt.subplot(1, 2, 1)\n",
    "plt.plot(train_loss, label='Training Loss', color='blue')\n",
    "plt.plot(val_loss, label='Validation Loss', color='red')\n",
    "plt.xlabel('Epochs')\n",
    "plt.ylabel('Loss')\n",
    "plt.legend()\n",
    "plt.title('Training and Validation Loss')\n",
    "\n",
    "# Plot training accuracy and validation accuracy\n",
    "plt.subplot(1, 2, 2)\n",
    "plt.plot(train_accuracy, label='Training Accuracy', color='blue')\n",
    "plt.plot(val_accuracy, label='Validation Accuracy', color='red')\n",
    "plt.xlabel('Epochs')\n",
    "plt.ylabel('Accuracy')\n",
    "plt.legend()\n",
    "plt.title('Training and Validation Accuracy')\n",
    "\n",
    "plt.tight_layout()\n",
    "plt.show()"
   ]
  },
  {
   "cell_type": "markdown",
   "metadata": {
    "id": "TTbU-Ahz9Msl"
   },
   "source": [
    "- The dataset contains about 10 classes, each representing the digits between 0 and 9.\n",
    "\n",
    "- We conducted an experiment where we trained a Neural Network with dense hidden layers containing different numbers of units, and we successfully attained a final test accuracy of 81%.\n",
    "\n",
    "- We can see that, as we continue training the model, it starts to exhibit overfitting on our dataset. This becomes evident in the graph provided, where the validation loss begins to rise and the validation accuracy begins to decrease after a certain stage.\n",
    "\n",
    "- We can effectively differentiate between the various digits in this dataset due to the level of accuracy achieved.\n",
    "\n",
    "\n",
    "\n",
    "\n",
    "\n",
    "\n",
    "\n",
    "\n",
    "\n",
    "\n",
    "\n",
    "\n",
    "\n",
    "\n",
    "\n",
    "\n",
    "\n"
   ]
  }
 ],
 "metadata": {
  "accelerator": "GPU",
  "colab": {
   "provenance": []
  },
  "kernelspec": {
   "display_name": "Python 3 (ipykernel)",
   "language": "python",
   "name": "python3"
  },
  "language_info": {
   "codemirror_mode": {
    "name": "ipython",
    "version": 3
   },
   "file_extension": ".py",
   "mimetype": "text/x-python",
   "name": "python",
   "nbconvert_exporter": "python",
   "pygments_lexer": "ipython3",
   "version": "3.9.18"
  }
 },
 "nbformat": 4,
 "nbformat_minor": 1
}
