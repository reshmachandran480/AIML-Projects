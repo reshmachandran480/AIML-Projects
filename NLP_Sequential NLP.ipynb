# Calculate the lengths of each sentence in the testing set
test_sentence_lengths = [len(sent) for sent in x_test]

# Visualize the distribution of sentence lengths in the testing dataset
plt.figure(figsize=(8, 6))
sns.boxplot(x=test_sentence_lengths, color='orange')
plt.title('Distribution of Sentence Lengths in the Testing Dataset')
plt.xlabel('Sentence Length')
plt.show()

