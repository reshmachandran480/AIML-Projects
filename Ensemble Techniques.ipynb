{
 "cells": [
  {
   "cell_type": "markdown",
   "id": "5d6901fa",
   "metadata": {},
   "source": [
    "**DOMAIN:** Telecom\n",
    "\n",
    "**CONTEXT:** A telecom company wants to use their historical customer data and leverage machine learning to predict behaviour in an attempt to retain customers. The end goal is to develop focused customer retention programs. \n",
    "\n",
    "**DATA DESCRIPTION:** Each row represents a customer, each column contains customer’s attributes described on the column Metadata. Thedata set includes information about:\n",
    " - Customers who left within the last month – the column is called Churn.\n",
    " - Services that each customer has signed up for – phone, multiple lines, internet, online security, online backup, device protection, tech support and streaming TV and movies.\n",
    " - Customer account information – how long they’ve been a customer, contract, payment method, paperless billing, monthly charges, and total charges.\n",
    " - Demographic info about customers – gender, age range, and if they have partners and dependents.\n",
    " \n",
    " **PROJECT OBJECTIVE:** The objective, as a data scientist hired by the telecom company, is to build a model that will help to identify the potential customers who have a higher probability to churn. This will help the company to understand the pain points and patterns of customer churn and will increase the focus on strategising customer retention."
   ]
  },
  {
   "cell_type": "markdown",
   "id": "4ab0ef30",
   "metadata": {},
   "source": [
    "### Import necessary libraries"
   ]
  },
  {
   "cell_type": "markdown",
   "id": "b51d191d",
   "metadata": {},
   "source": [
    "Necessary libaries for EDA"
   ]
  },
  {
   "cell_type": "code",
   "execution_count": 1,
   "id": "7ec6e370",
   "metadata": {},
   "outputs": [],
   "source": [
    "import pandas as pd\n",
    "import numpy as np\n",
    "import matplotlib.pyplot as plt\n",
    "import seaborn as sns\n",
    "%matplotlib inline"
   ]
  },
  {
   "cell_type": "markdown",
   "id": "85e6b874",
   "metadata": {},
   "source": [
    "Necessary libaries for Machine Learning"
   ]
  },
  {
   "cell_type": "code",
   "execution_count": 2,
   "id": "4c6ed2d3",
   "metadata": {},
   "outputs": [],
   "source": [
    "from sklearn.preprocessing import LabelEncoder\n",
    "from sklearn.model_selection import train_test_split\n",
    "from sklearn.metrics import precision_recall_fscore_support, mean_absolute_error\n",
    "from sklearn.metrics import accuracy_score, confusion_matrix, classification_report,precision_score, recall_score, f1_score,roc_auc_score,roc_curve\n",
    "from sklearn.preprocessing import StandardScaler\n",
    "\n",
    "# Machine Learning Models\n",
    "from sklearn.naive_bayes import GaussianNB\n",
    "from sklearn.linear_model import LogisticRegression\n",
    "from sklearn.model_selection import GridSearchCV\n",
    "from sklearn.tree import DecisionTreeClassifier\n",
    "from sklearn.ensemble import BaggingClassifier, AdaBoostClassifier, GradientBoostingClassifier, RandomForestClassifier\n",
    "from xgboost import XGBClassifier"
   ]
  },
  {
   "cell_type": "markdown",
   "id": "67b26ac3",
   "metadata": {},
   "source": [
    "### 1. Data Understanding & Exploration:"
   ]
  },
  {
   "cell_type": "markdown",
   "id": "045377ba",
   "metadata": {},
   "source": [
    "### A. Read 'TelcomCustomer-Churn_1.csv' as a DataFrame and assign it to a variable."
   ]
  },
  {
   "cell_type": "code",
   "execution_count": 3,
   "id": "fef00659",
   "metadata": {},
   "outputs": [],
   "source": [
    "df1 = pd.read_csv('TelcomCustomer-Churn_1.csv')"
   ]
  },
  {
   "cell_type": "code",
   "execution_count": 4,
   "id": "c3d2c146",
   "metadata": {},
   "outputs": [
    {
     "data": {
      "text/html": [
       "<div>\n",
       "<style scoped>\n",
       "    .dataframe tbody tr th:only-of-type {\n",
       "        vertical-align: middle;\n",
       "    }\n",
       "\n",
       "    .dataframe tbody tr th {\n",
       "        vertical-align: top;\n",
       "    }\n",
       "\n",
       "    .dataframe thead th {\n",
       "        text-align: right;\n",
       "    }\n",
       "</style>\n",
       "<table border=\"1\" class=\"dataframe\">\n",
       "  <thead>\n",
       "    <tr style=\"text-align: right;\">\n",
       "      <th></th>\n",
       "      <th>customerID</th>\n",
       "      <th>gender</th>\n",
       "      <th>SeniorCitizen</th>\n",
       "      <th>Partner</th>\n",
       "      <th>Dependents</th>\n",
       "      <th>tenure</th>\n",
       "      <th>PhoneService</th>\n",
       "      <th>MultipleLines</th>\n",
       "      <th>InternetService</th>\n",
       "      <th>OnlineSecurity</th>\n",
       "    </tr>\n",
       "  </thead>\n",
       "  <tbody>\n",
       "    <tr>\n",
       "      <th>0</th>\n",
       "      <td>7590-VHVEG</td>\n",
       "      <td>Female</td>\n",
       "      <td>0</td>\n",
       "      <td>Yes</td>\n",
       "      <td>No</td>\n",
       "      <td>1</td>\n",
       "      <td>No</td>\n",
       "      <td>No phone service</td>\n",
       "      <td>DSL</td>\n",
       "      <td>No</td>\n",
       "    </tr>\n",
       "    <tr>\n",
       "      <th>1</th>\n",
       "      <td>5575-GNVDE</td>\n",
       "      <td>Male</td>\n",
       "      <td>0</td>\n",
       "      <td>No</td>\n",
       "      <td>No</td>\n",
       "      <td>34</td>\n",
       "      <td>Yes</td>\n",
       "      <td>No</td>\n",
       "      <td>DSL</td>\n",
       "      <td>Yes</td>\n",
       "    </tr>\n",
       "    <tr>\n",
       "      <th>2</th>\n",
       "      <td>3668-QPYBK</td>\n",
       "      <td>Male</td>\n",
       "      <td>0</td>\n",
       "      <td>No</td>\n",
       "      <td>No</td>\n",
       "      <td>2</td>\n",
       "      <td>Yes</td>\n",
       "      <td>No</td>\n",
       "      <td>DSL</td>\n",
       "      <td>Yes</td>\n",
       "    </tr>\n",
       "    <tr>\n",
       "      <th>3</th>\n",
       "      <td>7795-CFOCW</td>\n",
       "      <td>Male</td>\n",
       "      <td>0</td>\n",
       "      <td>No</td>\n",
       "      <td>No</td>\n",
       "      <td>45</td>\n",
       "      <td>No</td>\n",
       "      <td>No phone service</td>\n",
       "      <td>DSL</td>\n",
       "      <td>Yes</td>\n",
       "    </tr>\n",
       "    <tr>\n",
       "      <th>4</th>\n",
       "      <td>9237-HQITU</td>\n",
       "      <td>Female</td>\n",
       "      <td>0</td>\n",
       "      <td>No</td>\n",
       "      <td>No</td>\n",
       "      <td>2</td>\n",
       "      <td>Yes</td>\n",
       "      <td>No</td>\n",
       "      <td>Fiber optic</td>\n",
       "      <td>No</td>\n",
       "    </tr>\n",
       "  </tbody>\n",
       "</table>\n",
       "</div>"
      ],
      "text/plain": [
       "   customerID  gender  SeniorCitizen Partner Dependents  tenure PhoneService  \\\n",
       "0  7590-VHVEG  Female              0     Yes         No       1           No   \n",
       "1  5575-GNVDE    Male              0      No         No      34          Yes   \n",
       "2  3668-QPYBK    Male              0      No         No       2          Yes   \n",
       "3  7795-CFOCW    Male              0      No         No      45           No   \n",
       "4  9237-HQITU  Female              0      No         No       2          Yes   \n",
       "\n",
       "      MultipleLines InternetService OnlineSecurity  \n",
       "0  No phone service             DSL             No  \n",
       "1                No             DSL            Yes  \n",
       "2                No             DSL            Yes  \n",
       "3  No phone service             DSL            Yes  \n",
       "4                No     Fiber optic             No  "
      ]
     },
     "execution_count": 4,
     "metadata": {},
     "output_type": "execute_result"
    }
   ],
   "source": [
    "# Print the first few rows of the DataFrame\n",
    "df1.head()"
   ]
  },
  {
   "cell_type": "code",
   "execution_count": 5,
   "id": "ca32054e",
   "metadata": {},
   "outputs": [
    {
     "data": {
      "text/html": [
       "<div>\n",
       "<style scoped>\n",
       "    .dataframe tbody tr th:only-of-type {\n",
       "        vertical-align: middle;\n",
       "    }\n",
       "\n",
       "    .dataframe tbody tr th {\n",
       "        vertical-align: top;\n",
       "    }\n",
       "\n",
       "    .dataframe thead th {\n",
       "        text-align: right;\n",
       "    }\n",
       "</style>\n",
       "<table border=\"1\" class=\"dataframe\">\n",
       "  <thead>\n",
       "    <tr style=\"text-align: right;\">\n",
       "      <th></th>\n",
       "      <th>customerID</th>\n",
       "      <th>gender</th>\n",
       "      <th>SeniorCitizen</th>\n",
       "      <th>Partner</th>\n",
       "      <th>Dependents</th>\n",
       "      <th>tenure</th>\n",
       "      <th>PhoneService</th>\n",
       "      <th>MultipleLines</th>\n",
       "      <th>InternetService</th>\n",
       "      <th>OnlineSecurity</th>\n",
       "    </tr>\n",
       "  </thead>\n",
       "  <tbody>\n",
       "    <tr>\n",
       "      <th>7038</th>\n",
       "      <td>6840-RESVB</td>\n",
       "      <td>Male</td>\n",
       "      <td>0</td>\n",
       "      <td>Yes</td>\n",
       "      <td>Yes</td>\n",
       "      <td>24</td>\n",
       "      <td>Yes</td>\n",
       "      <td>Yes</td>\n",
       "      <td>DSL</td>\n",
       "      <td>Yes</td>\n",
       "    </tr>\n",
       "    <tr>\n",
       "      <th>7039</th>\n",
       "      <td>2234-XADUH</td>\n",
       "      <td>Female</td>\n",
       "      <td>0</td>\n",
       "      <td>Yes</td>\n",
       "      <td>Yes</td>\n",
       "      <td>72</td>\n",
       "      <td>Yes</td>\n",
       "      <td>Yes</td>\n",
       "      <td>Fiber optic</td>\n",
       "      <td>No</td>\n",
       "    </tr>\n",
       "    <tr>\n",
       "      <th>7040</th>\n",
       "      <td>4801-JZAZL</td>\n",
       "      <td>Female</td>\n",
       "      <td>0</td>\n",
       "      <td>Yes</td>\n",
       "      <td>Yes</td>\n",
       "      <td>11</td>\n",
       "      <td>No</td>\n",
       "      <td>No phone service</td>\n",
       "      <td>DSL</td>\n",
       "      <td>Yes</td>\n",
       "    </tr>\n",
       "    <tr>\n",
       "      <th>7041</th>\n",
       "      <td>8361-LTMKD</td>\n",
       "      <td>Male</td>\n",
       "      <td>1</td>\n",
       "      <td>Yes</td>\n",
       "      <td>No</td>\n",
       "      <td>4</td>\n",
       "      <td>Yes</td>\n",
       "      <td>Yes</td>\n",
       "      <td>Fiber optic</td>\n",
       "      <td>No</td>\n",
       "    </tr>\n",
       "    <tr>\n",
       "      <th>7042</th>\n",
       "      <td>3186-AJIEK</td>\n",
       "      <td>Male</td>\n",
       "      <td>0</td>\n",
       "      <td>No</td>\n",
       "      <td>No</td>\n",
       "      <td>66</td>\n",
       "      <td>Yes</td>\n",
       "      <td>No</td>\n",
       "      <td>Fiber optic</td>\n",
       "      <td>Yes</td>\n",
       "    </tr>\n",
       "  </tbody>\n",
       "</table>\n",
       "</div>"
      ],
      "text/plain": [
       "      customerID  gender  SeniorCitizen Partner Dependents  tenure  \\\n",
       "7038  6840-RESVB    Male              0     Yes        Yes      24   \n",
       "7039  2234-XADUH  Female              0     Yes        Yes      72   \n",
       "7040  4801-JZAZL  Female              0     Yes        Yes      11   \n",
       "7041  8361-LTMKD    Male              1     Yes         No       4   \n",
       "7042  3186-AJIEK    Male              0      No         No      66   \n",
       "\n",
       "     PhoneService     MultipleLines InternetService OnlineSecurity  \n",
       "7038          Yes               Yes             DSL            Yes  \n",
       "7039          Yes               Yes     Fiber optic             No  \n",
       "7040           No  No phone service             DSL            Yes  \n",
       "7041          Yes               Yes     Fiber optic             No  \n",
       "7042          Yes                No     Fiber optic            Yes  "
      ]
     },
     "execution_count": 5,
     "metadata": {},
     "output_type": "execute_result"
    }
   ],
   "source": [
    "# Print the last few rows of the DataFrame\n",
    "df1.tail()"
   ]
  },
  {
   "cell_type": "code",
   "execution_count": 6,
   "id": "013102c5",
   "metadata": {},
   "outputs": [
    {
     "name": "stdout",
     "output_type": "stream",
     "text": [
      "Shape of df1: (7043, 10)\n",
      "\n",
      "\n",
      "Columns of df1:\n",
      " Index(['customerID', 'gender', 'SeniorCitizen', 'Partner', 'Dependents',\n",
      "       'tenure', 'PhoneService', 'MultipleLines', 'InternetService',\n",
      "       'OnlineSecurity'],\n",
      "      dtype='object')\n"
     ]
    }
   ],
   "source": [
    "# Checking the shape and columns of df1\n",
    "print(\"Shape of df1:\", df1.shape)\n",
    "print('\\n')\n",
    "print(\"Columns of df1:\\n\", df1.columns)"
   ]
  },
  {
   "cell_type": "markdown",
   "id": "305c6534",
   "metadata": {},
   "source": [
    "- df1 has 7043 rows and 10 columns"
   ]
  },
  {
   "cell_type": "code",
   "execution_count": 7,
   "id": "c7ac82af",
   "metadata": {},
   "outputs": [
    {
     "data": {
      "text/plain": [
       "0"
      ]
     },
     "execution_count": 7,
     "metadata": {},
     "output_type": "execute_result"
    }
   ],
   "source": [
    "# Checking if there is any duplicates present in df1\n",
    "df1.duplicated().sum()"
   ]
  },
  {
   "cell_type": "markdown",
   "id": "e9a9c433",
   "metadata": {},
   "source": [
    "### B. Read 'TelcomCustomer-Churn_2.csv' as a DataFrame and assign it to a variable."
   ]
  },
  {
   "cell_type": "code",
   "execution_count": 8,
   "id": "593841eb",
   "metadata": {},
   "outputs": [],
   "source": [
    "df2 = pd.read_csv('TelcomCustomer-Churn_2.csv')"
   ]
  },
  {
   "cell_type": "code",
   "execution_count": 9,
   "id": "2301d4b7",
   "metadata": {},
   "outputs": [
    {
     "data": {
      "text/html": [
       "<div>\n",
       "<style scoped>\n",
       "    .dataframe tbody tr th:only-of-type {\n",
       "        vertical-align: middle;\n",
       "    }\n",
       "\n",
       "    .dataframe tbody tr th {\n",
       "        vertical-align: top;\n",
       "    }\n",
       "\n",
       "    .dataframe thead th {\n",
       "        text-align: right;\n",
       "    }\n",
       "</style>\n",
       "<table border=\"1\" class=\"dataframe\">\n",
       "  <thead>\n",
       "    <tr style=\"text-align: right;\">\n",
       "      <th></th>\n",
       "      <th>customerID</th>\n",
       "      <th>OnlineBackup</th>\n",
       "      <th>DeviceProtection</th>\n",
       "      <th>TechSupport</th>\n",
       "      <th>StreamingTV</th>\n",
       "      <th>StreamingMovies</th>\n",
       "      <th>Contract</th>\n",
       "      <th>PaperlessBilling</th>\n",
       "      <th>PaymentMethod</th>\n",
       "      <th>MonthlyCharges</th>\n",
       "      <th>TotalCharges</th>\n",
       "      <th>Churn</th>\n",
       "    </tr>\n",
       "  </thead>\n",
       "  <tbody>\n",
       "    <tr>\n",
       "      <th>0</th>\n",
       "      <td>7590-VHVEG</td>\n",
       "      <td>Yes</td>\n",
       "      <td>No</td>\n",
       "      <td>No</td>\n",
       "      <td>No</td>\n",
       "      <td>No</td>\n",
       "      <td>Month-to-month</td>\n",
       "      <td>Yes</td>\n",
       "      <td>Electronic check</td>\n",
       "      <td>29.85</td>\n",
       "      <td>29.85</td>\n",
       "      <td>No</td>\n",
       "    </tr>\n",
       "    <tr>\n",
       "      <th>1</th>\n",
       "      <td>5575-GNVDE</td>\n",
       "      <td>No</td>\n",
       "      <td>Yes</td>\n",
       "      <td>No</td>\n",
       "      <td>No</td>\n",
       "      <td>No</td>\n",
       "      <td>One year</td>\n",
       "      <td>No</td>\n",
       "      <td>Mailed check</td>\n",
       "      <td>56.95</td>\n",
       "      <td>1889.5</td>\n",
       "      <td>No</td>\n",
       "    </tr>\n",
       "    <tr>\n",
       "      <th>2</th>\n",
       "      <td>3668-QPYBK</td>\n",
       "      <td>Yes</td>\n",
       "      <td>No</td>\n",
       "      <td>No</td>\n",
       "      <td>No</td>\n",
       "      <td>No</td>\n",
       "      <td>Month-to-month</td>\n",
       "      <td>Yes</td>\n",
       "      <td>Mailed check</td>\n",
       "      <td>53.85</td>\n",
       "      <td>108.15</td>\n",
       "      <td>Yes</td>\n",
       "    </tr>\n",
       "    <tr>\n",
       "      <th>3</th>\n",
       "      <td>7795-CFOCW</td>\n",
       "      <td>No</td>\n",
       "      <td>Yes</td>\n",
       "      <td>Yes</td>\n",
       "      <td>No</td>\n",
       "      <td>No</td>\n",
       "      <td>One year</td>\n",
       "      <td>No</td>\n",
       "      <td>Bank transfer (automatic)</td>\n",
       "      <td>42.30</td>\n",
       "      <td>1840.75</td>\n",
       "      <td>No</td>\n",
       "    </tr>\n",
       "    <tr>\n",
       "      <th>4</th>\n",
       "      <td>9237-HQITU</td>\n",
       "      <td>No</td>\n",
       "      <td>No</td>\n",
       "      <td>No</td>\n",
       "      <td>No</td>\n",
       "      <td>No</td>\n",
       "      <td>Month-to-month</td>\n",
       "      <td>Yes</td>\n",
       "      <td>Electronic check</td>\n",
       "      <td>70.70</td>\n",
       "      <td>151.65</td>\n",
       "      <td>Yes</td>\n",
       "    </tr>\n",
       "  </tbody>\n",
       "</table>\n",
       "</div>"
      ],
      "text/plain": [
       "   customerID OnlineBackup DeviceProtection TechSupport StreamingTV  \\\n",
       "0  7590-VHVEG          Yes               No          No          No   \n",
       "1  5575-GNVDE           No              Yes          No          No   \n",
       "2  3668-QPYBK          Yes               No          No          No   \n",
       "3  7795-CFOCW           No              Yes         Yes          No   \n",
       "4  9237-HQITU           No               No          No          No   \n",
       "\n",
       "  StreamingMovies        Contract PaperlessBilling              PaymentMethod  \\\n",
       "0              No  Month-to-month              Yes           Electronic check   \n",
       "1              No        One year               No               Mailed check   \n",
       "2              No  Month-to-month              Yes               Mailed check   \n",
       "3              No        One year               No  Bank transfer (automatic)   \n",
       "4              No  Month-to-month              Yes           Electronic check   \n",
       "\n",
       "   MonthlyCharges TotalCharges Churn  \n",
       "0           29.85        29.85    No  \n",
       "1           56.95       1889.5    No  \n",
       "2           53.85       108.15   Yes  \n",
       "3           42.30      1840.75    No  \n",
       "4           70.70       151.65   Yes  "
      ]
     },
     "execution_count": 9,
     "metadata": {},
     "output_type": "execute_result"
    }
   ],
   "source": [
    "# Print the first few rows of the DataFrame\n",
    "df2.head()"
   ]
  },
  {
   "cell_type": "code",
   "execution_count": 10,
   "id": "a740da89",
   "metadata": {},
   "outputs": [
    {
     "data": {
      "text/html": [
       "<div>\n",
       "<style scoped>\n",
       "    .dataframe tbody tr th:only-of-type {\n",
       "        vertical-align: middle;\n",
       "    }\n",
       "\n",
       "    .dataframe tbody tr th {\n",
       "        vertical-align: top;\n",
       "    }\n",
       "\n",
       "    .dataframe thead th {\n",
       "        text-align: right;\n",
       "    }\n",
       "</style>\n",
       "<table border=\"1\" class=\"dataframe\">\n",
       "  <thead>\n",
       "    <tr style=\"text-align: right;\">\n",
       "      <th></th>\n",
       "      <th>customerID</th>\n",
       "      <th>OnlineBackup</th>\n",
       "      <th>DeviceProtection</th>\n",
       "      <th>TechSupport</th>\n",
       "      <th>StreamingTV</th>\n",
       "      <th>StreamingMovies</th>\n",
       "      <th>Contract</th>\n",
       "      <th>PaperlessBilling</th>\n",
       "      <th>PaymentMethod</th>\n",
       "      <th>MonthlyCharges</th>\n",
       "      <th>TotalCharges</th>\n",
       "      <th>Churn</th>\n",
       "    </tr>\n",
       "  </thead>\n",
       "  <tbody>\n",
       "    <tr>\n",
       "      <th>7038</th>\n",
       "      <td>6840-RESVB</td>\n",
       "      <td>No</td>\n",
       "      <td>Yes</td>\n",
       "      <td>Yes</td>\n",
       "      <td>Yes</td>\n",
       "      <td>Yes</td>\n",
       "      <td>One year</td>\n",
       "      <td>Yes</td>\n",
       "      <td>Mailed check</td>\n",
       "      <td>84.80</td>\n",
       "      <td>1990.5</td>\n",
       "      <td>No</td>\n",
       "    </tr>\n",
       "    <tr>\n",
       "      <th>7039</th>\n",
       "      <td>2234-XADUH</td>\n",
       "      <td>Yes</td>\n",
       "      <td>Yes</td>\n",
       "      <td>No</td>\n",
       "      <td>Yes</td>\n",
       "      <td>Yes</td>\n",
       "      <td>One year</td>\n",
       "      <td>Yes</td>\n",
       "      <td>Credit card (automatic)</td>\n",
       "      <td>103.20</td>\n",
       "      <td>7362.9</td>\n",
       "      <td>No</td>\n",
       "    </tr>\n",
       "    <tr>\n",
       "      <th>7040</th>\n",
       "      <td>4801-JZAZL</td>\n",
       "      <td>No</td>\n",
       "      <td>No</td>\n",
       "      <td>No</td>\n",
       "      <td>No</td>\n",
       "      <td>No</td>\n",
       "      <td>Month-to-month</td>\n",
       "      <td>Yes</td>\n",
       "      <td>Electronic check</td>\n",
       "      <td>29.60</td>\n",
       "      <td>346.45</td>\n",
       "      <td>No</td>\n",
       "    </tr>\n",
       "    <tr>\n",
       "      <th>7041</th>\n",
       "      <td>8361-LTMKD</td>\n",
       "      <td>No</td>\n",
       "      <td>No</td>\n",
       "      <td>No</td>\n",
       "      <td>No</td>\n",
       "      <td>No</td>\n",
       "      <td>Month-to-month</td>\n",
       "      <td>Yes</td>\n",
       "      <td>Mailed check</td>\n",
       "      <td>74.40</td>\n",
       "      <td>306.6</td>\n",
       "      <td>Yes</td>\n",
       "    </tr>\n",
       "    <tr>\n",
       "      <th>7042</th>\n",
       "      <td>3186-AJIEK</td>\n",
       "      <td>No</td>\n",
       "      <td>Yes</td>\n",
       "      <td>Yes</td>\n",
       "      <td>Yes</td>\n",
       "      <td>Yes</td>\n",
       "      <td>Two year</td>\n",
       "      <td>Yes</td>\n",
       "      <td>Bank transfer (automatic)</td>\n",
       "      <td>105.65</td>\n",
       "      <td>6844.5</td>\n",
       "      <td>No</td>\n",
       "    </tr>\n",
       "  </tbody>\n",
       "</table>\n",
       "</div>"
      ],
      "text/plain": [
       "      customerID OnlineBackup DeviceProtection TechSupport StreamingTV  \\\n",
       "7038  6840-RESVB           No              Yes         Yes         Yes   \n",
       "7039  2234-XADUH          Yes              Yes          No         Yes   \n",
       "7040  4801-JZAZL           No               No          No          No   \n",
       "7041  8361-LTMKD           No               No          No          No   \n",
       "7042  3186-AJIEK           No              Yes         Yes         Yes   \n",
       "\n",
       "     StreamingMovies        Contract PaperlessBilling  \\\n",
       "7038             Yes        One year              Yes   \n",
       "7039             Yes        One year              Yes   \n",
       "7040              No  Month-to-month              Yes   \n",
       "7041              No  Month-to-month              Yes   \n",
       "7042             Yes        Two year              Yes   \n",
       "\n",
       "                  PaymentMethod  MonthlyCharges TotalCharges Churn  \n",
       "7038               Mailed check           84.80       1990.5    No  \n",
       "7039    Credit card (automatic)          103.20       7362.9    No  \n",
       "7040           Electronic check           29.60       346.45    No  \n",
       "7041               Mailed check           74.40        306.6   Yes  \n",
       "7042  Bank transfer (automatic)          105.65       6844.5    No  "
      ]
     },
     "execution_count": 10,
     "metadata": {},
     "output_type": "execute_result"
    }
   ],
   "source": [
    "# Print the last few rows of the DataFrame\n",
    "df2.tail()"
   ]
  },
  {
   "cell_type": "code",
   "execution_count": 11,
   "id": "d909c04e",
   "metadata": {},
   "outputs": [
    {
     "name": "stdout",
     "output_type": "stream",
     "text": [
      "Shape of df2: (7043, 12)\n",
      "\n",
      "\n",
      "Columns of df2:\n",
      " Index(['customerID', 'OnlineBackup', 'DeviceProtection', 'TechSupport',\n",
      "       'StreamingTV', 'StreamingMovies', 'Contract', 'PaperlessBilling',\n",
      "       'PaymentMethod', 'MonthlyCharges', 'TotalCharges', 'Churn'],\n",
      "      dtype='object')\n"
     ]
    }
   ],
   "source": [
    "# Checking the shape and columns of df2\n",
    "print(\"Shape of df2:\", df2.shape)\n",
    "print('\\n')\n",
    "print(\"Columns of df2:\\n\", df2.columns)"
   ]
  },
  {
   "cell_type": "markdown",
   "id": "fbb13948",
   "metadata": {},
   "source": [
    "- df2 has 7043 rows and 12 columns"
   ]
  },
  {
   "cell_type": "code",
   "execution_count": 12,
   "id": "edb1b1d5",
   "metadata": {},
   "outputs": [
    {
     "data": {
      "text/plain": [
       "0"
      ]
     },
     "execution_count": 12,
     "metadata": {},
     "output_type": "execute_result"
    }
   ],
   "source": [
    "# Checking if there is any duplicates present in df2\n",
    "df2.duplicated().sum()"
   ]
  },
  {
   "cell_type": "markdown",
   "id": "b731e67e",
   "metadata": {},
   "source": [
    "### C.  Merge both the DataFrames on key ‘customerID’ to form a single DataFrame. "
   ]
  },
  {
   "cell_type": "code",
   "execution_count": 13,
   "id": "8c849b36",
   "metadata": {},
   "outputs": [],
   "source": [
    "merged_df= pd.merge(df1, df2, on='customerID')"
   ]
  },
  {
   "cell_type": "code",
   "execution_count": 14,
   "id": "0de98ecf",
   "metadata": {},
   "outputs": [
    {
     "data": {
      "text/html": [
       "<div>\n",
       "<style scoped>\n",
       "    .dataframe tbody tr th:only-of-type {\n",
       "        vertical-align: middle;\n",
       "    }\n",
       "\n",
       "    .dataframe tbody tr th {\n",
       "        vertical-align: top;\n",
       "    }\n",
       "\n",
       "    .dataframe thead th {\n",
       "        text-align: right;\n",
       "    }\n",
       "</style>\n",
       "<table border=\"1\" class=\"dataframe\">\n",
       "  <thead>\n",
       "    <tr style=\"text-align: right;\">\n",
       "      <th></th>\n",
       "      <th>customerID</th>\n",
       "      <th>gender</th>\n",
       "      <th>SeniorCitizen</th>\n",
       "      <th>Partner</th>\n",
       "      <th>Dependents</th>\n",
       "      <th>tenure</th>\n",
       "      <th>PhoneService</th>\n",
       "      <th>MultipleLines</th>\n",
       "      <th>InternetService</th>\n",
       "      <th>OnlineSecurity</th>\n",
       "      <th>...</th>\n",
       "      <th>DeviceProtection</th>\n",
       "      <th>TechSupport</th>\n",
       "      <th>StreamingTV</th>\n",
       "      <th>StreamingMovies</th>\n",
       "      <th>Contract</th>\n",
       "      <th>PaperlessBilling</th>\n",
       "      <th>PaymentMethod</th>\n",
       "      <th>MonthlyCharges</th>\n",
       "      <th>TotalCharges</th>\n",
       "      <th>Churn</th>\n",
       "    </tr>\n",
       "  </thead>\n",
       "  <tbody>\n",
       "    <tr>\n",
       "      <th>0</th>\n",
       "      <td>7590-VHVEG</td>\n",
       "      <td>Female</td>\n",
       "      <td>0</td>\n",
       "      <td>Yes</td>\n",
       "      <td>No</td>\n",
       "      <td>1</td>\n",
       "      <td>No</td>\n",
       "      <td>No phone service</td>\n",
       "      <td>DSL</td>\n",
       "      <td>No</td>\n",
       "      <td>...</td>\n",
       "      <td>No</td>\n",
       "      <td>No</td>\n",
       "      <td>No</td>\n",
       "      <td>No</td>\n",
       "      <td>Month-to-month</td>\n",
       "      <td>Yes</td>\n",
       "      <td>Electronic check</td>\n",
       "      <td>29.85</td>\n",
       "      <td>29.85</td>\n",
       "      <td>No</td>\n",
       "    </tr>\n",
       "    <tr>\n",
       "      <th>1</th>\n",
       "      <td>5575-GNVDE</td>\n",
       "      <td>Male</td>\n",
       "      <td>0</td>\n",
       "      <td>No</td>\n",
       "      <td>No</td>\n",
       "      <td>34</td>\n",
       "      <td>Yes</td>\n",
       "      <td>No</td>\n",
       "      <td>DSL</td>\n",
       "      <td>Yes</td>\n",
       "      <td>...</td>\n",
       "      <td>Yes</td>\n",
       "      <td>No</td>\n",
       "      <td>No</td>\n",
       "      <td>No</td>\n",
       "      <td>One year</td>\n",
       "      <td>No</td>\n",
       "      <td>Mailed check</td>\n",
       "      <td>56.95</td>\n",
       "      <td>1889.5</td>\n",
       "      <td>No</td>\n",
       "    </tr>\n",
       "    <tr>\n",
       "      <th>2</th>\n",
       "      <td>3668-QPYBK</td>\n",
       "      <td>Male</td>\n",
       "      <td>0</td>\n",
       "      <td>No</td>\n",
       "      <td>No</td>\n",
       "      <td>2</td>\n",
       "      <td>Yes</td>\n",
       "      <td>No</td>\n",
       "      <td>DSL</td>\n",
       "      <td>Yes</td>\n",
       "      <td>...</td>\n",
       "      <td>No</td>\n",
       "      <td>No</td>\n",
       "      <td>No</td>\n",
       "      <td>No</td>\n",
       "      <td>Month-to-month</td>\n",
       "      <td>Yes</td>\n",
       "      <td>Mailed check</td>\n",
       "      <td>53.85</td>\n",
       "      <td>108.15</td>\n",
       "      <td>Yes</td>\n",
       "    </tr>\n",
       "    <tr>\n",
       "      <th>3</th>\n",
       "      <td>7795-CFOCW</td>\n",
       "      <td>Male</td>\n",
       "      <td>0</td>\n",
       "      <td>No</td>\n",
       "      <td>No</td>\n",
       "      <td>45</td>\n",
       "      <td>No</td>\n",
       "      <td>No phone service</td>\n",
       "      <td>DSL</td>\n",
       "      <td>Yes</td>\n",
       "      <td>...</td>\n",
       "      <td>Yes</td>\n",
       "      <td>Yes</td>\n",
       "      <td>No</td>\n",
       "      <td>No</td>\n",
       "      <td>One year</td>\n",
       "      <td>No</td>\n",
       "      <td>Bank transfer (automatic)</td>\n",
       "      <td>42.30</td>\n",
       "      <td>1840.75</td>\n",
       "      <td>No</td>\n",
       "    </tr>\n",
       "    <tr>\n",
       "      <th>4</th>\n",
       "      <td>9237-HQITU</td>\n",
       "      <td>Female</td>\n",
       "      <td>0</td>\n",
       "      <td>No</td>\n",
       "      <td>No</td>\n",
       "      <td>2</td>\n",
       "      <td>Yes</td>\n",
       "      <td>No</td>\n",
       "      <td>Fiber optic</td>\n",
       "      <td>No</td>\n",
       "      <td>...</td>\n",
       "      <td>No</td>\n",
       "      <td>No</td>\n",
       "      <td>No</td>\n",
       "      <td>No</td>\n",
       "      <td>Month-to-month</td>\n",
       "      <td>Yes</td>\n",
       "      <td>Electronic check</td>\n",
       "      <td>70.70</td>\n",
       "      <td>151.65</td>\n",
       "      <td>Yes</td>\n",
       "    </tr>\n",
       "  </tbody>\n",
       "</table>\n",
       "<p>5 rows × 21 columns</p>\n",
       "</div>"
      ],
      "text/plain": [
       "   customerID  gender  SeniorCitizen Partner Dependents  tenure PhoneService  \\\n",
       "0  7590-VHVEG  Female              0     Yes         No       1           No   \n",
       "1  5575-GNVDE    Male              0      No         No      34          Yes   \n",
       "2  3668-QPYBK    Male              0      No         No       2          Yes   \n",
       "3  7795-CFOCW    Male              0      No         No      45           No   \n",
       "4  9237-HQITU  Female              0      No         No       2          Yes   \n",
       "\n",
       "      MultipleLines InternetService OnlineSecurity  ... DeviceProtection  \\\n",
       "0  No phone service             DSL             No  ...               No   \n",
       "1                No             DSL            Yes  ...              Yes   \n",
       "2                No             DSL            Yes  ...               No   \n",
       "3  No phone service             DSL            Yes  ...              Yes   \n",
       "4                No     Fiber optic             No  ...               No   \n",
       "\n",
       "  TechSupport StreamingTV StreamingMovies        Contract PaperlessBilling  \\\n",
       "0          No          No              No  Month-to-month              Yes   \n",
       "1          No          No              No        One year               No   \n",
       "2          No          No              No  Month-to-month              Yes   \n",
       "3         Yes          No              No        One year               No   \n",
       "4          No          No              No  Month-to-month              Yes   \n",
       "\n",
       "               PaymentMethod MonthlyCharges  TotalCharges Churn  \n",
       "0           Electronic check          29.85         29.85    No  \n",
       "1               Mailed check          56.95        1889.5    No  \n",
       "2               Mailed check          53.85        108.15   Yes  \n",
       "3  Bank transfer (automatic)          42.30       1840.75    No  \n",
       "4           Electronic check          70.70        151.65   Yes  \n",
       "\n",
       "[5 rows x 21 columns]"
      ]
     },
     "execution_count": 14,
     "metadata": {},
     "output_type": "execute_result"
    }
   ],
   "source": [
    "# Print the first few rows of the merged DataFrame\n",
    "merged_df.head()"
   ]
  },
  {
   "cell_type": "code",
   "execution_count": 15,
   "id": "719a6afd",
   "metadata": {},
   "outputs": [
    {
     "data": {
      "text/html": [
       "<div>\n",
       "<style scoped>\n",
       "    .dataframe tbody tr th:only-of-type {\n",
       "        vertical-align: middle;\n",
       "    }\n",
       "\n",
       "    .dataframe tbody tr th {\n",
       "        vertical-align: top;\n",
       "    }\n",
       "\n",
       "    .dataframe thead th {\n",
       "        text-align: right;\n",
       "    }\n",
       "</style>\n",
       "<table border=\"1\" class=\"dataframe\">\n",
       "  <thead>\n",
       "    <tr style=\"text-align: right;\">\n",
       "      <th></th>\n",
       "      <th>customerID</th>\n",
       "      <th>gender</th>\n",
       "      <th>SeniorCitizen</th>\n",
       "      <th>Partner</th>\n",
       "      <th>Dependents</th>\n",
       "      <th>tenure</th>\n",
       "      <th>PhoneService</th>\n",
       "      <th>MultipleLines</th>\n",
       "      <th>InternetService</th>\n",
       "      <th>OnlineSecurity</th>\n",
       "      <th>...</th>\n",
       "      <th>DeviceProtection</th>\n",
       "      <th>TechSupport</th>\n",
       "      <th>StreamingTV</th>\n",
       "      <th>StreamingMovies</th>\n",
       "      <th>Contract</th>\n",
       "      <th>PaperlessBilling</th>\n",
       "      <th>PaymentMethod</th>\n",
       "      <th>MonthlyCharges</th>\n",
       "      <th>TotalCharges</th>\n",
       "      <th>Churn</th>\n",
       "    </tr>\n",
       "  </thead>\n",
       "  <tbody>\n",
       "    <tr>\n",
       "      <th>7038</th>\n",
       "      <td>6840-RESVB</td>\n",
       "      <td>Male</td>\n",
       "      <td>0</td>\n",
       "      <td>Yes</td>\n",
       "      <td>Yes</td>\n",
       "      <td>24</td>\n",
       "      <td>Yes</td>\n",
       "      <td>Yes</td>\n",
       "      <td>DSL</td>\n",
       "      <td>Yes</td>\n",
       "      <td>...</td>\n",
       "      <td>Yes</td>\n",
       "      <td>Yes</td>\n",
       "      <td>Yes</td>\n",
       "      <td>Yes</td>\n",
       "      <td>One year</td>\n",
       "      <td>Yes</td>\n",
       "      <td>Mailed check</td>\n",
       "      <td>84.80</td>\n",
       "      <td>1990.5</td>\n",
       "      <td>No</td>\n",
       "    </tr>\n",
       "    <tr>\n",
       "      <th>7039</th>\n",
       "      <td>2234-XADUH</td>\n",
       "      <td>Female</td>\n",
       "      <td>0</td>\n",
       "      <td>Yes</td>\n",
       "      <td>Yes</td>\n",
       "      <td>72</td>\n",
       "      <td>Yes</td>\n",
       "      <td>Yes</td>\n",
       "      <td>Fiber optic</td>\n",
       "      <td>No</td>\n",
       "      <td>...</td>\n",
       "      <td>Yes</td>\n",
       "      <td>No</td>\n",
       "      <td>Yes</td>\n",
       "      <td>Yes</td>\n",
       "      <td>One year</td>\n",
       "      <td>Yes</td>\n",
       "      <td>Credit card (automatic)</td>\n",
       "      <td>103.20</td>\n",
       "      <td>7362.9</td>\n",
       "      <td>No</td>\n",
       "    </tr>\n",
       "    <tr>\n",
       "      <th>7040</th>\n",
       "      <td>4801-JZAZL</td>\n",
       "      <td>Female</td>\n",
       "      <td>0</td>\n",
       "      <td>Yes</td>\n",
       "      <td>Yes</td>\n",
       "      <td>11</td>\n",
       "      <td>No</td>\n",
       "      <td>No phone service</td>\n",
       "      <td>DSL</td>\n",
       "      <td>Yes</td>\n",
       "      <td>...</td>\n",
       "      <td>No</td>\n",
       "      <td>No</td>\n",
       "      <td>No</td>\n",
       "      <td>No</td>\n",
       "      <td>Month-to-month</td>\n",
       "      <td>Yes</td>\n",
       "      <td>Electronic check</td>\n",
       "      <td>29.60</td>\n",
       "      <td>346.45</td>\n",
       "      <td>No</td>\n",
       "    </tr>\n",
       "    <tr>\n",
       "      <th>7041</th>\n",
       "      <td>8361-LTMKD</td>\n",
       "      <td>Male</td>\n",
       "      <td>1</td>\n",
       "      <td>Yes</td>\n",
       "      <td>No</td>\n",
       "      <td>4</td>\n",
       "      <td>Yes</td>\n",
       "      <td>Yes</td>\n",
       "      <td>Fiber optic</td>\n",
       "      <td>No</td>\n",
       "      <td>...</td>\n",
       "      <td>No</td>\n",
       "      <td>No</td>\n",
       "      <td>No</td>\n",
       "      <td>No</td>\n",
       "      <td>Month-to-month</td>\n",
       "      <td>Yes</td>\n",
       "      <td>Mailed check</td>\n",
       "      <td>74.40</td>\n",
       "      <td>306.6</td>\n",
       "      <td>Yes</td>\n",
       "    </tr>\n",
       "    <tr>\n",
       "      <th>7042</th>\n",
       "      <td>3186-AJIEK</td>\n",
       "      <td>Male</td>\n",
       "      <td>0</td>\n",
       "      <td>No</td>\n",
       "      <td>No</td>\n",
       "      <td>66</td>\n",
       "      <td>Yes</td>\n",
       "      <td>No</td>\n",
       "      <td>Fiber optic</td>\n",
       "      <td>Yes</td>\n",
       "      <td>...</td>\n",
       "      <td>Yes</td>\n",
       "      <td>Yes</td>\n",
       "      <td>Yes</td>\n",
       "      <td>Yes</td>\n",
       "      <td>Two year</td>\n",
       "      <td>Yes</td>\n",
       "      <td>Bank transfer (automatic)</td>\n",
       "      <td>105.65</td>\n",
       "      <td>6844.5</td>\n",
       "      <td>No</td>\n",
       "    </tr>\n",
       "  </tbody>\n",
       "</table>\n",
       "<p>5 rows × 21 columns</p>\n",
       "</div>"
      ],
      "text/plain": [
       "      customerID  gender  SeniorCitizen Partner Dependents  tenure  \\\n",
       "7038  6840-RESVB    Male              0     Yes        Yes      24   \n",
       "7039  2234-XADUH  Female              0     Yes        Yes      72   \n",
       "7040  4801-JZAZL  Female              0     Yes        Yes      11   \n",
       "7041  8361-LTMKD    Male              1     Yes         No       4   \n",
       "7042  3186-AJIEK    Male              0      No         No      66   \n",
       "\n",
       "     PhoneService     MultipleLines InternetService OnlineSecurity  ...  \\\n",
       "7038          Yes               Yes             DSL            Yes  ...   \n",
       "7039          Yes               Yes     Fiber optic             No  ...   \n",
       "7040           No  No phone service             DSL            Yes  ...   \n",
       "7041          Yes               Yes     Fiber optic             No  ...   \n",
       "7042          Yes                No     Fiber optic            Yes  ...   \n",
       "\n",
       "     DeviceProtection TechSupport StreamingTV StreamingMovies        Contract  \\\n",
       "7038              Yes         Yes         Yes             Yes        One year   \n",
       "7039              Yes          No         Yes             Yes        One year   \n",
       "7040               No          No          No              No  Month-to-month   \n",
       "7041               No          No          No              No  Month-to-month   \n",
       "7042              Yes         Yes         Yes             Yes        Two year   \n",
       "\n",
       "     PaperlessBilling              PaymentMethod MonthlyCharges  TotalCharges  \\\n",
       "7038              Yes               Mailed check          84.80        1990.5   \n",
       "7039              Yes    Credit card (automatic)         103.20        7362.9   \n",
       "7040              Yes           Electronic check          29.60        346.45   \n",
       "7041              Yes               Mailed check          74.40         306.6   \n",
       "7042              Yes  Bank transfer (automatic)         105.65        6844.5   \n",
       "\n",
       "     Churn  \n",
       "7038    No  \n",
       "7039    No  \n",
       "7040    No  \n",
       "7041   Yes  \n",
       "7042    No  \n",
       "\n",
       "[5 rows x 21 columns]"
      ]
     },
     "execution_count": 15,
     "metadata": {},
     "output_type": "execute_result"
    }
   ],
   "source": [
    "# Print the last few rows of the merged DataFrame\n",
    "merged_df.tail()"
   ]
  },
  {
   "cell_type": "markdown",
   "id": "521e19e2",
   "metadata": {},
   "source": [
    "### D. Verify if all the columns are incorporated in the merged DataFrame by using simple comparison Operator in Python."
   ]
  },
  {
   "cell_type": "code",
   "execution_count": 16,
   "id": "9f96493b",
   "metadata": {},
   "outputs": [
    {
     "name": "stdout",
     "output_type": "stream",
     "text": [
      "All columns are incorporated in the merged DataFrame.\n"
     ]
    }
   ],
   "source": [
    "# Get the column names from the original DataFrames\n",
    "df1_columns = df1.columns.tolist()\n",
    "df2_columns = df2.columns.tolist()\n",
    "\n",
    "# Get the column names from the merged DataFrame\n",
    "merged_columns = merged_df.columns.tolist()\n",
    "\n",
    "# Check if all columns from both DataFrames are incorporated in the merged DataFrame\n",
    "if set(df1_columns + df2_columns) == set(merged_columns):\n",
    "    print(\"All columns are incorporated in the merged DataFrame.\")\n",
    "else:\n",
    "    print(\"Not all columns are incorporated in the merged DataFrame.\")"
   ]
  },
  {
   "cell_type": "code",
   "execution_count": 17,
   "id": "e59fbf84",
   "metadata": {},
   "outputs": [
    {
     "name": "stdout",
     "output_type": "stream",
     "text": [
      "Shape of merged_df : (7043, 21)\n",
      "\n",
      "\n",
      "Columns of merged_df:\n",
      " Index(['customerID', 'gender', 'SeniorCitizen', 'Partner', 'Dependents',\n",
      "       'tenure', 'PhoneService', 'MultipleLines', 'InternetService',\n",
      "       'OnlineSecurity', 'OnlineBackup', 'DeviceProtection', 'TechSupport',\n",
      "       'StreamingTV', 'StreamingMovies', 'Contract', 'PaperlessBilling',\n",
      "       'PaymentMethod', 'MonthlyCharges', 'TotalCharges', 'Churn'],\n",
      "      dtype='object')\n"
     ]
    }
   ],
   "source": [
    "# Checking the shape and columns of merged_df\n",
    "print(\"Shape of merged_df :\", merged_df.shape)\n",
    "print('\\n')\n",
    "print(\"Columns of merged_df:\\n\", merged_df.columns)"
   ]
  },
  {
   "cell_type": "markdown",
   "id": "d1a570a4",
   "metadata": {},
   "source": [
    "- merged_data has 7043 rows and 21 columns"
   ]
  },
  {
   "cell_type": "code",
   "execution_count": 18,
   "id": "f2fd8622",
   "metadata": {},
   "outputs": [
    {
     "data": {
      "text/plain": [
       "0"
      ]
     },
     "execution_count": 18,
     "metadata": {},
     "output_type": "execute_result"
    }
   ],
   "source": [
    "# Checking if there is any duplicates present in merged_df\n",
    "merged_df.duplicated().sum()"
   ]
  },
  {
   "cell_type": "code",
   "execution_count": 19,
   "id": "94d4ccd7",
   "metadata": {},
   "outputs": [
    {
     "name": "stdout",
     "output_type": "stream",
     "text": [
      "<class 'pandas.core.frame.DataFrame'>\n",
      "Int64Index: 7043 entries, 0 to 7042\n",
      "Data columns (total 21 columns):\n",
      " #   Column            Non-Null Count  Dtype  \n",
      "---  ------            --------------  -----  \n",
      " 0   customerID        7043 non-null   object \n",
      " 1   gender            7043 non-null   object \n",
      " 2   SeniorCitizen     7043 non-null   int64  \n",
      " 3   Partner           7043 non-null   object \n",
      " 4   Dependents        7043 non-null   object \n",
      " 5   tenure            7043 non-null   int64  \n",
      " 6   PhoneService      7043 non-null   object \n",
      " 7   MultipleLines     7043 non-null   object \n",
      " 8   InternetService   7043 non-null   object \n",
      " 9   OnlineSecurity    7043 non-null   object \n",
      " 10  OnlineBackup      7043 non-null   object \n",
      " 11  DeviceProtection  7043 non-null   object \n",
      " 12  TechSupport       7043 non-null   object \n",
      " 13  StreamingTV       7043 non-null   object \n",
      " 14  StreamingMovies   7043 non-null   object \n",
      " 15  Contract          7043 non-null   object \n",
      " 16  PaperlessBilling  7043 non-null   object \n",
      " 17  PaymentMethod     7043 non-null   object \n",
      " 18  MonthlyCharges    7043 non-null   float64\n",
      " 19  TotalCharges      7043 non-null   object \n",
      " 20  Churn             7043 non-null   object \n",
      "dtypes: float64(1), int64(2), object(18)\n",
      "memory usage: 1.2+ MB\n"
     ]
    }
   ],
   "source": [
    "merged_df.info()"
   ]
  },
  {
   "cell_type": "markdown",
   "id": "1a1a3598",
   "metadata": {},
   "source": [
    "- The data set contains 7043 observations and 21 columns. \n",
    "- There are no null values on the data set. \n",
    "- We can observe that the column 'TotalCharges' was wrongly detected as an object data type. We should be converting it into a numerical data type, as it represents the total amount charged to the customer."
   ]
  },
  {
   "cell_type": "code",
   "execution_count": 20,
   "id": "305ef35d",
   "metadata": {},
   "outputs": [
    {
     "data": {
      "text/html": [
       "<div>\n",
       "<style scoped>\n",
       "    .dataframe tbody tr th:only-of-type {\n",
       "        vertical-align: middle;\n",
       "    }\n",
       "\n",
       "    .dataframe tbody tr th {\n",
       "        vertical-align: top;\n",
       "    }\n",
       "\n",
       "    .dataframe thead th {\n",
       "        text-align: right;\n",
       "    }\n",
       "</style>\n",
       "<table border=\"1\" class=\"dataframe\">\n",
       "  <thead>\n",
       "    <tr style=\"text-align: right;\">\n",
       "      <th></th>\n",
       "      <th>SeniorCitizen</th>\n",
       "      <th>tenure</th>\n",
       "      <th>MonthlyCharges</th>\n",
       "    </tr>\n",
       "  </thead>\n",
       "  <tbody>\n",
       "    <tr>\n",
       "      <th>count</th>\n",
       "      <td>7043.000000</td>\n",
       "      <td>7043.000000</td>\n",
       "      <td>7043.000000</td>\n",
       "    </tr>\n",
       "    <tr>\n",
       "      <th>mean</th>\n",
       "      <td>0.162147</td>\n",
       "      <td>32.371149</td>\n",
       "      <td>64.761692</td>\n",
       "    </tr>\n",
       "    <tr>\n",
       "      <th>std</th>\n",
       "      <td>0.368612</td>\n",
       "      <td>24.559481</td>\n",
       "      <td>30.090047</td>\n",
       "    </tr>\n",
       "    <tr>\n",
       "      <th>min</th>\n",
       "      <td>0.000000</td>\n",
       "      <td>0.000000</td>\n",
       "      <td>18.250000</td>\n",
       "    </tr>\n",
       "    <tr>\n",
       "      <th>25%</th>\n",
       "      <td>0.000000</td>\n",
       "      <td>9.000000</td>\n",
       "      <td>35.500000</td>\n",
       "    </tr>\n",
       "    <tr>\n",
       "      <th>50%</th>\n",
       "      <td>0.000000</td>\n",
       "      <td>29.000000</td>\n",
       "      <td>70.350000</td>\n",
       "    </tr>\n",
       "    <tr>\n",
       "      <th>75%</th>\n",
       "      <td>0.000000</td>\n",
       "      <td>55.000000</td>\n",
       "      <td>89.850000</td>\n",
       "    </tr>\n",
       "    <tr>\n",
       "      <th>max</th>\n",
       "      <td>1.000000</td>\n",
       "      <td>72.000000</td>\n",
       "      <td>118.750000</td>\n",
       "    </tr>\n",
       "  </tbody>\n",
       "</table>\n",
       "</div>"
      ],
      "text/plain": [
       "       SeniorCitizen       tenure  MonthlyCharges\n",
       "count    7043.000000  7043.000000     7043.000000\n",
       "mean        0.162147    32.371149       64.761692\n",
       "std         0.368612    24.559481       30.090047\n",
       "min         0.000000     0.000000       18.250000\n",
       "25%         0.000000     9.000000       35.500000\n",
       "50%         0.000000    29.000000       70.350000\n",
       "75%         0.000000    55.000000       89.850000\n",
       "max         1.000000    72.000000      118.750000"
      ]
     },
     "execution_count": 20,
     "metadata": {},
     "output_type": "execute_result"
    }
   ],
   "source": [
    "# Statistical summary\n",
    "merged_df.describe()"
   ]
  },
  {
   "cell_type": "markdown",
   "id": "43fb8855",
   "metadata": {},
   "source": [
    "**SeniorCitizen:**\n",
    "\n",
    "- The mean value of SeniorCitizen is approximately 0.162, indicating that around 16.2% of the customers in the dataset are senior citizens.\n",
    "- The standard deviation (std) is approximately 0.369, reflecting the spread of the data around the mean.\n",
    "- The minimum value is 0, suggesting that the majority of customers are not senior citizens.\n",
    "- The maximum value is 1, indicating that there are some customers who are senior citizens.\n",
    "\n",
    "**tenure:**\n",
    "\n",
    "- The mean tenure is approximately 32.371, implying that, on average, customers have been with the company for around 32.4 months.\n",
    "- The standard deviation is approximately 24.559, indicating a significant variation in the tenure values.\n",
    "- The minimum value is 0, indicating that there are customers with no tenure or have just joined.\n",
    "- The maximum value is 72, suggesting that some customers have been with the company for as long as 72 months.\n",
    "\n",
    "**MonthlyCharges:**\n",
    "\n",
    "- The mean monthly charge is approximately 64.762, representing the average amount customers are charged per month.\n",
    "- The standard deviation is approximately 30.090, indicating a considerable variation in the monthly charges.\n",
    "- The minimum value is 18.25, indicating the lowest monthly charge in the dataset.\n",
    "- The maximum value is 118.75, indicating the highest monthly charge in the dataset."
   ]
  },
  {
   "cell_type": "markdown",
   "id": "8d8bace2",
   "metadata": {},
   "source": [
    "### 2. Data Cleaning & Analysis:"
   ]
  },
  {
   "cell_type": "markdown",
   "id": "ee78aa76",
   "metadata": {},
   "source": [
    "### A. Impute missing/unexpected values in the DataFrame."
   ]
  },
  {
   "cell_type": "code",
   "execution_count": 21,
   "id": "773c450c",
   "metadata": {
    "scrolled": false
   },
   "outputs": [
    {
     "name": "stdout",
     "output_type": "stream",
     "text": [
      "Unique values count for customerID: 7043\n",
      "Unique values for customerID:\n",
      "['7590-VHVEG' '5575-GNVDE' '3668-QPYBK' ... '4801-JZAZL' '8361-LTMKD'\n",
      " '3186-AJIEK']\n",
      "\n",
      "Unique values count for gender: 2\n",
      "Unique values for gender:\n",
      "['Female' 'Male']\n",
      "\n",
      "Unique values count for SeniorCitizen: 2\n",
      "Unique values for SeniorCitizen:\n",
      "[0 1]\n",
      "\n",
      "Unique values count for Partner: 2\n",
      "Unique values for Partner:\n",
      "['Yes' 'No']\n",
      "\n",
      "Unique values count for Dependents: 2\n",
      "Unique values for Dependents:\n",
      "['No' 'Yes']\n",
      "\n",
      "Unique values count for tenure: 73\n",
      "Unique values for tenure:\n",
      "[ 1 34  2 45  8 22 10 28 62 13 16 58 49 25 69 52 71 21 12 30 47 72 17 27\n",
      "  5 46 11 70 63 43 15 60 18 66  9  3 31 50 64 56  7 42 35 48 29 65 38 68\n",
      " 32 55 37 36 41  6  4 33 67 23 57 61 14 20 53 40 59 24 44 19 54 51 26  0\n",
      " 39]\n",
      "\n",
      "Unique values count for PhoneService: 2\n",
      "Unique values for PhoneService:\n",
      "['No' 'Yes']\n",
      "\n",
      "Unique values count for MultipleLines: 3\n",
      "Unique values for MultipleLines:\n",
      "['No phone service' 'No' 'Yes']\n",
      "\n",
      "Unique values count for InternetService: 3\n",
      "Unique values for InternetService:\n",
      "['DSL' 'Fiber optic' 'No']\n",
      "\n",
      "Unique values count for OnlineSecurity: 3\n",
      "Unique values for OnlineSecurity:\n",
      "['No' 'Yes' 'No internet service']\n",
      "\n",
      "Unique values count for OnlineBackup: 3\n",
      "Unique values for OnlineBackup:\n",
      "['Yes' 'No' 'No internet service']\n",
      "\n",
      "Unique values count for DeviceProtection: 3\n",
      "Unique values for DeviceProtection:\n",
      "['No' 'Yes' 'No internet service']\n",
      "\n",
      "Unique values count for TechSupport: 3\n",
      "Unique values for TechSupport:\n",
      "['No' 'Yes' 'No internet service']\n",
      "\n",
      "Unique values count for StreamingTV: 3\n",
      "Unique values for StreamingTV:\n",
      "['No' 'Yes' 'No internet service']\n",
      "\n",
      "Unique values count for StreamingMovies: 3\n",
      "Unique values for StreamingMovies:\n",
      "['No' 'Yes' 'No internet service']\n",
      "\n",
      "Unique values count for Contract: 3\n",
      "Unique values for Contract:\n",
      "['Month-to-month' 'One year' 'Two year']\n",
      "\n",
      "Unique values count for PaperlessBilling: 2\n",
      "Unique values for PaperlessBilling:\n",
      "['Yes' 'No']\n",
      "\n",
      "Unique values count for PaymentMethod: 4\n",
      "Unique values for PaymentMethod:\n",
      "['Electronic check' 'Mailed check' 'Bank transfer (automatic)'\n",
      " 'Credit card (automatic)']\n",
      "\n",
      "Unique values count for MonthlyCharges: 1585\n",
      "Unique values for MonthlyCharges:\n",
      "[29.85 56.95 53.85 ... 63.1  44.2  78.7 ]\n",
      "\n",
      "Unique values count for TotalCharges: 6531\n",
      "Unique values for TotalCharges:\n",
      "['29.85' '1889.5' '108.15' ... '346.45' '306.6' '6844.5']\n",
      "\n",
      "Unique values count for Churn: 2\n",
      "Unique values for Churn:\n",
      "['No' 'Yes']\n",
      "\n"
     ]
    }
   ],
   "source": [
    "# check unique values of each column\n",
    "for column in merged_df.columns:\n",
    "    unique_values_count = merged_df[column].nunique()\n",
    "    unique_values = merged_df[column].unique()\n",
    "    print(f\"Unique values count for {column}: {unique_values_count}\")\n",
    "    print(f\"Unique values for {column}:\\n{unique_values}\\n\")"
   ]
  },
  {
   "cell_type": "markdown",
   "id": "cd28d2bf",
   "metadata": {},
   "source": [
    "The data set contains 19 independent variables, which can also be classified into different categories:"
   ]
  },
  {
   "cell_type": "markdown",
   "id": "c0fba61b",
   "metadata": {},
   "source": [
    "Here's an insight on each of the unique values for the different variables in the dataset:\n",
    "\n",
    "**CustomerID:**\n",
    "   - There are 7043 unique customer IDs in the dataset.\n",
    "   - The customer IDs are alphanumeric values like '7590-VHVEG', '5575-GNVDE', etc.\n",
    "   \n",
    "**Gender:**\n",
    "\n",
    "  - There are 2 unique genders: 'Female' and 'Male'.\n",
    "  - This variable represents the gender of the customers.\n",
    "  \n",
    "**SeniorCitizen:**\n",
    "\n",
    "  - There are 2 unique values: 0 and 1.\n",
    "  - This variable represents whether the customer is a senior citizen or not, where 1 indicates a senior citizen and 0 indicates otherwise.\n",
    "  \n",
    "**Partner:**\n",
    "\n",
    "  - There are 2 unique values: 'Yes' and 'No'.\n",
    "  - This variable represents whether the customer has a partner or not.\n",
    "\n",
    "**Dependents:**\n",
    "\n",
    "  - There are 2 unique values: 'Yes' and 'No'.\n",
    "  - This variable represents whether the customer has dependents or not.\n",
    "  \n",
    "**Tenure:**\n",
    "\n",
    "  - There are 73 unique values ranging from 0 to 72.\n",
    "  - This variable represents the number of months the customer has been with the company.\n",
    "\n",
    "**PhoneService:**\n",
    "\n",
    "  - There are 2 unique values: 'Yes' and 'No'.\n",
    "  - This variable represents whether the customer has a phone service or not.\n",
    "\n",
    "**MultipleLines:**\n",
    "\n",
    "  - There are 3 unique values: 'No phone service', 'No', and 'Yes'.\n",
    "  - This variable represents whether the customer has multiple phone lines.\n",
    "\n",
    "**InternetService:**\n",
    "\n",
    "  - There are 3 unique values: 'DSL', 'Fiber optic', and 'No'.\n",
    "  - This variable represents the type of internet service the customer has.\n",
    "\n",
    "**OnlineSecurity:**\n",
    "\n",
    "  - There are 3 unique values: 'No', 'Yes', and 'No internet service'.\n",
    "  - This variable represents whether the customer has online security.\n",
    "\n",
    "**OnlineBackup:**\n",
    "\n",
    "  - There are 3 unique values: 'Yes', 'No', and 'No internet service'.\n",
    "  - This variable represents whether the customer has online backup.\n",
    "\n",
    "**DeviceProtection:**\n",
    "\n",
    "  - There are 3 unique values: 'No', 'Yes', and 'No internet service'.\n",
    "  - This variable represents whether the customer has device protection.\n",
    "\n",
    "**TechSupport:**\n",
    "\n",
    "  - There are 3 unique values: 'No', 'Yes', and 'No internet service'.\n",
    "  - This variable represents whether the customer has technical support.\n",
    "\n",
    "**StreamingTV:**\n",
    "\n",
    "  - There are 3 unique values: 'No', 'Yes', and 'No internet service'.\n",
    "  - This variable represents whether the customer has streaming TV.\n",
    "\n",
    "**StreamingMovies:**\n",
    "\n",
    "  - There are 3 unique values: 'No', 'Yes', and 'No internet service'.\n",
    "  - This variable represents whether the customer has streaming movies.\n",
    "\n",
    "**Contract:**\n",
    "\n",
    "  - There are 3 unique values: 'Month-to-month', 'One year', and 'Two year'.\n",
    "  - This variable represents the type of contract the customer has.\n",
    "\n",
    "**PaperlessBilling:**\n",
    "\n",
    "  - There are 2 unique values: 'Yes' and 'No'.\n",
    "  - This variable represents whether the customer has opted for paperless billing.\n",
    "\n",
    "**PaymentMethod:**\n",
    "\n",
    "  - There are 4 unique values: 'Electronic check', 'Mailed check', 'Bank transfer (automatic)', and 'Credit card (automatic)'.\n",
    "  - This variable represents the payment method used by the customer.\n",
    "\n",
    "**MonthlyCharges:**\n",
    "\n",
    "  - There are 1585 unique values representing the monthly charges for the customers.\n",
    "  - This variable represents the amount charged to the customer on a monthly basis.\n",
    "\n",
    "**TotalCharges:**\n",
    "\n",
    "  - There are 6531 unique values representing the total charges for the customers.\n",
    "  - This variable represents the total amount charged to the customer.\n",
    "\n",
    "**Churn:**\n",
    "\n",
    "  - There are 2 unique values: 'No' and 'Yes'.\n",
    "  - This variable represents whether the customer has churned or not, where 'Yes' indicates churn and 'No' indicates otherwise."
   ]
  },
  {
   "cell_type": "markdown",
   "id": "e4eb2d3b",
   "metadata": {},
   "source": [
    "##### TO DO\n",
    "- Going forward, we will remove the customerID from the dataset as it serves no purpose in model building.\n",
    "- We will be renaming the data values of \"PaymentMethod\" to read it in a better way.\n",
    "- We will be converting all the catagorical features into numerical form."
   ]
  },
  {
   "cell_type": "code",
   "execution_count": 22,
   "id": "28df730c",
   "metadata": {},
   "outputs": [
    {
     "data": {
      "text/plain": [
       "customerID          0\n",
       "gender              0\n",
       "SeniorCitizen       0\n",
       "Partner             0\n",
       "Dependents          0\n",
       "tenure              0\n",
       "PhoneService        0\n",
       "MultipleLines       0\n",
       "InternetService     0\n",
       "OnlineSecurity      0\n",
       "OnlineBackup        0\n",
       "DeviceProtection    0\n",
       "TechSupport         0\n",
       "StreamingTV         0\n",
       "StreamingMovies     0\n",
       "Contract            0\n",
       "PaperlessBilling    0\n",
       "PaymentMethod       0\n",
       "MonthlyCharges      0\n",
       "TotalCharges        0\n",
       "Churn               0\n",
       "dtype: int64"
      ]
     },
     "execution_count": 22,
     "metadata": {},
     "output_type": "execute_result"
    }
   ],
   "source": [
    "#checking the null values present in the data frame\n",
    "merged_df.isnull().sum()"
   ]
  },
  {
   "cell_type": "markdown",
   "id": "817c2f26",
   "metadata": {},
   "source": [
    "- There are no missing values present in the data set."
   ]
  },
  {
   "cell_type": "markdown",
   "id": "e604466b",
   "metadata": {},
   "source": [
    "### B. Make sure all the variables with continuous values are of 'Float' type."
   ]
  },
  {
   "cell_type": "code",
   "execution_count": 23,
   "id": "cb33210b",
   "metadata": {},
   "outputs": [],
   "source": [
    "merged_df['TotalCharges'] = pd.to_numeric(merged_df['TotalCharges'], errors='coerce')"
   ]
  },
  {
   "cell_type": "code",
   "execution_count": 24,
   "id": "8717b58f",
   "metadata": {},
   "outputs": [
    {
     "data": {
      "text/plain": [
       "0         29.85\n",
       "1       1889.50\n",
       "2        108.15\n",
       "3       1840.75\n",
       "4        151.65\n",
       "         ...   \n",
       "7038    1990.50\n",
       "7039    7362.90\n",
       "7040     346.45\n",
       "7041     306.60\n",
       "7042    6844.50\n",
       "Name: TotalCharges, Length: 7043, dtype: float64"
      ]
     },
     "execution_count": 24,
     "metadata": {},
     "output_type": "execute_result"
    }
   ],
   "source": [
    "merged_df['TotalCharges']"
   ]
  },
  {
   "cell_type": "code",
   "execution_count": 25,
   "id": "52bf3faf",
   "metadata": {},
   "outputs": [
    {
     "data": {
      "text/html": [
       "<div>\n",
       "<style scoped>\n",
       "    .dataframe tbody tr th:only-of-type {\n",
       "        vertical-align: middle;\n",
       "    }\n",
       "\n",
       "    .dataframe tbody tr th {\n",
       "        vertical-align: top;\n",
       "    }\n",
       "\n",
       "    .dataframe thead th {\n",
       "        text-align: right;\n",
       "    }\n",
       "</style>\n",
       "<table border=\"1\" class=\"dataframe\">\n",
       "  <thead>\n",
       "    <tr style=\"text-align: right;\">\n",
       "      <th></th>\n",
       "      <th>customerID</th>\n",
       "      <th>gender</th>\n",
       "      <th>SeniorCitizen</th>\n",
       "      <th>Partner</th>\n",
       "      <th>Dependents</th>\n",
       "      <th>tenure</th>\n",
       "      <th>PhoneService</th>\n",
       "      <th>MultipleLines</th>\n",
       "      <th>InternetService</th>\n",
       "      <th>OnlineSecurity</th>\n",
       "      <th>...</th>\n",
       "      <th>DeviceProtection</th>\n",
       "      <th>TechSupport</th>\n",
       "      <th>StreamingTV</th>\n",
       "      <th>StreamingMovies</th>\n",
       "      <th>Contract</th>\n",
       "      <th>PaperlessBilling</th>\n",
       "      <th>PaymentMethod</th>\n",
       "      <th>MonthlyCharges</th>\n",
       "      <th>TotalCharges</th>\n",
       "      <th>Churn</th>\n",
       "    </tr>\n",
       "  </thead>\n",
       "  <tbody>\n",
       "    <tr>\n",
       "      <th>488</th>\n",
       "      <td>4472-LVYGI</td>\n",
       "      <td>Female</td>\n",
       "      <td>0</td>\n",
       "      <td>Yes</td>\n",
       "      <td>Yes</td>\n",
       "      <td>0</td>\n",
       "      <td>No</td>\n",
       "      <td>No phone service</td>\n",
       "      <td>DSL</td>\n",
       "      <td>Yes</td>\n",
       "      <td>...</td>\n",
       "      <td>Yes</td>\n",
       "      <td>Yes</td>\n",
       "      <td>Yes</td>\n",
       "      <td>No</td>\n",
       "      <td>Two year</td>\n",
       "      <td>Yes</td>\n",
       "      <td>Bank transfer (automatic)</td>\n",
       "      <td>52.55</td>\n",
       "      <td>NaN</td>\n",
       "      <td>No</td>\n",
       "    </tr>\n",
       "    <tr>\n",
       "      <th>753</th>\n",
       "      <td>3115-CZMZD</td>\n",
       "      <td>Male</td>\n",
       "      <td>0</td>\n",
       "      <td>No</td>\n",
       "      <td>Yes</td>\n",
       "      <td>0</td>\n",
       "      <td>Yes</td>\n",
       "      <td>No</td>\n",
       "      <td>No</td>\n",
       "      <td>No internet service</td>\n",
       "      <td>...</td>\n",
       "      <td>No internet service</td>\n",
       "      <td>No internet service</td>\n",
       "      <td>No internet service</td>\n",
       "      <td>No internet service</td>\n",
       "      <td>Two year</td>\n",
       "      <td>No</td>\n",
       "      <td>Mailed check</td>\n",
       "      <td>20.25</td>\n",
       "      <td>NaN</td>\n",
       "      <td>No</td>\n",
       "    </tr>\n",
       "    <tr>\n",
       "      <th>936</th>\n",
       "      <td>5709-LVOEQ</td>\n",
       "      <td>Female</td>\n",
       "      <td>0</td>\n",
       "      <td>Yes</td>\n",
       "      <td>Yes</td>\n",
       "      <td>0</td>\n",
       "      <td>Yes</td>\n",
       "      <td>No</td>\n",
       "      <td>DSL</td>\n",
       "      <td>Yes</td>\n",
       "      <td>...</td>\n",
       "      <td>Yes</td>\n",
       "      <td>No</td>\n",
       "      <td>Yes</td>\n",
       "      <td>Yes</td>\n",
       "      <td>Two year</td>\n",
       "      <td>No</td>\n",
       "      <td>Mailed check</td>\n",
       "      <td>80.85</td>\n",
       "      <td>NaN</td>\n",
       "      <td>No</td>\n",
       "    </tr>\n",
       "    <tr>\n",
       "      <th>1082</th>\n",
       "      <td>4367-NUYAO</td>\n",
       "      <td>Male</td>\n",
       "      <td>0</td>\n",
       "      <td>Yes</td>\n",
       "      <td>Yes</td>\n",
       "      <td>0</td>\n",
       "      <td>Yes</td>\n",
       "      <td>Yes</td>\n",
       "      <td>No</td>\n",
       "      <td>No internet service</td>\n",
       "      <td>...</td>\n",
       "      <td>No internet service</td>\n",
       "      <td>No internet service</td>\n",
       "      <td>No internet service</td>\n",
       "      <td>No internet service</td>\n",
       "      <td>Two year</td>\n",
       "      <td>No</td>\n",
       "      <td>Mailed check</td>\n",
       "      <td>25.75</td>\n",
       "      <td>NaN</td>\n",
       "      <td>No</td>\n",
       "    </tr>\n",
       "    <tr>\n",
       "      <th>1340</th>\n",
       "      <td>1371-DWPAZ</td>\n",
       "      <td>Female</td>\n",
       "      <td>0</td>\n",
       "      <td>Yes</td>\n",
       "      <td>Yes</td>\n",
       "      <td>0</td>\n",
       "      <td>No</td>\n",
       "      <td>No phone service</td>\n",
       "      <td>DSL</td>\n",
       "      <td>Yes</td>\n",
       "      <td>...</td>\n",
       "      <td>Yes</td>\n",
       "      <td>Yes</td>\n",
       "      <td>Yes</td>\n",
       "      <td>No</td>\n",
       "      <td>Two year</td>\n",
       "      <td>No</td>\n",
       "      <td>Credit card (automatic)</td>\n",
       "      <td>56.05</td>\n",
       "      <td>NaN</td>\n",
       "      <td>No</td>\n",
       "    </tr>\n",
       "    <tr>\n",
       "      <th>3331</th>\n",
       "      <td>7644-OMVMY</td>\n",
       "      <td>Male</td>\n",
       "      <td>0</td>\n",
       "      <td>Yes</td>\n",
       "      <td>Yes</td>\n",
       "      <td>0</td>\n",
       "      <td>Yes</td>\n",
       "      <td>No</td>\n",
       "      <td>No</td>\n",
       "      <td>No internet service</td>\n",
       "      <td>...</td>\n",
       "      <td>No internet service</td>\n",
       "      <td>No internet service</td>\n",
       "      <td>No internet service</td>\n",
       "      <td>No internet service</td>\n",
       "      <td>Two year</td>\n",
       "      <td>No</td>\n",
       "      <td>Mailed check</td>\n",
       "      <td>19.85</td>\n",
       "      <td>NaN</td>\n",
       "      <td>No</td>\n",
       "    </tr>\n",
       "    <tr>\n",
       "      <th>3826</th>\n",
       "      <td>3213-VVOLG</td>\n",
       "      <td>Male</td>\n",
       "      <td>0</td>\n",
       "      <td>Yes</td>\n",
       "      <td>Yes</td>\n",
       "      <td>0</td>\n",
       "      <td>Yes</td>\n",
       "      <td>Yes</td>\n",
       "      <td>No</td>\n",
       "      <td>No internet service</td>\n",
       "      <td>...</td>\n",
       "      <td>No internet service</td>\n",
       "      <td>No internet service</td>\n",
       "      <td>No internet service</td>\n",
       "      <td>No internet service</td>\n",
       "      <td>Two year</td>\n",
       "      <td>No</td>\n",
       "      <td>Mailed check</td>\n",
       "      <td>25.35</td>\n",
       "      <td>NaN</td>\n",
       "      <td>No</td>\n",
       "    </tr>\n",
       "    <tr>\n",
       "      <th>4380</th>\n",
       "      <td>2520-SGTTA</td>\n",
       "      <td>Female</td>\n",
       "      <td>0</td>\n",
       "      <td>Yes</td>\n",
       "      <td>Yes</td>\n",
       "      <td>0</td>\n",
       "      <td>Yes</td>\n",
       "      <td>No</td>\n",
       "      <td>No</td>\n",
       "      <td>No internet service</td>\n",
       "      <td>...</td>\n",
       "      <td>No internet service</td>\n",
       "      <td>No internet service</td>\n",
       "      <td>No internet service</td>\n",
       "      <td>No internet service</td>\n",
       "      <td>Two year</td>\n",
       "      <td>No</td>\n",
       "      <td>Mailed check</td>\n",
       "      <td>20.00</td>\n",
       "      <td>NaN</td>\n",
       "      <td>No</td>\n",
       "    </tr>\n",
       "    <tr>\n",
       "      <th>5218</th>\n",
       "      <td>2923-ARZLG</td>\n",
       "      <td>Male</td>\n",
       "      <td>0</td>\n",
       "      <td>Yes</td>\n",
       "      <td>Yes</td>\n",
       "      <td>0</td>\n",
       "      <td>Yes</td>\n",
       "      <td>No</td>\n",
       "      <td>No</td>\n",
       "      <td>No internet service</td>\n",
       "      <td>...</td>\n",
       "      <td>No internet service</td>\n",
       "      <td>No internet service</td>\n",
       "      <td>No internet service</td>\n",
       "      <td>No internet service</td>\n",
       "      <td>One year</td>\n",
       "      <td>Yes</td>\n",
       "      <td>Mailed check</td>\n",
       "      <td>19.70</td>\n",
       "      <td>NaN</td>\n",
       "      <td>No</td>\n",
       "    </tr>\n",
       "    <tr>\n",
       "      <th>6670</th>\n",
       "      <td>4075-WKNIU</td>\n",
       "      <td>Female</td>\n",
       "      <td>0</td>\n",
       "      <td>Yes</td>\n",
       "      <td>Yes</td>\n",
       "      <td>0</td>\n",
       "      <td>Yes</td>\n",
       "      <td>Yes</td>\n",
       "      <td>DSL</td>\n",
       "      <td>No</td>\n",
       "      <td>...</td>\n",
       "      <td>Yes</td>\n",
       "      <td>Yes</td>\n",
       "      <td>Yes</td>\n",
       "      <td>No</td>\n",
       "      <td>Two year</td>\n",
       "      <td>No</td>\n",
       "      <td>Mailed check</td>\n",
       "      <td>73.35</td>\n",
       "      <td>NaN</td>\n",
       "      <td>No</td>\n",
       "    </tr>\n",
       "    <tr>\n",
       "      <th>6754</th>\n",
       "      <td>2775-SEFEE</td>\n",
       "      <td>Male</td>\n",
       "      <td>0</td>\n",
       "      <td>No</td>\n",
       "      <td>Yes</td>\n",
       "      <td>0</td>\n",
       "      <td>Yes</td>\n",
       "      <td>Yes</td>\n",
       "      <td>DSL</td>\n",
       "      <td>Yes</td>\n",
       "      <td>...</td>\n",
       "      <td>No</td>\n",
       "      <td>Yes</td>\n",
       "      <td>No</td>\n",
       "      <td>No</td>\n",
       "      <td>Two year</td>\n",
       "      <td>Yes</td>\n",
       "      <td>Bank transfer (automatic)</td>\n",
       "      <td>61.90</td>\n",
       "      <td>NaN</td>\n",
       "      <td>No</td>\n",
       "    </tr>\n",
       "  </tbody>\n",
       "</table>\n",
       "<p>11 rows × 21 columns</p>\n",
       "</div>"
      ],
      "text/plain": [
       "      customerID  gender  SeniorCitizen Partner Dependents  tenure  \\\n",
       "488   4472-LVYGI  Female              0     Yes        Yes       0   \n",
       "753   3115-CZMZD    Male              0      No        Yes       0   \n",
       "936   5709-LVOEQ  Female              0     Yes        Yes       0   \n",
       "1082  4367-NUYAO    Male              0     Yes        Yes       0   \n",
       "1340  1371-DWPAZ  Female              0     Yes        Yes       0   \n",
       "3331  7644-OMVMY    Male              0     Yes        Yes       0   \n",
       "3826  3213-VVOLG    Male              0     Yes        Yes       0   \n",
       "4380  2520-SGTTA  Female              0     Yes        Yes       0   \n",
       "5218  2923-ARZLG    Male              0     Yes        Yes       0   \n",
       "6670  4075-WKNIU  Female              0     Yes        Yes       0   \n",
       "6754  2775-SEFEE    Male              0      No        Yes       0   \n",
       "\n",
       "     PhoneService     MultipleLines InternetService       OnlineSecurity  ...  \\\n",
       "488            No  No phone service             DSL                  Yes  ...   \n",
       "753           Yes                No              No  No internet service  ...   \n",
       "936           Yes                No             DSL                  Yes  ...   \n",
       "1082          Yes               Yes              No  No internet service  ...   \n",
       "1340           No  No phone service             DSL                  Yes  ...   \n",
       "3331          Yes                No              No  No internet service  ...   \n",
       "3826          Yes               Yes              No  No internet service  ...   \n",
       "4380          Yes                No              No  No internet service  ...   \n",
       "5218          Yes                No              No  No internet service  ...   \n",
       "6670          Yes               Yes             DSL                   No  ...   \n",
       "6754          Yes               Yes             DSL                  Yes  ...   \n",
       "\n",
       "         DeviceProtection          TechSupport          StreamingTV  \\\n",
       "488                   Yes                  Yes                  Yes   \n",
       "753   No internet service  No internet service  No internet service   \n",
       "936                   Yes                   No                  Yes   \n",
       "1082  No internet service  No internet service  No internet service   \n",
       "1340                  Yes                  Yes                  Yes   \n",
       "3331  No internet service  No internet service  No internet service   \n",
       "3826  No internet service  No internet service  No internet service   \n",
       "4380  No internet service  No internet service  No internet service   \n",
       "5218  No internet service  No internet service  No internet service   \n",
       "6670                  Yes                  Yes                  Yes   \n",
       "6754                   No                  Yes                   No   \n",
       "\n",
       "          StreamingMovies  Contract PaperlessBilling  \\\n",
       "488                    No  Two year              Yes   \n",
       "753   No internet service  Two year               No   \n",
       "936                   Yes  Two year               No   \n",
       "1082  No internet service  Two year               No   \n",
       "1340                   No  Two year               No   \n",
       "3331  No internet service  Two year               No   \n",
       "3826  No internet service  Two year               No   \n",
       "4380  No internet service  Two year               No   \n",
       "5218  No internet service  One year              Yes   \n",
       "6670                   No  Two year               No   \n",
       "6754                   No  Two year              Yes   \n",
       "\n",
       "                  PaymentMethod MonthlyCharges  TotalCharges  Churn  \n",
       "488   Bank transfer (automatic)          52.55           NaN     No  \n",
       "753                Mailed check          20.25           NaN     No  \n",
       "936                Mailed check          80.85           NaN     No  \n",
       "1082               Mailed check          25.75           NaN     No  \n",
       "1340    Credit card (automatic)          56.05           NaN     No  \n",
       "3331               Mailed check          19.85           NaN     No  \n",
       "3826               Mailed check          25.35           NaN     No  \n",
       "4380               Mailed check          20.00           NaN     No  \n",
       "5218               Mailed check          19.70           NaN     No  \n",
       "6670               Mailed check          73.35           NaN     No  \n",
       "6754  Bank transfer (automatic)          61.90           NaN     No  \n",
       "\n",
       "[11 rows x 21 columns]"
      ]
     },
     "execution_count": 25,
     "metadata": {},
     "output_type": "execute_result"
    }
   ],
   "source": [
    "# null observations of the TotalCharges column\n",
    "merged_df[merged_df['TotalCharges'].isnull()]"
   ]
  },
  {
   "cell_type": "markdown",
   "id": "2371cf8a",
   "metadata": {},
   "source": [
    "These observations have also a tenure of 0, even though MontlyCharges is not null for these entries. This information appeared to be contradictory, and therefore, we decide to remove those observations from the data set."
   ]
  },
  {
   "cell_type": "code",
   "execution_count": 26,
   "id": "3aa30022",
   "metadata": {},
   "outputs": [
    {
     "data": {
      "text/plain": [
       "customerID           object\n",
       "gender               object\n",
       "SeniorCitizen         int64\n",
       "Partner              object\n",
       "Dependents           object\n",
       "tenure                int64\n",
       "PhoneService         object\n",
       "MultipleLines        object\n",
       "InternetService      object\n",
       "OnlineSecurity       object\n",
       "OnlineBackup         object\n",
       "DeviceProtection     object\n",
       "TechSupport          object\n",
       "StreamingTV          object\n",
       "StreamingMovies      object\n",
       "Contract             object\n",
       "PaperlessBilling     object\n",
       "PaymentMethod        object\n",
       "MonthlyCharges      float64\n",
       "TotalCharges        float64\n",
       "Churn                object\n",
       "dtype: object"
      ]
     },
     "execution_count": 26,
     "metadata": {},
     "output_type": "execute_result"
    }
   ],
   "source": [
    "# Re-checking the data types \n",
    "merged_df.dtypes"
   ]
  },
  {
   "cell_type": "markdown",
   "id": "902a2d3f",
   "metadata": {},
   "source": [
    "- We have successfully changed the TotalCharges column into float"
   ]
  },
  {
   "cell_type": "code",
   "execution_count": 27,
   "id": "7d5b014c",
   "metadata": {},
   "outputs": [
    {
     "data": {
      "text/plain": [
       "customerID           0\n",
       "gender               0\n",
       "SeniorCitizen        0\n",
       "Partner              0\n",
       "Dependents           0\n",
       "tenure               0\n",
       "PhoneService         0\n",
       "MultipleLines        0\n",
       "InternetService      0\n",
       "OnlineSecurity       0\n",
       "OnlineBackup         0\n",
       "DeviceProtection     0\n",
       "TechSupport          0\n",
       "StreamingTV          0\n",
       "StreamingMovies      0\n",
       "Contract             0\n",
       "PaperlessBilling     0\n",
       "PaymentMethod        0\n",
       "MonthlyCharges       0\n",
       "TotalCharges        11\n",
       "Churn                0\n",
       "dtype: int64"
      ]
     },
     "execution_count": 27,
     "metadata": {},
     "output_type": "execute_result"
    }
   ],
   "source": [
    "#checking the null values present in the data frame\n",
    "merged_df.isnull().sum()"
   ]
  },
  {
   "cell_type": "markdown",
   "id": "1ee74c65",
   "metadata": {},
   "source": [
    "- After conversion, we can now observe that the column \"TotalCharges\" contains 11 missing values. We will remove these null values."
   ]
  },
  {
   "cell_type": "code",
   "execution_count": 28,
   "id": "5d1bd24c",
   "metadata": {},
   "outputs": [],
   "source": [
    "# drop the rows with null values\n",
    "merged_df.dropna(inplace=True)"
   ]
  },
  {
   "cell_type": "code",
   "execution_count": 29,
   "id": "9f1de9fc",
   "metadata": {},
   "outputs": [
    {
     "data": {
      "text/plain": [
       "customerID          0\n",
       "gender              0\n",
       "SeniorCitizen       0\n",
       "Partner             0\n",
       "Dependents          0\n",
       "tenure              0\n",
       "PhoneService        0\n",
       "MultipleLines       0\n",
       "InternetService     0\n",
       "OnlineSecurity      0\n",
       "OnlineBackup        0\n",
       "DeviceProtection    0\n",
       "TechSupport         0\n",
       "StreamingTV         0\n",
       "StreamingMovies     0\n",
       "Contract            0\n",
       "PaperlessBilling    0\n",
       "PaymentMethod       0\n",
       "MonthlyCharges      0\n",
       "TotalCharges        0\n",
       "Churn               0\n",
       "dtype: int64"
      ]
     },
     "execution_count": 29,
     "metadata": {},
     "output_type": "execute_result"
    }
   ],
   "source": [
    "# Re-checking  null values present in the data frame\n",
    "merged_df.isnull().sum()"
   ]
  },
  {
   "cell_type": "markdown",
   "id": "c4fe3267",
   "metadata": {},
   "source": [
    "- We have successfully handled the missing values by  removing it. "
   ]
  },
  {
   "cell_type": "code",
   "execution_count": 30,
   "id": "712216c5",
   "metadata": {},
   "outputs": [],
   "source": [
    "# Remove customerID column\n",
    "merged_df.drop(columns='customerID', inplace=True)"
   ]
  },
  {
   "cell_type": "code",
   "execution_count": 31,
   "id": "c790fe0f",
   "metadata": {},
   "outputs": [
    {
     "data": {
      "text/plain": [
       "array(['Electronic check', 'Mailed check', 'Bank transfer (automatic)',\n",
       "       'Credit card (automatic)'], dtype=object)"
      ]
     },
     "execution_count": 31,
     "metadata": {},
     "output_type": "execute_result"
    }
   ],
   "source": [
    "# unique elements of the PaymentMethod column\n",
    "merged_df.PaymentMethod.unique()"
   ]
  },
  {
   "cell_type": "code",
   "execution_count": 32,
   "id": "c0821660",
   "metadata": {},
   "outputs": [],
   "source": [
    "# Rename the data values of \"PaymentMethod\" to read it in a better way\n",
    "payment_column = {'Electronic check': 'E-check' ,'Bank transfer (automatic)': 'Bank transfer', 'Credit card (automatic)': 'Credit card'}\n",
    "merged_df['PaymentMethod'].replace(payment_column, inplace=True)"
   ]
  },
  {
   "cell_type": "code",
   "execution_count": 33,
   "id": "c0bf64b0",
   "metadata": {},
   "outputs": [
    {
     "data": {
      "text/plain": [
       "array(['E-check', 'Mailed check', 'Bank transfer', 'Credit card'],\n",
       "      dtype=object)"
      ]
     },
     "execution_count": 33,
     "metadata": {},
     "output_type": "execute_result"
    }
   ],
   "source": [
    "# Re- checking the unique elements of the PaymentMethod column\n",
    "merged_df.PaymentMethod.unique()"
   ]
  },
  {
   "cell_type": "markdown",
   "id": "b73f79cc",
   "metadata": {},
   "source": [
    "### C. Create a function that will accept a DataFrame as input and return pie-charts for all the appropriate Categorical features. Clearly show percentage distribution in the pie-chart."
   ]
  },
  {
   "cell_type": "code",
   "execution_count": 34,
   "id": "ec764bb0",
   "metadata": {},
   "outputs": [],
   "source": [
    "def generate_pie_charts(dataframe):\n",
    "    categorical_columns = [col for col in dataframe.columns if dataframe[col].dtype == 'object']\n",
    "\n",
    "    for column in categorical_columns:\n",
    "        value_counts = dataframe[column].value_counts()\n",
    "        labels = value_counts.index.tolist()\n",
    "        values = value_counts.values.tolist()\n",
    "        percentages = [(value / sum(values)) * 100 for value in values]\n",
    "\n",
    "        plt.figure(figsize=(8, 6))\n",
    "        plt.pie(percentages, labels=labels, autopct='%1.2f%%')\n",
    "        plt.title(f'Percentage Distribution of {column}')\n",
    "        plt.show()"
   ]
  },
  {
   "cell_type": "code",
   "execution_count": 35,
   "id": "64622ac4",
   "metadata": {},
   "outputs": [
    {
     "data": {
      "image/png": "[encoded data removed]",
      "text/plain": [
       "<Figure size 576x432 with 1 Axes>"
      ]
     },
     "metadata": {},
     "output_type": "display_data"
    },
    {
     "data": {
      "image/png": "[encoded data removed]",
      "text/plain": [
       "<Figure size 576x432 with 1 Axes>"
      ]
     },
     "metadata": {},
     "output_type": "display_data"
    },
    {
     "data": {
      "image/png": "[encoded data removed]",
      "text/plain": [
       "<Figure size 576x432 with 1 Axes>"
      ]
     },
     "metadata": {},
     "output_type": "display_data"
    },
    {
     "data": {
      "image/png": "[encoded data removed]",
      "text/plain": [
       "<Figure size 576x432 with 1 Axes>"
      ]
     },
     "metadata": {},
     "output_type": "display_data"
    },
    {
     "data": {
      "image/png": "[encoded data removed]",
      "text/plain": [
       "<Figure size 576x432 with 1 Axes>"
      ]
     },
     "metadata": {},
     "output_type": "display_data"
    },
    {
     "data": {
      "image/png": "[encoded data removed]",
      "text/plain": [
       "<Figure size 576x432 with 1 Axes>"
      ]
     },
     "metadata": {},
     "output_type": "display_data"
    },
    {
     "data": {
      "image/png": "[encoded data removed]",
      "text/plain": [
       "<Figure size 576x432 with 1 Axes>"
      ]
     },
     "metadata": {},
     "output_type": "display_data"
    },
    {
     "data": {
      "image/png": "[encoded data removed]",
      "text/plain": [
       "<Figure size 576x432 with 1 Axes>"
      ]
     },
     "metadata": {},
     "output_type": "display_data"
    },
    {
     "data": {
      "image/png": "[encoded data removed]",
      "text/plain": [
       "<Figure size 576x432 with 1 Axes>"
      ]
     },
     "metadata": {},
     "output_type": "display_data"
    },
    {
     "data": {
      "image/png": "[encoded data removed]",
      "text/plain": [
       "<Figure size 576x432 with 1 Axes>"
      ]
     },
     "metadata": {},
     "output_type": "display_data"
    },
    {
     "data": {
      "image/png": "[encoded data removed]",
      "text/plain": [
       "<Figure size 576x432 with 1 Axes>"
      ]
     },
     "metadata": {},
     "output_type": "display_data"
    },
    {
     "data": {
      "image/png": "[encoded data removed]",
      "text/plain": [
       "<Figure size 576x432 with 1 Axes>"
      ]
     },
     "metadata": {},
     "output_type": "display_data"
    },
    {
     "data": {
      "image/png": "[encoded data removed]",
      "text/plain": [
       "<Figure size 576x432 with 1 Axes>"
      ]
     },
     "metadata": {},
     "output_type": "display_data"
    },
    {
     "data": {
      "image/png": "[encoded data removed]",
      "text/plain": [
       "<Figure size 576x432 with 1 Axes>"
      ]
     },
     "metadata": {},
     "output_type": "display_data"
    },
    {
     "data": {
      "image/png": "[encoded data removed]",
      "text/plain": [
       "<Figure size 576x432 with 1 Axes>"
      ]
     },
     "metadata": {},
     "output_type": "display_data"
    },
    {
     "data": {
      "image/png": "[encoded data removed]",
      "text/plain": [
       "<Figure size 576x432 with 1 Axes>"
      ]
     },
     "metadata": {},
     "output_type": "display_data"
    }
   ],
   "source": [
    "generate_pie_charts(merged_df)"
   ]
  },
  {
   "cell_type": "markdown",
   "id": "87fdf0e2",
   "metadata": {},
   "source": [
    "### D. Share insights for 2.C."
   ]
  },
  {
   "cell_type": "markdown",
   "id": "9c706a6c",
   "metadata": {},
   "source": [
    "**Gender:** We can observe that in the \"gender\" column, 50.47% of individuals are classified as male, while 49.53% are classified as female.\n",
    "\n",
    "**Partner:** We can observe that in the \"Partner\" column, 51.75% of people are classified as \"No\" (non-partner) and 48.25% of people are classified as \"Yes\" (partner).\n",
    "\n",
    "**Dependents:** We can observe that in the \"Dependents\" column, 70.15% of people are classified as \"No\" (without dependents) and 29.85% of people are classified as \"Yes\" (with dependents).\n",
    "\n",
    "**PhoneService:** We can observe that in the \"PhoneService\" column, 90.33% of people are classified as \"Yes\" (with phone service) and 9.67% of people are classified as \"No\" (without phone service).\n",
    "\n",
    "**MultipleLines:** We can observe that in the \"MultipleLines\" column, 48.14% of people are classified as \"No\" (without multiple lines), 9.67% of people are classified as \"No phone service,\" and 42.19% of people are classified as \"Yes\" (with multiple lines).\n",
    "\n",
    "**InternetService:** We can observe that in the \"InternetService\" column, 44.03% of people have opted for \"Fiber optic\", 34.36% of people have opted for \"DSL\", and 21.62% of people have classified as \"No\" (without internet service).\n",
    "\n",
    "**OnlineSecurity:** In the \"OnlineSecurity\" column, we can observe that 49.73% of people are classified as \"No\" (without online security), 28.65% of people are classified as \"Yes\" (with online security), and 21.62% of people are classified as \"No internet service\".\n",
    "\n",
    "**OnlineBackup:** In the \"OnlineBackup\" column, we can observe that 43.90% of people are classified as \"No\" (without online backup), 34.49% of people are classified as \"Yes\" (with online backup), and 21.62% of people are classified as \"No internet service\".\n",
    "\n",
    "**DeviceProtection:** In the \"DeviceProtection\" column, we can observe that 44.00% of people are classified as \"No\" (without device protection), 34.39% of people are classified as \"Yes\" (with device protection), and 21.62% of people are classified as \"No internet service\".\n",
    "\n",
    "**TechSupport:** In the \"TechSupport\" column, we can observe that 49.37% of people are classified as \"No\" (without tech support), 29.01% of people are classified as \"Yes\" (with tech support), and 21.62% of people are classified as \"No internet service\".\n",
    "\n",
    "**StreamingTV:** In the \"StreamingTV\" column, we can observe that 39.95% of people are classified as \"No\" (without streaming TV), 39.44% of people are classified as \"Yes\" (with streaming TV), and 21.62% of people are classified as \"No internet service\".\n",
    "\n",
    "**StreamingMovies:** In the \"StreamingMovies\" column, we can observe that 39.55% of people are classified as \"No\" (without streaming movies), 38.84% of people are classified as \"Yes\" (with streaming movies), and 21.62% of people are classified as \"No internet service\".\n",
    "\n",
    "**Contract:** In the \"Contract\" column, we can observe that 55.11% of people have chosen a \"Month-to-month\" contract, 23.96% of people have chosen a \"Two year\" contract, and 20.93% of people have chosen a \"One year\" contract.\n",
    "\n",
    "**PaperlessBilling:** In the \"PaperlessBilling\" column, we can observe that 59.27% of people are classified as \"Yes\" (paperless billing) and 40.73% of people are classified as \"No\" (not using paperless billing).\n",
    "\n",
    "**PaymentMethod:** In the \"PaymentMethod\" column, we can observe that 33.63% of people have made payment via \"Electronic check\", 22.81% of people have made payment via \"Mailed check\", 21.93% of people have made payment via \"Bank transfer\", and 21.63% of people have made payment via \"Credit card\".\n",
    "\n",
    "**Churn:** In the \"Churn\" column, we can observe that 73.42% of people are classified as \"No\" (not churned) and 26.58% of people are classified as \"Yes\" (churned)."
   ]
  },
  {
   "cell_type": "code",
   "execution_count": 36,
   "id": "d5111337",
   "metadata": {},
   "outputs": [],
   "source": [
    "# Display a frequency distribution for churn\n",
    "churn_counts = merged_df['Churn'].value_counts()\n",
    "labels = churn_counts.index\n",
    "values = churn_counts.values"
   ]
  },
  {
   "cell_type": "code",
   "execution_count": 37,
   "id": "e60d39b2",
   "metadata": {},
   "outputs": [
    {
     "data": {
      "text/plain": [
       "No     5163\n",
       "Yes    1869\n",
       "Name: Churn, dtype: int64"
      ]
     },
     "execution_count": 37,
     "metadata": {},
     "output_type": "execute_result"
    }
   ],
   "source": [
    "churn_counts"
   ]
  },
  {
   "cell_type": "code",
   "execution_count": 38,
   "id": "e203533c",
   "metadata": {},
   "outputs": [
    {
     "data": {
      "text/plain": [
       "No     73.421502\n",
       "Yes    26.578498\n",
       "Name: Churn, dtype: float64"
      ]
     },
     "execution_count": 38,
     "metadata": {},
     "output_type": "execute_result"
    }
   ],
   "source": [
    "perc_dist_tvar = (merged_df.Churn.value_counts()/merged_df.Churn.value_counts().sum())*100\n",
    "perc_dist_tvar"
   ]
  },
  {
   "cell_type": "markdown",
   "id": "8826698b",
   "metadata": {},
   "source": [
    "73.42% belongs to the Non-Churners and 26.57% belongs to the Churners"
   ]
  },
  {
   "cell_type": "code",
   "execution_count": 39,
   "id": "b15e0563",
   "metadata": {},
   "outputs": [
    {
     "data": {
      "image/png": "[encoded data removed]",
      "text/plain": [
       "<Figure size 432x432 with 1 Axes>"
      ]
     },
     "metadata": {
      "needs_background": "light"
     },
     "output_type": "display_data"
    }
   ],
   "source": [
    "# Set the color palette\n",
    "colors = [\"Orange\", \"Purple\"] \n",
    "\n",
    "# Create the countplot\n",
    "plt.figure(figsize=(6, 6))\n",
    "ax = sns.countplot(x=merged_df['Churn'], linewidth=1, palette=colors)\n",
    "\n",
    "# Set labels and title\n",
    "ax.set_xlabel('Churn')\n",
    "ax.set_ylabel('Count')\n",
    "ax.set_title('Churn Count')\n",
    "\n",
    "# Show the plot\n",
    "plt.show()"
   ]
  },
  {
   "cell_type": "markdown",
   "id": "7cbd7d2c",
   "metadata": {},
   "source": [
    "- The graph shows a data class imbalance between churners and non-churners. SMOTE might be an appropriate technique to fix this. "
   ]
  },
  {
   "cell_type": "markdown",
   "id": "c536edbf",
   "metadata": {},
   "source": [
    "#### Check for Outliers in Numerical Features"
   ]
  },
  {
   "cell_type": "code",
   "execution_count": 40,
   "id": "b9571320",
   "metadata": {},
   "outputs": [],
   "source": [
    "# Selecting numerical features\n",
    "numerical_features = ['tenure', 'MonthlyCharges', 'TotalCharges']\n",
    "df_numerical = merged_df[numerical_features]"
   ]
  },
  {
   "cell_type": "code",
   "execution_count": 41,
   "id": "b53f4a50",
   "metadata": {},
   "outputs": [
    {
     "name": "stderr",
     "output_type": "stream",
     "text": [
      "C:\\Users\\reshm\\anaconda3\\lib\\site-packages\\seaborn\\distributions.py:2619: FutureWarning: `distplot` is a deprecated function and will be removed in a future version. Please adapt your code to use either `displot` (a figure-level function with similar flexibility) or `histplot` (an axes-level function for histograms).\n",
      "  warnings.warn(msg, FutureWarning)\n"
     ]
    },
    {
     "data": {
      "image/png": "[encoded data removed]",
      "text/plain": [
       "<Figure size 576x432 with 1 Axes>"
      ]
     },
     "metadata": {
      "needs_background": "light"
     },
     "output_type": "display_data"
    },
    {
     "data": {
      "image/png": "[encoded data removed]",
      "text/plain": [
       "<Figure size 576x432 with 1 Axes>"
      ]
     },
     "metadata": {
      "needs_background": "light"
     },
     "output_type": "display_data"
    }
   ],
   "source": [
    "# Box plot for 'tenure'\n",
    "plt.figure(figsize=(8, 6))\n",
    "sns.boxplot(data=df_numerical['tenure'], color='Orchid')\n",
    "plt.title('Box Plot - tenure')\n",
    "\n",
    "# Distribution plot for 'tenure'\n",
    "plt.figure(figsize=(8, 6))\n",
    "sns.distplot(df_numerical['tenure'], color='Orchid')\n",
    "plt.title('Distribution Plot - tenure')\n",
    "plt.show()\n"
   ]
  },
  {
   "cell_type": "code",
   "execution_count": 42,
   "id": "cef30fb1",
   "metadata": {},
   "outputs": [
    {
     "name": "stderr",
     "output_type": "stream",
     "text": [
      "C:\\Users\\reshm\\anaconda3\\lib\\site-packages\\seaborn\\distributions.py:2619: FutureWarning: `distplot` is a deprecated function and will be removed in a future version. Please adapt your code to use either `displot` (a figure-level function with similar flexibility) or `histplot` (an axes-level function for histograms).\n",
      "  warnings.warn(msg, FutureWarning)\n"
     ]
    },
    {
     "data": {
      "image/png": "[encoded data removed]",
      "text/plain": [
       "<Figure size 576x432 with 1 Axes>"
      ]
     },
     "metadata": {
      "needs_background": "light"
     },
     "output_type": "display_data"
    },
    {
     "data": {
      "image/png": "[encoded data removed]",
      "text/plain": [
       "<Figure size 576x432 with 1 Axes>"
      ]
     },
     "metadata": {
      "needs_background": "light"
     },
     "output_type": "display_data"
    }
   ],
   "source": [
    "# Box plot for 'MonthlyCharges'\n",
    "plt.figure(figsize=(8, 6))\n",
    "sns.boxplot(data=df_numerical['MonthlyCharges'], color='orange')\n",
    "plt.title('Box Plot - MonthlyCharges')\n",
    "\n",
    "# Distribution plot for 'tenure'\n",
    "plt.figure(figsize=(8, 6))\n",
    "sns.distplot(df_numerical['MonthlyCharges'], color='orange')\n",
    "plt.title('Distribution Plot - MonthlyCharges')\n",
    "plt.show()"
   ]
  },
  {
   "cell_type": "code",
   "execution_count": 43,
   "id": "56de9e52",
   "metadata": {},
   "outputs": [
    {
     "name": "stderr",
     "output_type": "stream",
     "text": [
      "C:\\Users\\reshm\\anaconda3\\lib\\site-packages\\seaborn\\distributions.py:2619: FutureWarning: `distplot` is a deprecated function and will be removed in a future version. Please adapt your code to use either `displot` (a figure-level function with similar flexibility) or `histplot` (an axes-level function for histograms).\n",
      "  warnings.warn(msg, FutureWarning)\n"
     ]
    },
    {
     "data": {
      "image/png": "[encoded data removed]",
      "text/plain": [
       "<Figure size 576x432 with 1 Axes>"
      ]
     },
     "metadata": {
      "needs_background": "light"
     },
     "output_type": "display_data"
    },
    {
     "data": {
      "image/png": "[encoded data removed]",
      "text/plain": [
       "<Figure size 576x432 with 1 Axes>"
      ]
     },
     "metadata": {
      "needs_background": "light"
     },
     "output_type": "display_data"
    }
   ],
   "source": [
    "# Box plot for 'TotalCharges'\n",
    "plt.figure(figsize=(8, 6))\n",
    "sns.boxplot(data=df_numerical['TotalCharges'], color='skyblue')\n",
    "plt.title('Box Plot - TotalCharges')\n",
    "\n",
    "# Distribution plot for 'tenure'\n",
    "plt.figure(figsize=(8, 6))\n",
    "sns.distplot(df_numerical['TotalCharges'], color='skyblue')\n",
    "plt.title('Distribution Plot - TotalCharges')\n",
    "plt.show()"
   ]
  },
  {
   "cell_type": "code",
   "execution_count": 44,
   "id": "995429c8",
   "metadata": {},
   "outputs": [
    {
     "name": "stdout",
     "output_type": "stream",
     "text": [
      "Outliers in numerical features:\n",
      "tenure            False\n",
      "MonthlyCharges    False\n",
      "TotalCharges      False\n",
      "dtype: bool\n"
     ]
    }
   ],
   "source": [
    "# Calculating the IQR\n",
    "Q1 = df_numerical.quantile(0.25)\n",
    "Q3 = df_numerical.quantile(0.75)\n",
    "IQR = Q3 - Q1\n",
    "\n",
    "# Checking for outliers using the IQR method\n",
    "outliers = ((df_numerical < (Q1 - 1.5 * IQR)) | (df_numerical > (Q3 + 1.5 * IQR))).any()\n",
    "\n",
    "# Printing the outliers\n",
    "print(\"Outliers in numerical features:\")\n",
    "print(outliers)"
   ]
  },
  {
   "cell_type": "markdown",
   "id": "b4f7d0d9",
   "metadata": {},
   "source": [
    "- There are no outliers present in the dataset"
   ]
  },
  {
   "cell_type": "markdown",
   "id": "4f51dded",
   "metadata": {},
   "source": [
    "Since, \"SeniorCitizen\" column in the dataset represents a binary variable indicating whether a customer is a senior citizen (0 = No, 1 = Yes). Since it is a categorical variable, the concept of outliers does not apply in this case. "
   ]
  },
  {
   "cell_type": "markdown",
   "id": "99bbc339",
   "metadata": {},
   "source": [
    "### E. Encode all the appropriate Categorical features with the best suitable approach. "
   ]
  },
  {
   "cell_type": "markdown",
   "id": "fd432e7a",
   "metadata": {},
   "source": [
    "#### Label encoding "
   ]
  },
  {
   "cell_type": "code",
   "execution_count": 45,
   "id": "6c15ccaa",
   "metadata": {},
   "outputs": [],
   "source": [
    "merged_df_transformed = merged_df.copy()\n",
    "\n",
    "# label encoding (binary variables)\n",
    "label_encoding_columns = ['gender', 'Partner', 'Dependents', 'PaperlessBilling', 'PhoneService', 'Churn']\n",
    "\n",
    "# encode categorical binary features using label encoding\n",
    "for column in label_encoding_columns:\n",
    "    if column == 'gender':\n",
    "        merged_df_transformed[column] = merged_df_transformed[column].map({'Female': 1, 'Male': 0})\n",
    "    else: \n",
    "        merged_df_transformed[column] = merged_df_transformed[column].map({'Yes': 1, 'No': 0}) \n"
   ]
  },
  {
   "cell_type": "markdown",
   "id": "262fd80a",
   "metadata": {},
   "source": [
    "#### One-hot encoding"
   ]
  },
  {
   "cell_type": "code",
   "execution_count": 46,
   "id": "e9b88bbd",
   "metadata": {},
   "outputs": [],
   "source": [
    "# one-hot encoding (categorical variables with more than two levels)\n",
    "one_hot_encoding_columns = ['MultipleLines', 'InternetService', 'OnlineSecurity', 'OnlineBackup', 'DeviceProtection', \n",
    "                            'TechSupport', 'StreamingTV',  'StreamingMovies', 'Contract', 'PaymentMethod']\n",
    "\n",
    "# encode categorical variables with more than two levels using one-hot encoding\n",
    "merged_df_transformed = pd.get_dummies(merged_df_transformed, columns = one_hot_encoding_columns)"
   ]
  },
  {
   "cell_type": "code",
   "execution_count": 47,
   "id": "0e8b176e",
   "metadata": {},
   "outputs": [
    {
     "data": {
      "text/html": [
       "<div>\n",
       "<style scoped>\n",
       "    .dataframe tbody tr th:only-of-type {\n",
       "        vertical-align: middle;\n",
       "    }\n",
       "\n",
       "    .dataframe tbody tr th {\n",
       "        vertical-align: top;\n",
       "    }\n",
       "\n",
       "    .dataframe thead th {\n",
       "        text-align: right;\n",
       "    }\n",
       "</style>\n",
       "<table border=\"1\" class=\"dataframe\">\n",
       "  <thead>\n",
       "    <tr style=\"text-align: right;\">\n",
       "      <th></th>\n",
       "      <th>gender</th>\n",
       "      <th>SeniorCitizen</th>\n",
       "      <th>Partner</th>\n",
       "      <th>Dependents</th>\n",
       "      <th>tenure</th>\n",
       "      <th>PhoneService</th>\n",
       "      <th>PaperlessBilling</th>\n",
       "      <th>MonthlyCharges</th>\n",
       "      <th>TotalCharges</th>\n",
       "      <th>Churn</th>\n",
       "      <th>...</th>\n",
       "      <th>StreamingMovies_No</th>\n",
       "      <th>StreamingMovies_No internet service</th>\n",
       "      <th>StreamingMovies_Yes</th>\n",
       "      <th>Contract_Month-to-month</th>\n",
       "      <th>Contract_One year</th>\n",
       "      <th>Contract_Two year</th>\n",
       "      <th>PaymentMethod_Bank transfer</th>\n",
       "      <th>PaymentMethod_Credit card</th>\n",
       "      <th>PaymentMethod_E-check</th>\n",
       "      <th>PaymentMethod_Mailed check</th>\n",
       "    </tr>\n",
       "  </thead>\n",
       "  <tbody>\n",
       "    <tr>\n",
       "      <th>0</th>\n",
       "      <td>1</td>\n",
       "      <td>0</td>\n",
       "      <td>1</td>\n",
       "      <td>0</td>\n",
       "      <td>1</td>\n",
       "      <td>0</td>\n",
       "      <td>1</td>\n",
       "      <td>29.85</td>\n",
       "      <td>29.85</td>\n",
       "      <td>0</td>\n",
       "      <td>...</td>\n",
       "      <td>1</td>\n",
       "      <td>0</td>\n",
       "      <td>0</td>\n",
       "      <td>1</td>\n",
       "      <td>0</td>\n",
       "      <td>0</td>\n",
       "      <td>0</td>\n",
       "      <td>0</td>\n",
       "      <td>1</td>\n",
       "      <td>0</td>\n",
       "    </tr>\n",
       "    <tr>\n",
       "      <th>1</th>\n",
       "      <td>0</td>\n",
       "      <td>0</td>\n",
       "      <td>0</td>\n",
       "      <td>0</td>\n",
       "      <td>34</td>\n",
       "      <td>1</td>\n",
       "      <td>0</td>\n",
       "      <td>56.95</td>\n",
       "      <td>1889.50</td>\n",
       "      <td>0</td>\n",
       "      <td>...</td>\n",
       "      <td>1</td>\n",
       "      <td>0</td>\n",
       "      <td>0</td>\n",
       "      <td>0</td>\n",
       "      <td>1</td>\n",
       "      <td>0</td>\n",
       "      <td>0</td>\n",
       "      <td>0</td>\n",
       "      <td>0</td>\n",
       "      <td>1</td>\n",
       "    </tr>\n",
       "    <tr>\n",
       "      <th>2</th>\n",
       "      <td>0</td>\n",
       "      <td>0</td>\n",
       "      <td>0</td>\n",
       "      <td>0</td>\n",
       "      <td>2</td>\n",
       "      <td>1</td>\n",
       "      <td>1</td>\n",
       "      <td>53.85</td>\n",
       "      <td>108.15</td>\n",
       "      <td>1</td>\n",
       "      <td>...</td>\n",
       "      <td>1</td>\n",
       "      <td>0</td>\n",
       "      <td>0</td>\n",
       "      <td>1</td>\n",
       "      <td>0</td>\n",
       "      <td>0</td>\n",
       "      <td>0</td>\n",
       "      <td>0</td>\n",
       "      <td>0</td>\n",
       "      <td>1</td>\n",
       "    </tr>\n",
       "    <tr>\n",
       "      <th>3</th>\n",
       "      <td>0</td>\n",
       "      <td>0</td>\n",
       "      <td>0</td>\n",
       "      <td>0</td>\n",
       "      <td>45</td>\n",
       "      <td>0</td>\n",
       "      <td>0</td>\n",
       "      <td>42.30</td>\n",
       "      <td>1840.75</td>\n",
       "      <td>0</td>\n",
       "      <td>...</td>\n",
       "      <td>1</td>\n",
       "      <td>0</td>\n",
       "      <td>0</td>\n",
       "      <td>0</td>\n",
       "      <td>1</td>\n",
       "      <td>0</td>\n",
       "      <td>1</td>\n",
       "      <td>0</td>\n",
       "      <td>0</td>\n",
       "      <td>0</td>\n",
       "    </tr>\n",
       "    <tr>\n",
       "      <th>4</th>\n",
       "      <td>1</td>\n",
       "      <td>0</td>\n",
       "      <td>0</td>\n",
       "      <td>0</td>\n",
       "      <td>2</td>\n",
       "      <td>1</td>\n",
       "      <td>1</td>\n",
       "      <td>70.70</td>\n",
       "      <td>151.65</td>\n",
       "      <td>1</td>\n",
       "      <td>...</td>\n",
       "      <td>1</td>\n",
       "      <td>0</td>\n",
       "      <td>0</td>\n",
       "      <td>1</td>\n",
       "      <td>0</td>\n",
       "      <td>0</td>\n",
       "      <td>0</td>\n",
       "      <td>0</td>\n",
       "      <td>1</td>\n",
       "      <td>0</td>\n",
       "    </tr>\n",
       "    <tr>\n",
       "      <th>...</th>\n",
       "      <td>...</td>\n",
       "      <td>...</td>\n",
       "      <td>...</td>\n",
       "      <td>...</td>\n",
       "      <td>...</td>\n",
       "      <td>...</td>\n",
       "      <td>...</td>\n",
       "      <td>...</td>\n",
       "      <td>...</td>\n",
       "      <td>...</td>\n",
       "      <td>...</td>\n",
       "      <td>...</td>\n",
       "      <td>...</td>\n",
       "      <td>...</td>\n",
       "      <td>...</td>\n",
       "      <td>...</td>\n",
       "      <td>...</td>\n",
       "      <td>...</td>\n",
       "      <td>...</td>\n",
       "      <td>...</td>\n",
       "      <td>...</td>\n",
       "    </tr>\n",
       "    <tr>\n",
       "      <th>7038</th>\n",
       "      <td>0</td>\n",
       "      <td>0</td>\n",
       "      <td>1</td>\n",
       "      <td>1</td>\n",
       "      <td>24</td>\n",
       "      <td>1</td>\n",
       "      <td>1</td>\n",
       "      <td>84.80</td>\n",
       "      <td>1990.50</td>\n",
       "      <td>0</td>\n",
       "      <td>...</td>\n",
       "      <td>0</td>\n",
       "      <td>0</td>\n",
       "      <td>1</td>\n",
       "      <td>0</td>\n",
       "      <td>1</td>\n",
       "      <td>0</td>\n",
       "      <td>0</td>\n",
       "      <td>0</td>\n",
       "      <td>0</td>\n",
       "      <td>1</td>\n",
       "    </tr>\n",
       "    <tr>\n",
       "      <th>7039</th>\n",
       "      <td>1</td>\n",
       "      <td>0</td>\n",
       "      <td>1</td>\n",
       "      <td>1</td>\n",
       "      <td>72</td>\n",
       "      <td>1</td>\n",
       "      <td>1</td>\n",
       "      <td>103.20</td>\n",
       "      <td>7362.90</td>\n",
       "      <td>0</td>\n",
       "      <td>...</td>\n",
       "      <td>0</td>\n",
       "      <td>0</td>\n",
       "      <td>1</td>\n",
       "      <td>0</td>\n",
       "      <td>1</td>\n",
       "      <td>0</td>\n",
       "      <td>0</td>\n",
       "      <td>1</td>\n",
       "      <td>0</td>\n",
       "      <td>0</td>\n",
       "    </tr>\n",
       "    <tr>\n",
       "      <th>7040</th>\n",
       "      <td>1</td>\n",
       "      <td>0</td>\n",
       "      <td>1</td>\n",
       "      <td>1</td>\n",
       "      <td>11</td>\n",
       "      <td>0</td>\n",
       "      <td>1</td>\n",
       "      <td>29.60</td>\n",
       "      <td>346.45</td>\n",
       "      <td>0</td>\n",
       "      <td>...</td>\n",
       "      <td>1</td>\n",
       "      <td>0</td>\n",
       "      <td>0</td>\n",
       "      <td>1</td>\n",
       "      <td>0</td>\n",
       "      <td>0</td>\n",
       "      <td>0</td>\n",
       "      <td>0</td>\n",
       "      <td>1</td>\n",
       "      <td>0</td>\n",
       "    </tr>\n",
       "    <tr>\n",
       "      <th>7041</th>\n",
       "      <td>0</td>\n",
       "      <td>1</td>\n",
       "      <td>1</td>\n",
       "      <td>0</td>\n",
       "      <td>4</td>\n",
       "      <td>1</td>\n",
       "      <td>1</td>\n",
       "      <td>74.40</td>\n",
       "      <td>306.60</td>\n",
       "      <td>1</td>\n",
       "      <td>...</td>\n",
       "      <td>1</td>\n",
       "      <td>0</td>\n",
       "      <td>0</td>\n",
       "      <td>1</td>\n",
       "      <td>0</td>\n",
       "      <td>0</td>\n",
       "      <td>0</td>\n",
       "      <td>0</td>\n",
       "      <td>0</td>\n",
       "      <td>1</td>\n",
       "    </tr>\n",
       "    <tr>\n",
       "      <th>7042</th>\n",
       "      <td>0</td>\n",
       "      <td>0</td>\n",
       "      <td>0</td>\n",
       "      <td>0</td>\n",
       "      <td>66</td>\n",
       "      <td>1</td>\n",
       "      <td>1</td>\n",
       "      <td>105.65</td>\n",
       "      <td>6844.50</td>\n",
       "      <td>0</td>\n",
       "      <td>...</td>\n",
       "      <td>0</td>\n",
       "      <td>0</td>\n",
       "      <td>1</td>\n",
       "      <td>0</td>\n",
       "      <td>0</td>\n",
       "      <td>1</td>\n",
       "      <td>1</td>\n",
       "      <td>0</td>\n",
       "      <td>0</td>\n",
       "      <td>0</td>\n",
       "    </tr>\n",
       "  </tbody>\n",
       "</table>\n",
       "<p>7032 rows × 41 columns</p>\n",
       "</div>"
      ],
      "text/plain": [
       "      gender  SeniorCitizen  Partner  Dependents  tenure  PhoneService  \\\n",
       "0          1              0        1           0       1             0   \n",
       "1          0              0        0           0      34             1   \n",
       "2          0              0        0           0       2             1   \n",
       "3          0              0        0           0      45             0   \n",
       "4          1              0        0           0       2             1   \n",
       "...      ...            ...      ...         ...     ...           ...   \n",
       "7038       0              0        1           1      24             1   \n",
       "7039       1              0        1           1      72             1   \n",
       "7040       1              0        1           1      11             0   \n",
       "7041       0              1        1           0       4             1   \n",
       "7042       0              0        0           0      66             1   \n",
       "\n",
       "      PaperlessBilling  MonthlyCharges  TotalCharges  Churn  ...  \\\n",
       "0                    1           29.85         29.85      0  ...   \n",
       "1                    0           56.95       1889.50      0  ...   \n",
       "2                    1           53.85        108.15      1  ...   \n",
       "3                    0           42.30       1840.75      0  ...   \n",
       "4                    1           70.70        151.65      1  ...   \n",
       "...                ...             ...           ...    ...  ...   \n",
       "7038                 1           84.80       1990.50      0  ...   \n",
       "7039                 1          103.20       7362.90      0  ...   \n",
       "7040                 1           29.60        346.45      0  ...   \n",
       "7041                 1           74.40        306.60      1  ...   \n",
       "7042                 1          105.65       6844.50      0  ...   \n",
       "\n",
       "      StreamingMovies_No  StreamingMovies_No internet service  \\\n",
       "0                      1                                    0   \n",
       "1                      1                                    0   \n",
       "2                      1                                    0   \n",
       "3                      1                                    0   \n",
       "4                      1                                    0   \n",
       "...                  ...                                  ...   \n",
       "7038                   0                                    0   \n",
       "7039                   0                                    0   \n",
       "7040                   1                                    0   \n",
       "7041                   1                                    0   \n",
       "7042                   0                                    0   \n",
       "\n",
       "      StreamingMovies_Yes  Contract_Month-to-month  Contract_One year  \\\n",
       "0                       0                        1                  0   \n",
       "1                       0                        0                  1   \n",
       "2                       0                        1                  0   \n",
       "3                       0                        0                  1   \n",
       "4                       0                        1                  0   \n",
       "...                   ...                      ...                ...   \n",
       "7038                    1                        0                  1   \n",
       "7039                    1                        0                  1   \n",
       "7040                    0                        1                  0   \n",
       "7041                    0                        1                  0   \n",
       "7042                    1                        0                  0   \n",
       "\n",
       "      Contract_Two year  PaymentMethod_Bank transfer  \\\n",
       "0                     0                            0   \n",
       "1                     0                            0   \n",
       "2                     0                            0   \n",
       "3                     0                            1   \n",
       "4                     0                            0   \n",
       "...                 ...                          ...   \n",
       "7038                  0                            0   \n",
       "7039                  0                            0   \n",
       "7040                  0                            0   \n",
       "7041                  0                            0   \n",
       "7042                  1                            1   \n",
       "\n",
       "      PaymentMethod_Credit card  PaymentMethod_E-check  \\\n",
       "0                             0                      1   \n",
       "1                             0                      0   \n",
       "2                             0                      0   \n",
       "3                             0                      0   \n",
       "4                             0                      1   \n",
       "...                         ...                    ...   \n",
       "7038                          0                      0   \n",
       "7039                          1                      0   \n",
       "7040                          0                      1   \n",
       "7041                          0                      0   \n",
       "7042                          0                      0   \n",
       "\n",
       "      PaymentMethod_Mailed check  \n",
       "0                              0  \n",
       "1                              1  \n",
       "2                              1  \n",
       "3                              0  \n",
       "4                              0  \n",
       "...                          ...  \n",
       "7038                           1  \n",
       "7039                           0  \n",
       "7040                           0  \n",
       "7041                           1  \n",
       "7042                           0  \n",
       "\n",
       "[7032 rows x 41 columns]"
      ]
     },
     "execution_count": 47,
     "metadata": {},
     "output_type": "execute_result"
    }
   ],
   "source": [
    "merged_df_transformed"
   ]
  },
  {
   "cell_type": "code",
   "execution_count": 48,
   "id": "48cedff1",
   "metadata": {},
   "outputs": [
    {
     "name": "stdout",
     "output_type": "stream",
     "text": [
      "Unique values count for gender: 2\n",
      "Unique values for gender:\n",
      "[1 0]\n",
      "\n",
      "Unique values count for SeniorCitizen: 2\n",
      "Unique values for SeniorCitizen:\n",
      "[0 1]\n",
      "\n",
      "Unique values count for Partner: 2\n",
      "Unique values for Partner:\n",
      "[1 0]\n",
      "\n",
      "Unique values count for Dependents: 2\n",
      "Unique values for Dependents:\n",
      "[0 1]\n",
      "\n",
      "Unique values count for tenure: 72\n",
      "Unique values for tenure:\n",
      "[ 1 34  2 45  8 22 10 28 62 13 16 58 49 25 69 52 71 21 12 30 47 72 17 27\n",
      "  5 46 11 70 63 43 15 60 18 66  9  3 31 50 64 56  7 42 35 48 29 65 38 68\n",
      " 32 55 37 36 41  6  4 33 67 23 57 61 14 20 53 40 59 24 44 19 54 51 26 39]\n",
      "\n",
      "Unique values count for PhoneService: 2\n",
      "Unique values for PhoneService:\n",
      "[0 1]\n",
      "\n",
      "Unique values count for PaperlessBilling: 2\n",
      "Unique values for PaperlessBilling:\n",
      "[1 0]\n",
      "\n",
      "Unique values count for MonthlyCharges: 1584\n",
      "Unique values for MonthlyCharges:\n",
      "[29.85 56.95 53.85 ... 63.1  44.2  78.7 ]\n",
      "\n",
      "Unique values count for TotalCharges: 6530\n",
      "Unique values for TotalCharges:\n",
      "[  29.85 1889.5   108.15 ...  346.45  306.6  6844.5 ]\n",
      "\n",
      "Unique values count for Churn: 2\n",
      "Unique values for Churn:\n",
      "[0 1]\n",
      "\n",
      "Unique values count for MultipleLines_No: 2\n",
      "Unique values for MultipleLines_No:\n",
      "[0 1]\n",
      "\n",
      "Unique values count for MultipleLines_No phone service: 2\n",
      "Unique values for MultipleLines_No phone service:\n",
      "[1 0]\n",
      "\n",
      "Unique values count for MultipleLines_Yes: 2\n",
      "Unique values for MultipleLines_Yes:\n",
      "[0 1]\n",
      "\n",
      "Unique values count for InternetService_DSL: 2\n",
      "Unique values for InternetService_DSL:\n",
      "[1 0]\n",
      "\n",
      "Unique values count for InternetService_Fiber optic: 2\n",
      "Unique values for InternetService_Fiber optic:\n",
      "[0 1]\n",
      "\n",
      "Unique values count for InternetService_No: 2\n",
      "Unique values for InternetService_No:\n",
      "[0 1]\n",
      "\n",
      "Unique values count for OnlineSecurity_No: 2\n",
      "Unique values for OnlineSecurity_No:\n",
      "[1 0]\n",
      "\n",
      "Unique values count for OnlineSecurity_No internet service: 2\n",
      "Unique values for OnlineSecurity_No internet service:\n",
      "[0 1]\n",
      "\n",
      "Unique values count for OnlineSecurity_Yes: 2\n",
      "Unique values for OnlineSecurity_Yes:\n",
      "[0 1]\n",
      "\n",
      "Unique values count for OnlineBackup_No: 2\n",
      "Unique values for OnlineBackup_No:\n",
      "[0 1]\n",
      "\n",
      "Unique values count for OnlineBackup_No internet service: 2\n",
      "Unique values for OnlineBackup_No internet service:\n",
      "[0 1]\n",
      "\n",
      "Unique values count for OnlineBackup_Yes: 2\n",
      "Unique values for OnlineBackup_Yes:\n",
      "[1 0]\n",
      "\n",
      "Unique values count for DeviceProtection_No: 2\n",
      "Unique values for DeviceProtection_No:\n",
      "[1 0]\n",
      "\n",
      "Unique values count for DeviceProtection_No internet service: 2\n",
      "Unique values for DeviceProtection_No internet service:\n",
      "[0 1]\n",
      "\n",
      "Unique values count for DeviceProtection_Yes: 2\n",
      "Unique values for DeviceProtection_Yes:\n",
      "[0 1]\n",
      "\n",
      "Unique values count for TechSupport_No: 2\n",
      "Unique values for TechSupport_No:\n",
      "[1 0]\n",
      "\n",
      "Unique values count for TechSupport_No internet service: 2\n",
      "Unique values for TechSupport_No internet service:\n",
      "[0 1]\n",
      "\n",
      "Unique values count for TechSupport_Yes: 2\n",
      "Unique values for TechSupport_Yes:\n",
      "[0 1]\n",
      "\n",
      "Unique values count for StreamingTV_No: 2\n",
      "Unique values for StreamingTV_No:\n",
      "[1 0]\n",
      "\n",
      "Unique values count for StreamingTV_No internet service: 2\n",
      "Unique values for StreamingTV_No internet service:\n",
      "[0 1]\n",
      "\n",
      "Unique values count for StreamingTV_Yes: 2\n",
      "Unique values for StreamingTV_Yes:\n",
      "[0 1]\n",
      "\n",
      "Unique values count for StreamingMovies_No: 2\n",
      "Unique values for StreamingMovies_No:\n",
      "[1 0]\n",
      "\n",
      "Unique values count for StreamingMovies_No internet service: 2\n",
      "Unique values for StreamingMovies_No internet service:\n",
      "[0 1]\n",
      "\n",
      "Unique values count for StreamingMovies_Yes: 2\n",
      "Unique values for StreamingMovies_Yes:\n",
      "[0 1]\n",
      "\n",
      "Unique values count for Contract_Month-to-month: 2\n",
      "Unique values for Contract_Month-to-month:\n",
      "[1 0]\n",
      "\n",
      "Unique values count for Contract_One year: 2\n",
      "Unique values for Contract_One year:\n",
      "[0 1]\n",
      "\n",
      "Unique values count for Contract_Two year: 2\n",
      "Unique values for Contract_Two year:\n",
      "[0 1]\n",
      "\n",
      "Unique values count for PaymentMethod_Bank transfer: 2\n",
      "Unique values for PaymentMethod_Bank transfer:\n",
      "[0 1]\n",
      "\n",
      "Unique values count for PaymentMethod_Credit card: 2\n",
      "Unique values for PaymentMethod_Credit card:\n",
      "[0 1]\n",
      "\n",
      "Unique values count for PaymentMethod_E-check: 2\n",
      "Unique values for PaymentMethod_E-check:\n",
      "[1 0]\n",
      "\n",
      "Unique values count for PaymentMethod_Mailed check: 2\n",
      "Unique values for PaymentMethod_Mailed check:\n",
      "[0 1]\n",
      "\n"
     ]
    }
   ],
   "source": [
    "# Re- check unique values of each column\n",
    "for column in merged_df_transformed.columns:\n",
    "    unique_values_count = merged_df_transformed[column].nunique()\n",
    "    unique_values = merged_df_transformed[column].unique()\n",
    "    print(f\"Unique values count for {column}: {unique_values_count}\")\n",
    "    print(f\"Unique values for {column}:\\n{unique_values}\\n\")"
   ]
  },
  {
   "cell_type": "code",
   "execution_count": 49,
   "id": "41c96713",
   "metadata": {},
   "outputs": [
    {
     "name": "stdout",
     "output_type": "stream",
     "text": [
      "<class 'pandas.core.frame.DataFrame'>\n",
      "Int64Index: 7032 entries, 0 to 7042\n",
      "Data columns (total 41 columns):\n",
      " #   Column                                Non-Null Count  Dtype  \n",
      "---  ------                                --------------  -----  \n",
      " 0   gender                                7032 non-null   int64  \n",
      " 1   SeniorCitizen                         7032 non-null   int64  \n",
      " 2   Partner                               7032 non-null   int64  \n",
      " 3   Dependents                            7032 non-null   int64  \n",
      " 4   tenure                                7032 non-null   int64  \n",
      " 5   PhoneService                          7032 non-null   int64  \n",
      " 6   PaperlessBilling                      7032 non-null   int64  \n",
      " 7   MonthlyCharges                        7032 non-null   float64\n",
      " 8   TotalCharges                          7032 non-null   float64\n",
      " 9   Churn                                 7032 non-null   int64  \n",
      " 10  MultipleLines_No                      7032 non-null   uint8  \n",
      " 11  MultipleLines_No phone service        7032 non-null   uint8  \n",
      " 12  MultipleLines_Yes                     7032 non-null   uint8  \n",
      " 13  InternetService_DSL                   7032 non-null   uint8  \n",
      " 14  InternetService_Fiber optic           7032 non-null   uint8  \n",
      " 15  InternetService_No                    7032 non-null   uint8  \n",
      " 16  OnlineSecurity_No                     7032 non-null   uint8  \n",
      " 17  OnlineSecurity_No internet service    7032 non-null   uint8  \n",
      " 18  OnlineSecurity_Yes                    7032 non-null   uint8  \n",
      " 19  OnlineBackup_No                       7032 non-null   uint8  \n",
      " 20  OnlineBackup_No internet service      7032 non-null   uint8  \n",
      " 21  OnlineBackup_Yes                      7032 non-null   uint8  \n",
      " 22  DeviceProtection_No                   7032 non-null   uint8  \n",
      " 23  DeviceProtection_No internet service  7032 non-null   uint8  \n",
      " 24  DeviceProtection_Yes                  7032 non-null   uint8  \n",
      " 25  TechSupport_No                        7032 non-null   uint8  \n",
      " 26  TechSupport_No internet service       7032 non-null   uint8  \n",
      " 27  TechSupport_Yes                       7032 non-null   uint8  \n",
      " 28  StreamingTV_No                        7032 non-null   uint8  \n",
      " 29  StreamingTV_No internet service       7032 non-null   uint8  \n",
      " 30  StreamingTV_Yes                       7032 non-null   uint8  \n",
      " 31  StreamingMovies_No                    7032 non-null   uint8  \n",
      " 32  StreamingMovies_No internet service   7032 non-null   uint8  \n",
      " 33  StreamingMovies_Yes                   7032 non-null   uint8  \n",
      " 34  Contract_Month-to-month               7032 non-null   uint8  \n",
      " 35  Contract_One year                     7032 non-null   uint8  \n",
      " 36  Contract_Two year                     7032 non-null   uint8  \n",
      " 37  PaymentMethod_Bank transfer           7032 non-null   uint8  \n",
      " 38  PaymentMethod_Credit card             7032 non-null   uint8  \n",
      " 39  PaymentMethod_E-check                 7032 non-null   uint8  \n",
      " 40  PaymentMethod_Mailed check            7032 non-null   uint8  \n",
      "dtypes: float64(2), int64(8), uint8(31)\n",
      "memory usage: 1.1 MB\n"
     ]
    }
   ],
   "source": [
    "merged_df_transformed.info()"
   ]
  },
  {
   "cell_type": "markdown",
   "id": "5c22fd11",
   "metadata": {},
   "source": [
    "- There are 7032 rows and 41 columns with no missing values present in the dataset.\n",
    "- Columns with names like 'MultipleLines', 'InternetService', 'OnlineSecurity', 'OnlineBackup', 'DeviceProtection', 'TechSupport', 'StreamingTV', 'StreamingMovies', 'Contract', and 'PaymentMethod' are encoded as unsigned integers (uint8) and represent multiple categories. They are one-hot encoded, where each column represents the presence or absence of a particular category for a given customer."
   ]
  },
  {
   "cell_type": "markdown",
   "id": "7378bec1",
   "metadata": {},
   "source": [
    "### F. Split the data into 80% train and 20% test."
   ]
  },
  {
   "cell_type": "code",
   "execution_count": 50,
   "id": "56ec8c61",
   "metadata": {},
   "outputs": [],
   "source": [
    "# Splitting data into X and y\n",
    "X = merged_df_transformed.drop('Churn', axis=1)  # Independent variables\n",
    "y = merged_df_transformed['Churn']  # Dependent variable"
   ]
  },
  {
   "cell_type": "code",
   "execution_count": 51,
   "id": "7aa1eed3",
   "metadata": {},
   "outputs": [],
   "source": [
    "# Split the data into train and test sets\n",
    "X_train, X_test, y_train, y_test = train_test_split(X, y, test_size=0.2, random_state=100, stratify=y)"
   ]
  },
  {
   "cell_type": "markdown",
   "id": "36b23550",
   "metadata": {},
   "source": [
    "### G. Normalize/Standardize the data with the best suitable approach."
   ]
  },
  {
   "cell_type": "code",
   "execution_count": 52,
   "id": "2e1a0557",
   "metadata": {},
   "outputs": [],
   "source": [
    "from sklearn.preprocessing import MinMaxScaler\n",
    "\n",
    "# Create a MinMaxScaler object\n",
    "scaler = MinMaxScaler()\n",
    "\n",
    "# min-max normalization (numeric variables)\n",
    "min_max_columns = [ 'tenure', 'MonthlyCharges', 'TotalCharges']\n",
    "\n",
    "# scale numerical variables using min max scaler\n",
    "for column in min_max_columns:\n",
    "        # minimum value of the column\n",
    "        min_column = merged_df_transformed[column].min()\n",
    "        # maximum value of the column\n",
    "        max_column = merged_df_transformed[column].max()\n",
    "        # min max scaler\n",
    "        merged_df_transformed[column] = (merged_df_transformed[column] - min_column) / (max_column - min_column) "
   ]
  },
  {
   "cell_type": "markdown",
   "id": "f8b40fc9",
   "metadata": {},
   "source": [
    "### 3. Model building and performance improvement: "
   ]
  },
  {
   "cell_type": "markdown",
   "id": "a73bcda2",
   "metadata": {},
   "source": [
    "#### Balance the data using the right balancing technique (SMOTE)"
   ]
  },
  {
   "cell_type": "code",
   "execution_count": 53,
   "id": "eca95347",
   "metadata": {},
   "outputs": [],
   "source": [
    "# Balance the data using the right balancing technique (SMOTE)\n",
    "from imblearn.over_sampling import SMOTE\n",
    "\n",
    "smote = SMOTE(random_state=100)\n",
    "X_train_balanced, y_train_balanced = smote.fit_resample(X_train, y_train)"
   ]
  },
  {
   "cell_type": "code",
   "execution_count": 54,
   "id": "7906bb8d",
   "metadata": {},
   "outputs": [
    {
     "data": {
      "text/plain": [
       "0    4130\n",
       "1    4130\n",
       "Name: Churn, dtype: int64"
      ]
     },
     "execution_count": 54,
     "metadata": {},
     "output_type": "execute_result"
    }
   ],
   "source": [
    "# again check distribution of target variable[Churn] on train data\n",
    "y_train_balanced.value_counts()"
   ]
  },
  {
   "cell_type": "markdown",
   "id": "ad0ff96c",
   "metadata": {},
   "source": [
    "### Decision Tree"
   ]
  },
  {
   "cell_type": "markdown",
   "id": "f556b09a",
   "metadata": {},
   "source": [
    "### A. Train a model using Decision tree and check the performance of the model on train and test data."
   ]
  },
  {
   "cell_type": "code",
   "execution_count": 87,
   "id": "a8ba707c",
   "metadata": {
    "scrolled": false
   },
   "outputs": [
    {
     "name": "stdout",
     "output_type": "stream",
     "text": [
      "Train Accuracy: 0.9983050847457627\n",
      "Test Accuracy: 0.7228144989339019\n",
      "\n",
      "Train Classification Report:\n",
      "              precision    recall  f1-score   support\n",
      "\n",
      "           0       1.00      1.00      1.00      4130\n",
      "           1       1.00      1.00      1.00      4130\n",
      "\n",
      "    accuracy                           1.00      8260\n",
      "   macro avg       1.00      1.00      1.00      8260\n",
      "weighted avg       1.00      1.00      1.00      8260\n",
      "\n",
      "\n",
      "Test Classification Report:\n",
      "              precision    recall  f1-score   support\n",
      "\n",
      "           0       0.82      0.80      0.81      1033\n",
      "           1       0.48      0.51      0.49       374\n",
      "\n",
      "    accuracy                           0.72      1407\n",
      "   macro avg       0.65      0.65      0.65      1407\n",
      "weighted avg       0.73      0.72      0.73      1407\n",
      "\n",
      "Train Confusion Matrix:\n",
      "[[4128    2]\n",
      " [  12 4118]]\n",
      "\n",
      "Test Confusion Matrix:\n",
      "[[828 205]\n",
      " [185 189]]\n",
      "\n",
      "Train ROC AUC Score: 0.9999941079563109\n",
      "Test ROC AUC Score: 0.6536980188537617\n"
     ]
    }
   ],
   "source": [
    "# Training a decision tree model\n",
    "tree_model = DecisionTreeClassifier(random_state=100)\n",
    "tree_model.fit(X_train_balanced, y_train_balanced)\n",
    "\n",
    "# Predicting the labels for both the training and test data\n",
    "y_train_pred = tree_model.predict(X_train_balanced)\n",
    "y_test_pred = tree_model.predict(X_test)\n",
    "\n",
    "# Calculating accuracy\n",
    "train_accuracy = accuracy_score(y_train_balanced, y_train_pred)\n",
    "test_accuracy = accuracy_score(y_test, y_test_pred)\n",
    "\n",
    "# Generating confusion matrix\n",
    "train_cm = confusion_matrix(y_train_balanced, y_train_pred)\n",
    "test_cm = confusion_matrix(y_test, y_test_pred)\n",
    "\n",
    "# Calculating predicted probabilities\n",
    "y_train_prob = tree_model.predict_proba(X_train_balanced)[:, 1]\n",
    "y_test_prob = tree_model.predict_proba(X_test)[:, 1]\n",
    "\n",
    "# Calculating ROC AUC score\n",
    "train_roc_auc = roc_auc_score(y_train_balanced, y_train_prob)\n",
    "test_roc_auc = roc_auc_score(y_test, y_test_prob)\n",
    "\n",
    "# Printing results\n",
    "print(\"Train Accuracy:\", train_accuracy)\n",
    "print(\"Test Accuracy:\", test_accuracy)\n",
    "\n",
    "print(\"\\nTrain Classification Report:\")\n",
    "print(classification_report(y_train_balanced, y_train_pred))\n",
    "\n",
    "print(\"\\nTest Classification Report:\")\n",
    "print(classification_report(y_test, y_test_pred))\n",
    "\n",
    "print(\"Train Confusion Matrix:\")\n",
    "print(train_cm)\n",
    "\n",
    "print(\"\\nTest Confusion Matrix:\")\n",
    "print(test_cm)\n",
    "\n",
    "print(\"\\nTrain ROC AUC Score:\", train_roc_auc)\n",
    "print(\"Test ROC AUC Score:\", test_roc_auc)\n"
   ]
  },
  {
   "cell_type": "code",
   "execution_count": 88,
   "id": "38764bcb",
   "metadata": {},
   "outputs": [
    {
     "data": {
      "image/png": "[encoded data removed]",
      "text/plain": [
       "<Figure size 720x432 with 1 Axes>"
      ]
     },
     "metadata": {
      "needs_background": "light"
     },
     "output_type": "display_data"
    }
   ],
   "source": [
    "# Predict probabilities for both training and test data\n",
    "y_train_prob = tree_model.predict_proba(X_train_balanced)[:, 1]\n",
    "y_test_prob = tree_model.predict_proba(X_test)[:, 1]\n",
    "\n",
    "# Calculate ROC curve values\n",
    "fpr_train, tpr_train, thresholds_train = roc_curve(y_train_balanced, y_train_prob)\n",
    "fpr_test, tpr_test, thresholds_test = roc_curve(y_test, y_test_prob)\n",
    "\n",
    "# Plot the ROC curve\n",
    "plt.figure(figsize=(10, 6))\n",
    "plt.plot(fpr_train, tpr_train, label='Train ROC curve (area = %0.2f)' % train_roc_auc)\n",
    "plt.plot(fpr_test, tpr_test, label='Test ROC curve (area = %0.2f)' % test_roc_auc)\n",
    "plt.plot([0, 1], [0, 1], 'k--')  # Diagonal reference line\n",
    "plt.xlim([0.0, 1.0])\n",
    "plt.ylim([0.0, 1.05])\n",
    "plt.xlabel('False Positive Rate')\n",
    "plt.ylabel('True Positive Rate')\n",
    "plt.title('Receiver Operating Characteristic (ROC) Curve')\n",
    "plt.legend(loc='lower right')\n",
    "plt.show()"
   ]
  },
  {
   "cell_type": "markdown",
   "id": "423dc417",
   "metadata": {},
   "source": [
    "### B. Use grid search and improve the performance of the Decision tree model , check the performance of the model on train and test data , provide the differences observed in performance in 3.A and 3.B.\n"
   ]
  },
  {
   "cell_type": "code",
   "execution_count": 69,
   "id": "b0a73bba",
   "metadata": {
    "scrolled": false
   },
   "outputs": [
    {
     "name": "stdout",
     "output_type": "stream",
     "text": [
      "Best Parameters: {'criterion': 'entropy', 'max_depth': 10, 'min_samples_leaf': 1, 'min_samples_split': 5}\n",
      "\n",
      "Train Accuracy: 0.8587167070217918\n",
      "Test Accuracy: 0.7583511016346838\n",
      "\n",
      "Train Classification Report:\n",
      "              precision    recall  f1-score   support\n",
      "\n",
      "           0       0.85      0.87      0.86      4130\n",
      "           1       0.87      0.85      0.86      4130\n",
      "\n",
      "    accuracy                           0.86      8260\n",
      "   macro avg       0.86      0.86      0.86      8260\n",
      "weighted avg       0.86      0.86      0.86      8260\n",
      "\n",
      "\n",
      "Test Classification Report:\n",
      "              precision    recall  f1-score   support\n",
      "\n",
      "           0       0.85      0.82      0.83      1033\n",
      "           1       0.54      0.59      0.57       374\n",
      "\n",
      "    accuracy                           0.76      1407\n",
      "   macro avg       0.69      0.71      0.70      1407\n",
      "weighted avg       0.77      0.76      0.76      1407\n",
      "\n",
      "Train Confusion Matrix:\n",
      "[[3589  541]\n",
      " [ 626 3504]]\n",
      "\n",
      "Test Confusion Matrix:\n",
      "[[845 188]\n",
      " [152 222]]\n",
      "\n",
      "Train ROC AUC Score: 0.9432527305665157\n",
      "Test ROC AUC Score: 0.7928079266556574\n"
     ]
    }
   ],
   "source": [
    "# Define the parameter grid\n",
    "param_grid = {\n",
    "    'criterion': ['gini', 'entropy'],\n",
    "    'max_depth': [None, 5, 10],\n",
    "    'min_samples_split': [2, 5, 10],\n",
    "    'min_samples_leaf': [1, 2, 4]\n",
    "}\n",
    "\n",
    "# Create the decision tree model\n",
    "tree_model = DecisionTreeClassifier(random_state=100)\n",
    "\n",
    "# Create the GridSearchCV object\n",
    "grid_search = GridSearchCV(tree_model, param_grid, cv=5)\n",
    "\n",
    "# Fit the GridSearchCV object to the training data\n",
    "grid_search.fit(X_train_balanced, y_train_balanced)\n",
    "\n",
    "# Get the best parameters and best estimator\n",
    "best_params = grid_search.best_params_\n",
    "best_estimator = grid_search.best_estimator_\n",
    "\n",
    "# Predict on the training and test data using the best estimator\n",
    "y_train_pred = best_estimator.predict(X_train_balanced)\n",
    "y_test_pred = best_estimator.predict(X_test)\n",
    "\n",
    "# Calculate accuracy\n",
    "train_accuracy = accuracy_score(y_train_balanced, y_train_pred)\n",
    "test_accuracy = accuracy_score(y_test, y_test_pred)\n",
    "\n",
    "# Generate confusion matrix\n",
    "train_cm = confusion_matrix(y_train_balanced, y_train_pred)\n",
    "test_cm = confusion_matrix(y_test, y_test_pred)\n",
    "\n",
    "# Calculate predicted probabilities\n",
    "y_train_prob = best_estimator.predict_proba(X_train_balanced)[:, 1]\n",
    "y_test_prob = best_estimator.predict_proba(X_test)[:, 1]\n",
    "\n",
    "# Calculate ROC AUC score\n",
    "train_roc_auc = roc_auc_score(y_train_balanced, y_train_prob)\n",
    "test_roc_auc = roc_auc_score(y_test, y_test_prob)\n",
    "\n",
    "# Print results\n",
    "print(\"Best Parameters:\", best_params)\n",
    "print(\"\\nTrain Accuracy:\", train_accuracy)\n",
    "print(\"Test Accuracy:\", test_accuracy)\n",
    "\n",
    "print(\"\\nTrain Classification Report:\")\n",
    "print(classification_report(y_train_balanced, y_train_pred))\n",
    "\n",
    "print(\"\\nTest Classification Report:\")\n",
    "print(classification_report(y_test, y_test_pred))\n",
    "\n",
    "print(\"Train Confusion Matrix:\")\n",
    "print(train_cm)\n",
    "\n",
    "print(\"\\nTest Confusion Matrix:\")\n",
    "print(test_cm)\n",
    "\n",
    "print(\"\\nTrain ROC AUC Score:\", train_roc_auc)\n",
    "print(\"Test ROC AUC Score:\", test_roc_auc)"
   ]
  },
  {
   "cell_type": "code",
   "execution_count": 70,
   "id": "d6c34dd8",
   "metadata": {},
   "outputs": [
    {
     "data": {
      "image/png": "[encoded data removed]",
      "text/plain": [
       "<Figure size 720x432 with 1 Axes>"
      ]
     },
     "metadata": {
      "needs_background": "light"
     },
     "output_type": "display_data"
    }
   ],
   "source": [
    "# Calculate predicted probabilities using the best estimator\n",
    "y_train_prob = best_estimator.predict_proba(X_train_balanced)[:, 1]\n",
    "y_test_prob = best_estimator.predict_proba(X_test)[:, 1]\n",
    "\n",
    "# Calculate ROC curve values\n",
    "fpr_train, tpr_train, thresholds_train = roc_curve(y_train_balanced, y_train_prob)\n",
    "fpr_test, tpr_test, thresholds_test = roc_curve(y_test, y_test_prob)\n",
    "\n",
    "# Plot the ROC curve\n",
    "plt.figure(figsize=(10, 6))\n",
    "plt.plot(fpr_train, tpr_train, label='Train ROC curve (area = %0.2f)' % train_roc_auc)\n",
    "plt.plot(fpr_test, tpr_test, label='Test ROC curve (area = %0.2f)' % test_roc_auc)\n",
    "plt.plot([0, 1], [0, 1], 'k--')  # Diagonal reference line\n",
    "plt.xlim([0.0, 1.0])\n",
    "plt.ylim([0.0, 1.05])\n",
    "plt.xlabel('False Positive Rate')\n",
    "plt.ylabel('True Positive Rate')\n",
    "plt.title('Receiver Operating Characteristic (ROC) Curve')\n",
    "plt.legend(loc='lower right')\n",
    "plt.show()"
   ]
  },
  {
   "cell_type": "markdown",
   "id": "1044e087",
   "metadata": {},
   "source": [
    "Comparing the base DecisionTree model with the hypertuned DecisionTree model, we can observe the following differences in their performance:\n",
    "\n",
    "**Accuracy:** The base decision tree model achieves a high training accuracy of 99.83% but experiences a significant drop in performance on the test data with an accuracy of 72.28%. On the other hand, the hypertuned decision tree model achieves a lower training accuracy of 85.87% but performs better on the test data with an accuracy of 75.83%. This indicates that the hypertuned model generalizes better to unseen data compared to the base model.\n",
    "\n",
    "**Precision and Recall:** Looking at the classification reports, the base decision tree model shows perfect precision, recall, and F1-score for both classes in the training data. However, in the test data, the model performs relatively worse, especially for class 1, with lower precision (48%), recall (51%), and F1-score (49%). The hypertuned model maintains relatively consistent precision, recall, and F1-scores for both classes in both training and test data, though it still shows lower performance for class 1 compared to class 0.\n",
    "\n",
    "**Confusion Matrix:** Comparing the confusion matrices, the base model correctly predicts the majority of class 0 instances in both training and test data but struggles with class 1 predictions. The hypertuned model improves the predictions for class 1, reducing false negatives and increasing true positives compared to the base model.\n",
    "\n",
    "**ROC AUC Score:** The base decision tree model achieves an excellent ROC AUC score of 0.9999 for the training data, indicating almost perfect discrimination between the two classes. However, the test data's ROC AUC score drops to 0.6537, suggesting that the model's ability to distinguish between the classes is not as strong. The hypertuned model achieves a lower ROC AUC score of 0.9433 for the training data but improves to 0.7928 for the test data, indicating better overall performance in discriminating between the classes.\n",
    "\n",
    "Overall, the hypertuned decision tree model shows better generalization performance on the test data compared to the base model. It achieves a more balanced trade-off between precision and recall for both classes and demonstrates improved discrimination ability. However, there is still room for further improvement, as indicated by the relatively lower performance for class 1 compared to class 0 in the hypertuned model. Exploring other algorithms might be worth considering to enhance the overall performance."
   ]
  },
  {
   "cell_type": "markdown",
   "id": "dd2f0faa",
   "metadata": {},
   "source": [
    "###  Random Forest"
   ]
  },
  {
   "cell_type": "markdown",
   "id": "22f03cd0",
   "metadata": {},
   "source": [
    "### C. Train a model using Random forest and check the performance of the model on train and test data."
   ]
  },
  {
   "cell_type": "code",
   "execution_count": 71,
   "id": "5acf6ae8",
   "metadata": {
    "scrolled": false
   },
   "outputs": [
    {
     "name": "stdout",
     "output_type": "stream",
     "text": [
      "Train Accuracy: 0.9983050847457627\n",
      "Test Accuracy: 0.7818052594171997\n",
      "\n",
      "Train Classification Report:\n",
      "              precision    recall  f1-score   support\n",
      "\n",
      "           0       1.00      1.00      1.00      4130\n",
      "           1       1.00      1.00      1.00      4130\n",
      "\n",
      "    accuracy                           1.00      8260\n",
      "   macro avg       1.00      1.00      1.00      8260\n",
      "weighted avg       1.00      1.00      1.00      8260\n",
      "\n",
      "\n",
      "Test Classification Report:\n",
      "              precision    recall  f1-score   support\n",
      "\n",
      "           0       0.84      0.87      0.85      1033\n",
      "           1       0.60      0.53      0.56       374\n",
      "\n",
      "    accuracy                           0.78      1407\n",
      "   macro avg       0.72      0.70      0.71      1407\n",
      "weighted avg       0.77      0.78      0.78      1407\n",
      "\n",
      "Train Confusion Matrix:\n",
      "[[4118   12]\n",
      " [   2 4128]]\n",
      "\n",
      "Test Confusion Matrix:\n",
      "[[903 130]\n",
      " [177 197]]\n",
      "\n",
      "Train ROC AUC Score: 0.9983050847457627\n",
      "Test ROC AUC Score: 0.7004454602398911\n"
     ]
    }
   ],
   "source": [
    "# Create the Random Forest model\n",
    "forest_model = RandomForestClassifier(random_state=100)\n",
    "\n",
    "# Train the Random Forest model\n",
    "forest_model.fit(X_train_balanced, y_train_balanced)\n",
    "\n",
    "# Predict on the training and test data\n",
    "y_train_pred = forest_model.predict(X_train_balanced)\n",
    "y_test_pred = forest_model.predict(X_test)\n",
    "\n",
    "# Calculate accuracy\n",
    "train_accuracy = accuracy_score(y_train_balanced, y_train_pred)\n",
    "test_accuracy = accuracy_score(y_test, y_test_pred)\n",
    "\n",
    "# Calculate ROC AUC score\n",
    "train_roc_auc = roc_auc_score(y_train_balanced, y_train_pred)\n",
    "test_roc_auc = roc_auc_score(y_test, y_test_pred)\n",
    "\n",
    "# Generate confusion matrix\n",
    "train_cm = confusion_matrix(y_train_balanced, y_train_pred)\n",
    "test_cm = confusion_matrix(y_test, y_test_pred)\n",
    "\n",
    "# Print results\n",
    "print(\"Train Accuracy:\", train_accuracy)\n",
    "print(\"Test Accuracy:\", test_accuracy)\n",
    "\n",
    "print(\"\\nTrain Classification Report:\")\n",
    "print(classification_report(y_train_balanced, y_train_pred))\n",
    "\n",
    "print(\"\\nTest Classification Report:\")\n",
    "print(classification_report(y_test, y_test_pred))\n",
    "\n",
    "print(\"Train Confusion Matrix:\")\n",
    "print(train_cm)\n",
    "\n",
    "print(\"\\nTest Confusion Matrix:\")\n",
    "print(test_cm)\n",
    "\n",
    "print(\"\\nTrain ROC AUC Score:\", train_roc_auc)\n",
    "print(\"Test ROC AUC Score:\", test_roc_auc)"
   ]
  },
  {
   "cell_type": "code",
   "execution_count": 72,
   "id": "37d9f05a",
   "metadata": {},
   "outputs": [
    {
     "data": {
      "image/png": "[encoded data removed]",
      "text/plain": [
       "<Figure size 720x432 with 1 Axes>"
      ]
     },
     "metadata": {
      "needs_background": "light"
     },
     "output_type": "display_data"
    }
   ],
   "source": [
    "# Predict probabilities for both training and test data\n",
    "y_train_prob = forest_model.predict_proba(X_train_balanced)[:, 1]\n",
    "y_test_prob = forest_model.predict_proba(X_test)[:, 1]\n",
    "\n",
    "# Calculate ROC curve values\n",
    "fpr_train, tpr_train, thresholds_train = roc_curve(y_train_balanced, y_train_prob)\n",
    "fpr_test, tpr_test, thresholds_test = roc_curve(y_test, y_test_prob)\n",
    "\n",
    "# Plot the ROC curve\n",
    "plt.figure(figsize=(10, 6))\n",
    "plt.plot(fpr_train, tpr_train, label='Train ROC curve (area = %0.2f)' % train_roc_auc)\n",
    "plt.plot(fpr_test, tpr_test, label='Test ROC curve (area = %0.2f)' % test_roc_auc)\n",
    "plt.plot([0, 1], [0, 1], 'k--')  # Diagonal reference line\n",
    "plt.xlim([0.0, 1.0])\n",
    "plt.ylim([0.0, 1.05])\n",
    "plt.xlabel('False Positive Rate')\n",
    "plt.ylabel('True Positive Rate')\n",
    "plt.title('Receiver Operating Characteristic (ROC) Curve')\n",
    "plt.legend(loc='lower right')\n",
    "plt.show()"
   ]
  },
  {
   "cell_type": "markdown",
   "id": "58376670",
   "metadata": {},
   "source": [
    "### D. Use grid search and improve the performance of the Randomtreemodel, check the  performance of the model on train and  test data, provide the differences observed in performance in 3.C and 3.D."
   ]
  },
  {
   "cell_type": "code",
   "execution_count": 73,
   "id": "d196e895",
   "metadata": {},
   "outputs": [
    {
     "name": "stdout",
     "output_type": "stream",
     "text": [
      "Best Parameters: {'max_depth': None, 'min_samples_leaf': 1, 'min_samples_split': 5, 'n_estimators': 100}\n",
      "\n",
      "Train Accuracy: 0.9711864406779661\n",
      "Test Accuracy: 0.7796730632551528\n",
      "\n",
      "Train Classification Report:\n",
      "              precision    recall  f1-score   support\n",
      "\n",
      "           0       0.96      0.98      0.97      4130\n",
      "           1       0.98      0.96      0.97      4130\n",
      "\n",
      "    accuracy                           0.97      8260\n",
      "   macro avg       0.97      0.97      0.97      8260\n",
      "weighted avg       0.97      0.97      0.97      8260\n",
      "\n",
      "\n",
      "Test Classification Report:\n",
      "              precision    recall  f1-score   support\n",
      "\n",
      "           0       0.84      0.87      0.85      1033\n",
      "           1       0.60      0.52      0.56       374\n",
      "\n",
      "    accuracy                           0.78      1407\n",
      "   macro avg       0.72      0.70      0.71      1407\n",
      "weighted avg       0.77      0.78      0.77      1407\n",
      "\n",
      "Train Confusion Matrix:\n",
      "[[4039   91]\n",
      " [ 147 3983]]\n",
      "\n",
      "Test Confusion Matrix:\n",
      "[[901 132]\n",
      " [178 196]]\n",
      "\n",
      "Train ROC AUC Score: 0.9711864406779661\n",
      "Test ROC AUC Score: 0.6981405076331333\n"
     ]
    }
   ],
   "source": [
    "# Define the parameter grid\n",
    "param_grid = {\n",
    "    'n_estimators': [100, 200, 300],\n",
    "    'max_depth': [None, 5, 10],\n",
    "    'min_samples_split': [2, 5, 10],\n",
    "    'min_samples_leaf': [1, 2, 4]\n",
    "}\n",
    "\n",
    "# Create the Random Forest model\n",
    "forest_model = RandomForestClassifier(random_state=100)\n",
    "\n",
    "# Create the GridSearchCV object\n",
    "grid_search = GridSearchCV(forest_model, param_grid, cv=5)\n",
    "\n",
    "# Fit the GridSearchCV object to the training data\n",
    "grid_search.fit(X_train_balanced, y_train_balanced)\n",
    "\n",
    "# Get the best parameters and best estimator\n",
    "best_params = grid_search.best_params_\n",
    "best_estimator = grid_search.best_estimator_\n",
    "\n",
    "# Predict on the training and test data using the best estimator\n",
    "y_train_pred = best_estimator.predict(X_train_balanced)\n",
    "y_test_pred = best_estimator.predict(X_test)\n",
    "\n",
    "# Calculate accuracy\n",
    "train_accuracy = accuracy_score(y_train_balanced, y_train_pred)\n",
    "test_accuracy = accuracy_score(y_test, y_test_pred)\n",
    "\n",
    "# Generate confusion matrix\n",
    "train_cm = confusion_matrix(y_train_balanced, y_train_pred)\n",
    "test_cm = confusion_matrix(y_test, y_test_pred)\n",
    "\n",
    "# Calculate ROC AUC score\n",
    "train_roc_auc = roc_auc_score(y_train_balanced, y_train_pred)\n",
    "test_roc_auc = roc_auc_score(y_test, y_test_pred)\n",
    "\n",
    "# Print results\n",
    "print(\"Best Parameters:\", best_params)\n",
    "print(\"\\nTrain Accuracy:\", train_accuracy)\n",
    "print(\"Test Accuracy:\", test_accuracy)\n",
    "\n",
    "print(\"\\nTrain Classification Report:\")\n",
    "print(classification_report(y_train_balanced, y_train_pred))\n",
    "\n",
    "print(\"\\nTest Classification Report:\")\n",
    "print(classification_report(y_test, y_test_pred))\n",
    "\n",
    "print(\"Train Confusion Matrix:\")\n",
    "print(train_cm)\n",
    "\n",
    "print(\"\\nTest Confusion Matrix:\")\n",
    "print(test_cm)\n",
    "\n",
    "print(\"\\nTrain ROC AUC Score:\", train_roc_auc)\n",
    "print(\"Test ROC AUC Score:\", test_roc_auc)"
   ]
  },
  {
   "cell_type": "code",
   "execution_count": 74,
   "id": "8817b343",
   "metadata": {},
   "outputs": [
    {
     "data": {
      "image/png": "[encoded data removed]",
      "text/plain": [
       "<Figure size 720x432 with 1 Axes>"
      ]
     },
     "metadata": {
      "needs_background": "light"
     },
     "output_type": "display_data"
    }
   ],
   "source": [
    "# Predict probabilities using the best estimator\n",
    "y_train_prob = best_estimator.predict_proba(X_train_balanced)[:, 1]\n",
    "y_test_prob = best_estimator.predict_proba(X_test)[:, 1]\n",
    "\n",
    "# Calculate ROC curve values\n",
    "fpr_train, tpr_train, thresholds_train = roc_curve(y_train_balanced, y_train_prob)\n",
    "fpr_test, tpr_test, thresholds_test = roc_curve(y_test, y_test_prob)\n",
    "\n",
    "# Plot the ROC curve\n",
    "plt.figure(figsize=(10, 6))\n",
    "plt.plot(fpr_train, tpr_train, label='Train ROC curve (area = %0.2f)' % train_roc_auc)\n",
    "plt.plot(fpr_test, tpr_test, label='Test ROC curve (area = %0.2f)' % test_roc_auc)\n",
    "plt.plot([0, 1], [0, 1], 'k--')  # Diagonal reference line\n",
    "plt.xlim([0.0, 1.0])\n",
    "plt.ylim([0.0, 1.05])\n",
    "plt.xlabel('False Positive Rate')\n",
    "plt.ylabel('True Positive Rate')\n",
    "plt.title('Receiver Operating Characteristic (ROC) Curve')\n",
    "plt.legend(loc='lower right')\n",
    "plt.show()"
   ]
  },
  {
   "cell_type": "markdown",
   "id": "3113f997",
   "metadata": {},
   "source": [
    "Comparing the base RandomForest model with the hypertuned RandomForest model, we can observe the following differences in their performance:\n",
    "\n",
    "- **Accuracy:** The base random forest model achieves a high training accuracy of 99.83% and a test accuracy of 78.18%. The hypertuned random forest model achieves a slightly lower training accuracy of 97.12% and a similar test accuracy of 77.97%. The hypertuned model performs slightly worse on the training data but has a comparable performance on the test data.\n",
    "\n",
    "\n",
    "- **Precision and Recall:** The classification reports for both models show similar precision, recall, and F1-scores for both classes in both training and test data. Both models perform relatively better for class 0 compared to class 1, with higher precision, recall, and F1-scores for class 0.\n",
    "\n",
    "\n",
    "- **Confusion Matrix:** Comparing the confusion matrices, both models correctly predict the majority of class 0 instances in both training and test data. However, they struggle with class 1 predictions, with a relatively higher number of false negatives and lower number of true positives.\n",
    "\n",
    "\n",
    "- **ROC AUC Score:** The base random forest model achieves a high ROC AUC score of 0.9983 for the training data, indicating excellent discrimination between the classes. However, the score drops to 0.7004 for the test data, suggesting that the model's ability to distinguish between the classes is not as strong. The hypertuned random forest model achieves a slightly lower ROC AUC score of 0.9712 for the training data and 0.6981 for the test data, indicating similar discrimination ability to the base model.\n",
    "\n",
    "Overall, the hypertuned random forest model does not show a significant improvement over the base model in terms of accuracy, precision, recall, F1-scores, and ROC AUC scores. Both models have similar performance characteristics, with a relatively better performance for class 0 compared to class 1. Further exploring other algorithms may be necessary to achieve better performance on the minority class (class 1) and improve the overall model's ability to discriminate between the classes."
   ]
  },
  {
   "cell_type": "markdown",
   "id": "15afe42b",
   "metadata": {},
   "source": [
    "### AdaBoost"
   ]
  },
  {
   "cell_type": "markdown",
   "id": "ec9c2b07",
   "metadata": {},
   "source": [
    "### E. Train a model using Adaboost and check the performance of the model on train and test data."
   ]
  },
  {
   "cell_type": "code",
   "execution_count": 75,
   "id": "fa00f43b",
   "metadata": {},
   "outputs": [
    {
     "name": "stdout",
     "output_type": "stream",
     "text": [
      "Train Accuracy: 0.8468523002421308\n",
      "Test Accuracy: 0.7611940298507462\n",
      "\n",
      "Train Classification Report:\n",
      "              precision    recall  f1-score   support\n",
      "\n",
      "           0       0.86      0.82      0.84      4130\n",
      "           1       0.83      0.87      0.85      4130\n",
      "\n",
      "    accuracy                           0.85      8260\n",
      "   macro avg       0.85      0.85      0.85      8260\n",
      "weighted avg       0.85      0.85      0.85      8260\n",
      "\n",
      "\n",
      "Test Classification Report:\n",
      "              precision    recall  f1-score   support\n",
      "\n",
      "           0       0.87      0.80      0.83      1033\n",
      "           1       0.54      0.67      0.60       374\n",
      "\n",
      "    accuracy                           0.76      1407\n",
      "   macro avg       0.70      0.73      0.71      1407\n",
      "weighted avg       0.78      0.76      0.77      1407\n",
      "\n",
      "Train Confusion Matrix:\n",
      "[[3397  733]\n",
      " [ 532 3598]]\n",
      "\n",
      "Test Confusion Matrix:\n",
      "[[822 211]\n",
      " [125 249]]\n",
      "\n",
      "Train ROC AUC Score: 0.8468523002421308\n",
      "Test ROC AUC Score: 0.7307579812704805\n"
     ]
    }
   ],
   "source": [
    "# Create the AdaBoost model\n",
    "adaboost_model = AdaBoostClassifier(random_state=100)\n",
    "\n",
    "# Train the AdaBoost model\n",
    "adaboost_model.fit(X_train_balanced, y_train_balanced)\n",
    "\n",
    "# Predict on the training and test data\n",
    "y_train_pred = adaboost_model.predict(X_train_balanced)\n",
    "y_test_pred = adaboost_model.predict(X_test)\n",
    "\n",
    "# Calculate accuracy\n",
    "train_accuracy = accuracy_score(y_train_balanced, y_train_pred)\n",
    "test_accuracy = accuracy_score(y_test, y_test_pred)\n",
    "\n",
    "# Generate confusion matrix\n",
    "train_cm = confusion_matrix(y_train_balanced, y_train_pred)\n",
    "test_cm = confusion_matrix(y_test, y_test_pred)\n",
    "\n",
    "# Calculate ROC AUC score\n",
    "train_roc_auc = roc_auc_score(y_train_balanced, y_train_pred)\n",
    "test_roc_auc = roc_auc_score(y_test, y_test_pred)\n",
    "\n",
    "# Print results\n",
    "print(\"Train Accuracy:\", train_accuracy)\n",
    "print(\"Test Accuracy:\", test_accuracy)\n",
    "\n",
    "print(\"\\nTrain Classification Report:\")\n",
    "print(classification_report(y_train_balanced, y_train_pred))\n",
    "\n",
    "print(\"\\nTest Classification Report:\")\n",
    "print(classification_report(y_test, y_test_pred))\n",
    "\n",
    "print(\"Train Confusion Matrix:\")\n",
    "print(train_cm)\n",
    "\n",
    "print(\"\\nTest Confusion Matrix:\")\n",
    "print(test_cm)\n",
    "\n",
    "print(\"\\nTrain ROC AUC Score:\", train_roc_auc)\n",
    "print(\"Test ROC AUC Score:\", test_roc_auc)"
   ]
  },
  {
   "cell_type": "code",
   "execution_count": 76,
   "id": "8b132919",
   "metadata": {},
   "outputs": [
    {
     "data": {
      "image/png": "[encoded data removed]",
      "text/plain": [
       "<Figure size 720x432 with 1 Axes>"
      ]
     },
     "metadata": {
      "needs_background": "light"
     },
     "output_type": "display_data"
    }
   ],
   "source": [
    "# Predict probabilities using the model\n",
    "y_train_prob = adaboost_model.predict_proba(X_train_balanced)[:, 1]\n",
    "y_test_prob = adaboost_model.predict_proba(X_test)[:, 1]\n",
    "\n",
    "# Calculate ROC curve values\n",
    "fpr_train, tpr_train, thresholds_train = roc_curve(y_train_balanced, y_train_prob)\n",
    "fpr_test, tpr_test, thresholds_test = roc_curve(y_test, y_test_prob)\n",
    "\n",
    "# Plot the ROC curve\n",
    "plt.figure(figsize=(10, 6))\n",
    "plt.plot(fpr_train, tpr_train, label='Train ROC curve (area = %0.2f)' % train_roc_auc)\n",
    "plt.plot(fpr_test, tpr_test, label='Test ROC curve (area = %0.2f)' % test_roc_auc)\n",
    "plt.plot([0, 1], [0, 1], 'k--')  # Diagonal reference line\n",
    "plt.xlim([0.0, 1.0])\n",
    "plt.ylim([0.0, 1.05])\n",
    "plt.xlabel('False Positive Rate')\n",
    "plt.ylabel('True Positive Rate')\n",
    "plt.title('Receiver Operating Characteristic (ROC) Curve')\n",
    "plt.legend(loc='lower right')\n",
    "plt.show()"
   ]
  },
  {
   "cell_type": "markdown",
   "id": "080398bd",
   "metadata": {},
   "source": [
    "#### F. Use grid search and improve the performance of the Adaboost model , check the performance of the model on train and test data , provide the differences observed in performance in 3.E and 3.F."
   ]
  },
  {
   "cell_type": "code",
   "execution_count": 77,
   "id": "81631ded",
   "metadata": {
    "scrolled": false
   },
   "outputs": [
    {
     "name": "stdout",
     "output_type": "stream",
     "text": [
      "Best Parameters: {'learning_rate': 0.5, 'n_estimators': 200}\n",
      "\n",
      "Train Accuracy: 0.8526634382566586\n",
      "Test Accuracy: 0.7853589196872779\n",
      "\n",
      "Train Classification Report:\n",
      "              precision    recall  f1-score   support\n",
      "\n",
      "           0       0.87      0.83      0.85      4130\n",
      "           1       0.84      0.87      0.86      4130\n",
      "\n",
      "    accuracy                           0.85      8260\n",
      "   macro avg       0.85      0.85      0.85      8260\n",
      "weighted avg       0.85      0.85      0.85      8260\n",
      "\n",
      "\n",
      "Test Classification Report:\n",
      "              precision    recall  f1-score   support\n",
      "\n",
      "           0       0.88      0.82      0.85      1033\n",
      "           1       0.58      0.68      0.63       374\n",
      "\n",
      "    accuracy                           0.79      1407\n",
      "   macro avg       0.73      0.75      0.74      1407\n",
      "weighted avg       0.80      0.79      0.79      1407\n",
      "\n",
      "Train Confusion Matrix:\n",
      "[[3440  690]\n",
      " [ 527 3603]]\n",
      "\n",
      "Test Confusion Matrix:\n",
      "[[852 181]\n",
      " [121 253]]\n",
      "\n",
      "Train ROC AUC Score: 0.8526634382566586\n",
      "Test ROC AUC Score: 0.7506263880189057\n"
     ]
    }
   ],
   "source": [
    "# Define the parameter grid\n",
    "param_grid = {\n",
    "    'n_estimators': [50, 100, 200],\n",
    "    'learning_rate': [0.1, 0.5, 1.0]\n",
    "}\n",
    "\n",
    "# Create the AdaBoost model\n",
    "adaboost_model = AdaBoostClassifier(random_state=100)\n",
    "\n",
    "# Create the GridSearchCV object\n",
    "grid_search = GridSearchCV(adaboost_model, param_grid, cv=5)\n",
    "\n",
    "# Fit the GridSearchCV object to the training data\n",
    "grid_search.fit(X_train_balanced, y_train_balanced)\n",
    "\n",
    "# Get the best parameters and best estimator\n",
    "best_params = grid_search.best_params_\n",
    "best_estimator = grid_search.best_estimator_\n",
    "\n",
    "# Predict on the training and test data using the best estimator\n",
    "y_train_pred = best_estimator.predict(X_train_balanced)\n",
    "y_test_pred = best_estimator.predict(X_test)\n",
    "\n",
    "# Calculate accuracy\n",
    "train_accuracy = accuracy_score(y_train_balanced, y_train_pred)\n",
    "test_accuracy = accuracy_score(y_test, y_test_pred)\n",
    "\n",
    "# Generate confusion matrix\n",
    "train_cm = confusion_matrix(y_train_balanced, y_train_pred)\n",
    "test_cm = confusion_matrix(y_test, y_test_pred)\n",
    "\n",
    "# Calculate ROC AUC score\n",
    "train_roc_auc = roc_auc_score(y_train_balanced, y_train_pred)\n",
    "test_roc_auc = roc_auc_score(y_test, y_test_pred)\n",
    "\n",
    "# Print results\n",
    "print(\"Best Parameters:\", best_params)\n",
    "print(\"\\nTrain Accuracy:\", train_accuracy)\n",
    "print(\"Test Accuracy:\", test_accuracy)\n",
    "\n",
    "print(\"\\nTrain Classification Report:\")\n",
    "print(classification_report(y_train_balanced, y_train_pred))\n",
    "\n",
    "print(\"\\nTest Classification Report:\")\n",
    "print(classification_report(y_test, y_test_pred))\n",
    "\n",
    "print(\"Train Confusion Matrix:\")\n",
    "print(train_cm)\n",
    "\n",
    "print(\"\\nTest Confusion Matrix:\")\n",
    "print(test_cm)\n",
    "\n",
    "print(\"\\nTrain ROC AUC Score:\", train_roc_auc)\n",
    "print(\"Test ROC AUC Score:\", test_roc_auc)"
   ]
  },
  {
   "cell_type": "code",
   "execution_count": 78,
   "id": "0ce41574",
   "metadata": {},
   "outputs": [
    {
     "data": {
      "image/png": "[encoded data removed]",
      "text/plain": [
       "<Figure size 720x432 with 1 Axes>"
      ]
     },
     "metadata": {
      "needs_background": "light"
     },
     "output_type": "display_data"
    }
   ],
   "source": [
    "# Predict probabilities using the best estimator\n",
    "y_train_prob = best_estimator.predict_proba(X_train_balanced)[:, 1]\n",
    "y_test_prob = best_estimator.predict_proba(X_test)[:, 1]\n",
    "\n",
    "# Calculate ROC curve values\n",
    "fpr_train, tpr_train, thresholds_train = roc_curve(y_train_balanced, y_train_prob)\n",
    "fpr_test, tpr_test, thresholds_test = roc_curve(y_test, y_test_prob)\n",
    "\n",
    "# Plot the ROC curve\n",
    "plt.figure(figsize=(10, 6))\n",
    "plt.plot(fpr_train, tpr_train, label='Train ROC curve (area = %0.2f)' % train_roc_auc)\n",
    "plt.plot(fpr_test, tpr_test, label='Test ROC curve (area = %0.2f)' % test_roc_auc)\n",
    "plt.plot([0, 1], [0, 1], 'k--')  # Diagonal reference line\n",
    "plt.xlim([0.0, 1.0])\n",
    "plt.ylim([0.0, 1.05])\n",
    "plt.xlabel('False Positive Rate')\n",
    "plt.ylabel('True Positive Rate')\n",
    "plt.title('Receiver Operating Characteristic (ROC) Curve')\n",
    "plt.legend(loc='lower right')\n",
    "plt.show()"
   ]
  },
  {
   "cell_type": "markdown",
   "id": "3c0b093c",
   "metadata": {},
   "source": [
    "Comparing the base RandomForest model with the hypertuned AdaBoost model, we can observe the following differences in their performance:\n",
    "\n",
    "- **Accuracy:** The base AdaBoost model achieves a training accuracy of 84.69% and a test accuracy of 76.12%. The hypertuned AdaBoost model achieves slightly higher accuracy with a training accuracy of 85.27% and a test accuracy of 78.54%. The hypertuned model shows a slight improvement in accuracy over the base model.\n",
    "\n",
    "\n",
    "- **Precision and Recall:** Looking at the classification reports, both models have similar precision, recall, and F1-scores for both classes in both training and test data. Both models perform relatively better for class 0 compared to class 1, with higher precision, recall, and F1-scores for class 0.\n",
    "\n",
    "\n",
    "- **Confusion Matrix:** Comparing the confusion matrices, both models correctly predict the majority of class 0 instances in both training and test data. However, they struggle with class 1 predictions, with a relatively higher number of false negatives and lower number of true positives.\n",
    "\n",
    "\n",
    "- **ROC AUC Score:** The base AdaBoost model achieves a ROC AUC score of 0.8469 for the training data and 0.7308 for the test data. The hypertuned AdaBoost model improves slightly with a ROC AUC score of 0.8527 for the training data and 0.7506 for the test data. Both models show a reasonable ability to discriminate between the classes, but the hypertuned model performs slightly better.\n",
    "\n",
    "\n",
    "Overall, the hypertuned AdaBoost model shows a slight improvement in accuracy and discriminative ability compared to the base model. However, both models still struggle with predicting class 1 correctly, resulting in lower precision, recall, and F1-scores for class 1. Further, Exploring other algorithms may be necessary to improve the model's performance, especially for the minority class (class 1)."
   ]
  },
  {
   "cell_type": "markdown",
   "id": "cf77f2b3",
   "metadata": {},
   "source": [
    "### GradientBoost"
   ]
  },
  {
   "cell_type": "markdown",
   "id": "61dfa96e",
   "metadata": {},
   "source": [
    "####  G.Train a model using GradientBoost and check the performance of the model on train and test data."
   ]
  },
  {
   "cell_type": "code",
   "execution_count": 79,
   "id": "a8bba534",
   "metadata": {},
   "outputs": [
    {
     "name": "stdout",
     "output_type": "stream",
     "text": [
      "Train Accuracy: 0.8668280871670703\n",
      "Test Accuracy: 0.7846481876332623\n",
      "\n",
      "Train Classification Report:\n",
      "              precision    recall  f1-score   support\n",
      "\n",
      "           0       0.87      0.86      0.87      4130\n",
      "           1       0.86      0.88      0.87      4130\n",
      "\n",
      "    accuracy                           0.87      8260\n",
      "   macro avg       0.87      0.87      0.87      8260\n",
      "weighted avg       0.87      0.87      0.87      8260\n",
      "\n",
      "\n",
      "Test Classification Report:\n",
      "              precision    recall  f1-score   support\n",
      "\n",
      "           0       0.86      0.84      0.85      1033\n",
      "           1       0.59      0.64      0.61       374\n",
      "\n",
      "    accuracy                           0.78      1407\n",
      "   macro avg       0.73      0.74      0.73      1407\n",
      "weighted avg       0.79      0.78      0.79      1407\n",
      "\n",
      "Train Confusion Matrix:\n",
      "[[3540  590]\n",
      " [ 510 3620]]\n",
      "\n",
      "Test Confusion Matrix:\n",
      "[[866 167]\n",
      " [136 238]]\n",
      "\n",
      "Train ROC AUC Score: 0.8668280871670704\n",
      "Test ROC AUC Score: 0.7373492915603272\n"
     ]
    }
   ],
   "source": [
    "# Create the Gradient Boosting model\n",
    "gradientboost_model = GradientBoostingClassifier(random_state=100)\n",
    "\n",
    "# Train the Gradient Boosting model\n",
    "gradientboost_model.fit(X_train_balanced, y_train_balanced)\n",
    "\n",
    "# Predict on the training and test data\n",
    "y_train_pred = gradientboost_model.predict(X_train_balanced)\n",
    "y_test_pred = gradientboost_model.predict(X_test)\n",
    "\n",
    "# Calculate accuracy\n",
    "train_accuracy = accuracy_score(y_train_balanced, y_train_pred)\n",
    "test_accuracy = accuracy_score(y_test, y_test_pred)\n",
    "\n",
    "# Generate confusion matrix\n",
    "train_cm = confusion_matrix(y_train_balanced, y_train_pred)\n",
    "test_cm = confusion_matrix(y_test, y_test_pred)\n",
    "\n",
    "# Calculate ROC AUC score\n",
    "train_roc_auc = roc_auc_score(y_train_balanced, y_train_pred)\n",
    "test_roc_auc = roc_auc_score(y_test, y_test_pred)\n",
    "\n",
    "# Print results\n",
    "print(\"Train Accuracy:\", train_accuracy)\n",
    "print(\"Test Accuracy:\", test_accuracy)\n",
    "\n",
    "print(\"\\nTrain Classification Report:\")\n",
    "print(classification_report(y_train_balanced, y_train_pred))\n",
    "\n",
    "print(\"\\nTest Classification Report:\")\n",
    "print(classification_report(y_test, y_test_pred))\n",
    "\n",
    "print(\"Train Confusion Matrix:\")\n",
    "print(train_cm)\n",
    "\n",
    "print(\"\\nTest Confusion Matrix:\")\n",
    "print(test_cm)\n",
    "\n",
    "print(\"\\nTrain ROC AUC Score:\", train_roc_auc)\n",
    "print(\"Test ROC AUC Score:\", test_roc_auc)"
   ]
  },
  {
   "cell_type": "code",
   "execution_count": 80,
   "id": "305c788b",
   "metadata": {},
   "outputs": [
    {
     "data": {
      "image/png": "[encoded data removed]",
      "text/plain": [
       "<Figure size 720x432 with 1 Axes>"
      ]
     },
     "metadata": {
      "needs_background": "light"
     },
     "output_type": "display_data"
    }
   ],
   "source": [
    "# Predict probabilities using the model\n",
    "y_train_prob = gradientboost_model.predict_proba(X_train_balanced)[:, 1]\n",
    "y_test_prob = gradientboost_model.predict_proba(X_test)[:, 1]\n",
    "\n",
    "# Calculate ROC curve values\n",
    "fpr_train, tpr_train, thresholds_train = roc_curve(y_train_balanced, y_train_prob)\n",
    "fpr_test, tpr_test, thresholds_test = roc_curve(y_test, y_test_prob)\n",
    "\n",
    "# Plot the ROC curve\n",
    "plt.figure(figsize=(10, 6))\n",
    "plt.plot(fpr_train, tpr_train, label='Train ROC curve (area = %0.2f)' % train_roc_auc)\n",
    "plt.plot(fpr_test, tpr_test, label='Test ROC curve (area = %0.2f)' % test_roc_auc)\n",
    "plt.plot([0, 1], [0, 1], 'k--')  # Diagonal reference line\n",
    "plt.xlim([0.0, 1.0])\n",
    "plt.ylim([0.0, 1.05])\n",
    "plt.xlabel('False Positive Rate')\n",
    "plt.ylabel('True Positive Rate')\n",
    "plt.title('Receiver Operating Characteristic (ROC) Curve')\n",
    "plt.legend(loc='lower right')\n",
    "plt.show()"
   ]
  },
  {
   "cell_type": "markdown",
   "id": "978018d8",
   "metadata": {},
   "source": [
    "### H. Use grid search and improve the performance of the GradientBoost model , check the performance of the model on train and test data , provide the differences observed in performance in 3.G and 3.H."
   ]
  },
  {
   "cell_type": "code",
   "execution_count": 81,
   "id": "f9036b3e",
   "metadata": {},
   "outputs": [
    {
     "name": "stdout",
     "output_type": "stream",
     "text": [
      "Best Parameters: {'learning_rate': 0.1, 'max_depth': 7, 'n_estimators': 200}\n",
      "\n",
      "Train Accuracy: 0.9840193704600484\n",
      "Test Accuracy: 0.7825159914712153\n",
      "\n",
      "Train Classification Report:\n",
      "              precision    recall  f1-score   support\n",
      "\n",
      "           0       0.98      0.98      0.98      4130\n",
      "           1       0.98      0.98      0.98      4130\n",
      "\n",
      "    accuracy                           0.98      8260\n",
      "   macro avg       0.98      0.98      0.98      8260\n",
      "weighted avg       0.98      0.98      0.98      8260\n",
      "\n",
      "\n",
      "Test Classification Report:\n",
      "              precision    recall  f1-score   support\n",
      "\n",
      "           0       0.84      0.87      0.85      1033\n",
      "           1       0.60      0.53      0.57       374\n",
      "\n",
      "    accuracy                           0.78      1407\n",
      "   macro avg       0.72      0.70      0.71      1407\n",
      "weighted avg       0.78      0.78      0.78      1407\n",
      "\n",
      "Train Confusion Matrix:\n",
      "[[4062   68]\n",
      " [  64 4066]]\n",
      "\n",
      "Test Confusion Matrix:\n",
      "[[901 132]\n",
      " [174 200]]\n",
      "\n",
      "Train ROC AUC Score: 0.9840193704600484\n",
      "Test ROC AUC Score: 0.703488101216021\n"
     ]
    }
   ],
   "source": [
    "# Define the parameter grid\n",
    "param_grid = {\n",
    "    'n_estimators': [100, 200, 300],\n",
    "    'learning_rate': [0.1, 0.5, 1.0],\n",
    "    'max_depth': [3, 5, 7]\n",
    "}\n",
    "\n",
    "# Create the Gradient Boosting model\n",
    "gradientboost_model = GradientBoostingClassifier(random_state=100)\n",
    "\n",
    "# Create the GridSearchCV object\n",
    "grid_search = GridSearchCV(gradientboost_model, param_grid, cv=5)\n",
    "\n",
    "# Fit the GridSearchCV object to the training data\n",
    "grid_search.fit(X_train_balanced, y_train_balanced)\n",
    "\n",
    "# Get the best parameters and best estimator\n",
    "best_params = grid_search.best_params_\n",
    "best_estimator = grid_search.best_estimator_\n",
    "\n",
    "# Predict on the training and test data using the best estimator\n",
    "y_train_pred = best_estimator.predict(X_train_balanced)\n",
    "y_test_pred = best_estimator.predict(X_test)\n",
    "\n",
    "# Calculate accuracy\n",
    "train_accuracy = accuracy_score(y_train_balanced, y_train_pred)\n",
    "test_accuracy = accuracy_score(y_test, y_test_pred)\n",
    "\n",
    "# Generate confusion matrix\n",
    "train_cm = confusion_matrix(y_train_balanced, y_train_pred)\n",
    "test_cm = confusion_matrix(y_test, y_test_pred)\n",
    "\n",
    "# Calculate ROC AUC score\n",
    "train_roc_auc = roc_auc_score(y_train_balanced, y_train_pred)\n",
    "test_roc_auc = roc_auc_score(y_test, y_test_pred)\n",
    "\n",
    "# Print results\n",
    "print(\"Best Parameters:\", best_params)\n",
    "print(\"\\nTrain Accuracy:\", train_accuracy)\n",
    "print(\"Test Accuracy:\", test_accuracy)\n",
    "\n",
    "print(\"\\nTrain Classification Report:\")\n",
    "print(classification_report(y_train_balanced, y_train_pred))\n",
    "\n",
    "print(\"\\nTest Classification Report:\")\n",
    "print(classification_report(y_test, y_test_pred))\n",
    "\n",
    "print(\"Train Confusion Matrix:\")\n",
    "print(train_cm)\n",
    "\n",
    "print(\"\\nTest Confusion Matrix:\")\n",
    "print(test_cm)\n",
    "\n",
    "print(\"\\nTrain ROC AUC Score:\", train_roc_auc)\n",
    "print(\"Test ROC AUC Score:\", test_roc_auc)"
   ]
  },
  {
   "cell_type": "code",
   "execution_count": 83,
   "id": "13f8550d",
   "metadata": {},
   "outputs": [
    {
     "data": {
      "image/png": "[encoded data removed]",
      "text/plain": [
       "<Figure size 720x432 with 1 Axes>"
      ]
     },
     "metadata": {
      "needs_background": "light"
     },
     "output_type": "display_data"
    }
   ],
   "source": [
    "# Predict probabilities using the best estimator\n",
    "y_train_prob = best_estimator.predict_proba(X_train_balanced)[:, 1]\n",
    "y_test_prob = best_estimator.predict_proba(X_test)[:, 1]\n",
    "\n",
    "# Calculate ROC curve values\n",
    "fpr_train, tpr_train, thresholds_train = roc_curve(y_train_balanced, y_train_prob)\n",
    "fpr_test, tpr_test, thresholds_test = roc_curve(y_test, y_test_prob)\n",
    "\n",
    "# Plot the ROC curve\n",
    "plt.figure(figsize=(10, 6))\n",
    "plt.plot(fpr_train, tpr_train, label='Train ROC curve (area = %0.2f)' % train_roc_auc)\n",
    "plt.plot(fpr_test, tpr_test, label='Test ROC curve (area = %0.2f)' % test_roc_auc)\n",
    "plt.plot([0, 1], [0, 1], 'k--')  # Diagonal reference line\n",
    "plt.xlim([0.0, 1.0])\n",
    "plt.ylim([0.0, 1.05])\n",
    "plt.xlabel('False Positive Rate')\n",
    "plt.ylabel('True Positive Rate')\n",
    "plt.title('Receiver Operating Characteristic (ROC) Curve')\n",
    "plt.legend(loc='lower right')\n",
    "plt.show()"
   ]
  },
  {
   "cell_type": "markdown",
   "id": "7bd25892",
   "metadata": {},
   "source": [
    "Comparing the base GradientBoost model with the hypertuned GradientBoost model, we can observe the following differences in their performance:\n",
    "\n",
    "- **Accuracy:** The base GradientBoost model achieves a training accuracy of 86.68% and a test accuracy of 78.46%. After hyperparameter tuning, the GradientBoost model achieves a higher training accuracy of 98.40% but a slightly lower test accuracy of 78.25%. The hypertuned model shows a significant improvement in training accuracy but a slight drop in test accuracy.\n",
    "\n",
    "\n",
    "- **Precision and Recall:** The classification reports show that both models have similar precision, recall, and F1-scores for both classes in both training and test data. Like other models, they perform relatively better for class 0 compared to class 1, with higher precision, recall, and F1-scores for class 0.\n",
    "\n",
    "\n",
    "- **Confusion Matrix:** Comparing the confusion matrices, both models correctly predict the majority of class 0 instances in both training and test data. However, they struggle with class 1 predictions, with a relatively higher number of false negatives and lower number of true positives.\n",
    "\n",
    "\n",
    "- **ROC AUC Score:** The base GradientBoost model achieves a ROC AUC score of 0.8668 for the training data and 0.7373 for the test data. After hyperparameter tuning, the GradientBoost model maintains a high ROC AUC score of 0.9840 for the training data but experiences a drop to 0.7035 for the test data. Both models demonstrate good discriminative ability on the training data, but the hypertuned model's performance drops slightly on the test data.\n",
    "\n",
    "\n",
    "Overall, the hypertuned GradientBoost model has a higher training accuracy and performs well on the training data. However, its performance on the test data is similar to the base model, with a slight decrease in accuracy and ROC AUC score. Both models have difficulty accurately predicting class 1. Overall, while the hypertuned model shows improvement on the training data, there is still room for exploring other algorithms to achieve better performance."
   ]
  },
  {
   "cell_type": "markdown",
   "id": "783b3366",
   "metadata": {},
   "source": [
    "### I. Provide detailed analysis of the below steps:"
   ]
  },
  {
   "cell_type": "markdown",
   "id": "dfcd6c46",
   "metadata": {},
   "source": [
    "### (1) Compare the performance of each model in train stage and test stage."
   ]
  },
  {
   "cell_type": "markdown",
   "id": "936e5af7",
   "metadata": {},
   "source": [
    "#### DECISION TREE"
   ]
  },
  {
   "cell_type": "markdown",
   "id": "86217506",
   "metadata": {},
   "source": [
    "We have two models in the DecisionTree: Base DecisionTree and a hypertuned DecisionTree. Let's compare their performances in the train and test stages.\n",
    "\n",
    "**In the train stage:**\n",
    "\n",
    "- **Base DecisionTree:**\n",
    "\n",
    "    - **Accuracy:** 0.9983\n",
    "    - **Classification Report:** The model achieves high precision, recall, and F1-score for both classes (0 and 1), indicating excellent performance.\n",
    "    - **Confusion Matrix:** The model has very few misclassifications, with only 14 instances incorrectly classified.\n",
    "    - **ROC AUC Score:** The model achieves a near-perfect score of 0.9999, indicating excellent discrimination between the classes.\n",
    "\n",
    "\n",
    "- **Hypertuned DecisionTree:**\n",
    "\n",
    "   - **Accuracy:** 0.8587\n",
    "   - **Classification Report:** The model achieves good precision, recall, and F1-score for both classes. Although slightly lower than the base model, the scores are still reasonable.\n",
    "   - **Confusion Matrix:** The model has a higher number of misclassifications compared to the base model, with 767 instances incorrectly classified.\n",
    "   - **ROC AUC Score:** The model achieves a score of 0.9433, indicating good discrimination between the classes.\n",
    "\n",
    "\n",
    "**In the test Stage:**\n",
    "\n",
    "- **Base DecisionTree:**\n",
    "\n",
    "   - **Accuracy:** 0.7228\n",
    "   - **Classification Report:** The model's precision, recall, and F1-score are lower than the train stage for both classes, indicating some degree of overfitting. The scores for class 1 are particularly low.\n",
    "   - **Confusion Matrix:** The model misclassifies a significant number of instances, with 390 instances incorrectly classified.\n",
    "   - **ROC AUC Score:** The model achieves a score of 0.6537, indicating only a fair discrimination between the classes.\n",
    "\n",
    "\n",
    "- **Hypertuned DecisionTree:**\n",
    "\n",
    "   - **Accuracy:** 0.7584\n",
    "   - **Classification Report:** The model's precision, recall, and F1-score are slightly lower than the train stage but higher than the base model. The scores for class 1 are improved compared to the base model.\n",
    "   - **Confusion Matrix:** The model misclassifies fewer instances compared to the base model, with 340 instances incorrectly classified.\n",
    "   - **ROC AUC Score:** The model achieves a score of 0.7928, indicating good discrimination between the classes.\n",
    "\n",
    "\n",
    "Overall, the hypertuned DecisionTree model performs better than the base model in both the train and test stages. While the base model shows signs of overfitting, the hypertuned model provides a more balanced performance. However, there is still room for improvement as the test stage scores are not as high as the train stage scores, suggesting some degree of overfitting or model bias."
   ]
  },
  {
   "cell_type": "markdown",
   "id": "6a142513",
   "metadata": {},
   "source": [
    "#### RANDOM FOREST"
   ]
  },
  {
   "cell_type": "markdown",
   "id": "f8c589ac",
   "metadata": {},
   "source": [
    "We have two models in the RandomForest: a base RandomForest and a hypertuned RandomForest. Let's compare their performances in the train and test stages.\n",
    "\n",
    "**In the train stage:**\n",
    "\n",
    "- **Base RandomForest:**\n",
    "\n",
    "   - **Accuracy:** 0.9983\n",
    "   - **Classification Report:** The model achieves high precision, recall, and F1-score for both classes (0 and 1), indicating excellent performance.\n",
    "   - **Confusion Matrix:** The model has very few misclassifications, with only 14 instances incorrectly classified.\n",
    "   - **ROC AUC Score:** The model achieves a score of 0.9983, indicating excellent discrimination between the classes.\n",
    "\n",
    "\n",
    "- **Hypertuned RandomForest:**\n",
    "\n",
    "   - **Accuracy:** 0.9712\n",
    "   - **Classification Report:** The model achieves high precision, recall, and F1-score for both classes. Although slightly lower than the base model, the scores are still excellent.\n",
    "   - **Confusion Matrix:** The model has a higher number of misclassifications compared to the base model, with 238 instances incorrectly classified.\n",
    "   - **ROC AUC Score:** The model achieves a score of 0.9712, indicating excellent discrimination between the classes.\n",
    "\n",
    "**In the test Stage:**\n",
    "\n",
    "- **Base RandomForest:**\n",
    "\n",
    "   - **Accuracy:** 0.7818\n",
    "   - **Classification Report:** The model's precision, recall, and F1-score are lower than the train stage for both classes, indicating some degree of overfitting. The scores for class 1 are particularly low.\n",
    "   - **Confusion Matrix:** The model misclassifies a significant number of instances, with 307 instances incorrectly classified.\n",
    "   - **ROC AUC Score:** The model achieves a score of 0.7004, indicating only a fair discrimination between the classes.\n",
    "\n",
    "\n",
    "- **Hypertuned RandomForest:**\n",
    "\n",
    "   - **Accuracy:** 0.7797\n",
    "   - **Classification Report:** The model's precision, recall, and F1-score are slightly lower than the train stage but higher than the base model. The scores for class 1 are improved compared to the base model.\n",
    "   - **Confusion Matrix:** The model misclassifies a slightly higher number of instances compared to the base model, with 310 instances incorrectly classified.\n",
    "   - **ROC AUC Score:** The model achieves a score of 0.6981, indicating only a fair discrimination between the classes.\n",
    "\n",
    "\n",
    "Overall, both the base and hypertuned RandomForest models perform well in the train stage. However, both models show signs of overfitting as their test stage performance is not as high as the train stage performance. The hypertuned model performs slightly better than the base model in terms of accuracy and class 1 scores, but the improvements are not significant."
   ]
  },
  {
   "cell_type": "markdown",
   "id": "99f2b329",
   "metadata": {},
   "source": [
    "#### ADABOOST"
   ]
  },
  {
   "cell_type": "markdown",
   "id": "566e7076",
   "metadata": {},
   "source": [
    "We have two models in the  AdaBoost: a base Adaboost and a hypertuned Adaboost. Let's compare their performances in the train and test stages.\n",
    "\n",
    "**In the train stage:**\n",
    "\n",
    "- **Base Adaboost:**\n",
    "\n",
    "   - **Accuracy:**0.8469\n",
    "   - **Classification Report:** The model achieves good precision, recall, and F1-score for both classes (0 and 1), indicating decent performance.\n",
    "   - **Confusion Matrix:** The model has a moderate number of misclassifications, with 1,265 instances incorrectly classified.\n",
    "   - **ROC AUC Score:** The model achieves a score of 0.8469, indicating good discrimination between the classes.\n",
    "\n",
    "\n",
    "- **Hypertuned AdaBoost:**\n",
    "\n",
    "   - **Accuracy:** 0.8527\n",
    "   - **Classification Report:** The model achieves good precision, recall, and F1-score for both classes. The scores are similar to the base model, indicating similar performance.\n",
    "   - **Confusion Matrix:** The model has a slightly lower number of misclassifications compared to the base model, with 811 instances incorrectly classified.\n",
    "   - **ROC AUC Score:** The model achieves a score of 0.8527, indicating good discrimination between the classes.\n",
    "\n",
    "\n",
    "**In the test Stage:**\n",
    "\n",
    "- **Base AdaBoost:**\n",
    "\n",
    "   - **Accuracy:** 0.7612\n",
    "   - Classification Report: The model's precision, recall, and F1-score are lower than the train stage for both classes, indicating some degree of overfitting. The scores for class 1 are particularly low.\n",
    "   - **Confusion Matrix:** The model misclassifies a significant number of instances, with 336 instances incorrectly classified.\n",
    "   - **ROC AUC Score:** The model achieves a score of 0.7308, indicating only a fair discrimination between the classes.\n",
    "\n",
    "\n",
    "- **Hypertuned AdaBoost:**\n",
    "\n",
    "   - **Accuracy:** 0.7854\n",
    "   - **Classification Report:** The model's precision, recall, and F1-score are slightly higher than the base model. The scores for class 1 are improved compared to the base model.\n",
    "   - **Confusion Matrix:** The model misclassifies a slightly lower number of instances compared to the base model, with 302 instances incorrectly classified.\n",
    "   - **ROC AUC Score:** The model achieves a score of 0.7506, indicating fair discrimination between the classes.\n",
    "\n",
    "\n",
    "Overall, both the base and hypertuned AdaBoost models perform similarly in the train stage. However, both models show signs of overfitting as their test stage performance is not as high as the train stage performance. The hypertuned model provides a slightly better performance in terms of accuracy and class 1 scores, but the improvements are not significant. Further tuning or different model selection may be needed to improve the performance on the test set and reduce overfitting."
   ]
  },
  {
   "cell_type": "markdown",
   "id": "b0d7a734",
   "metadata": {},
   "source": [
    "#### GRADIENT BOOST"
   ]
  },
  {
   "cell_type": "markdown",
   "id": "93fa2137",
   "metadata": {},
   "source": [
    "We have two models in the GradientBoost: a base GradientBoost and a hypertuned GradientBoost. Let's compare their performances in the train and test stages.\n",
    "\n",
    "**In the train stage:**\n",
    "\n",
    "- **Base GradientBoost:**\n",
    "\n",
    "   - **Accuracy:** 0.8668\n",
    "   - **Classification Report:** The model achieves good precision, recall, and F1-score for both classes (0 and 1), indicating decent performance.\n",
    "   - **Confusion Matrix:** The model has a moderate number of misclassifications, with 1,100 instances incorrectly classified.\n",
    "   - **ROC AUC Score:** The model achieves a score of 0.8668, indicating good discrimination between the classes.\n",
    "\n",
    "\n",
    "- **Hypertuned GradientBoost:**\n",
    "\n",
    "   - **Accuracy:** 0.9840\n",
    "   - **Classification Report:** The model achieves high precision, recall, and F1-score for both classes, indicating excellent performance.\n",
    "   - **Confusion Matrix:** The model has a very low number of misclassifications, with only 132 instances incorrectly classified.\n",
    "   - **ROC AUC Score:** The model achieves a score of 0.9840, indicating excellent discrimination between the classes.\n",
    "\n",
    "\n",
    "**In the test Stage:**\n",
    "\n",
    "- **Base GradientBoost:**\n",
    "\n",
    "   - **Accuracy:** 0.7846\n",
    "   - **Classification Report:** The model's precision, recall, and F1-score are lower than the train stage for both classes, indicating some degree of overfitting. The scores for class 1 are particularly low.\n",
    "   - **Confusion Matrix:** The model misclassifies a significant number of instances, with 303 instances incorrectly classified.\n",
    "   - **ROC AUC Score:** The model achieves a score of 0.7373, indicating fair discrimination between the classes.\n",
    "\n",
    "\n",
    "- **Hypertuned GradientBoost:**\n",
    "\n",
    "   - **Accuracy:** 0.7825\n",
    "   - **Classification Report:** The model's precision, recall, and F1-score are similar to the base model, indicating similar performance.\n",
    "   - **Confusion Matrix:** The model misclassifies a slightly higher number of instances compared to the base model, with 306 instances incorrectly classified.\n",
    "   - **ROC AUC Score:** The model achieves a score of 0.7035, indicating fair discrimination between the classes.\n",
    "\n",
    "\n",
    "Overall, the hypertuned GradientBoost model performs significantly better than the base model in both the train and test stages. The hypertuned model achieves higher accuracy, precision, recall, and F1-scores in the train stage, indicating better performance and reduced overfitting. However, in the test stage, both models exhibit signs of overfitting as their performance drops compared to the train stage. The hypertuned model shows a slight decrease in accuracy and a similar performance in terms of precision, recall, and F1-score compared to the base model."
   ]
  },
  {
   "cell_type": "markdown",
   "id": "af35acd6",
   "metadata": {},
   "source": [
    "### (2) Provide your observation on which model performed the best."
   ]
  },
  {
   "cell_type": "markdown",
   "id": "0090f65b",
   "metadata": {},
   "source": [
    "The hypertuned GradientBoost model appears to have performed the best among the other models in both the train and test stages.\n",
    "\n",
    "In the train stage, the hypertuned GradientBoost model achieved higher accuracy, precision, recall, and F1-scores compared to the base model. It also had a significantly lower number of misclassifications and a higher ROC AUC score, indicating better discrimination between the classes.\n",
    "\n",
    "In the test stage, although both the base and hypertuned GradientBoost models exhibited signs of overfitting, the hypertuned model still outperformed the base model in terms of accuracy, precision, recall, and F1-scores. It also had a slightly higher ROC AUC score, indicating better performance in distinguishing between the classes.\n",
    "\n",
    "Overall, the hypertuned GradientBoost model consistently demonstrated superior performance compared to the other models in both the train and test stages. However, it's important to note that the choice of the best model can also depend on the specific requirements and constraints of the problem at hand. Therefore, further analysis and evaluation may be necessary to make a conclusive determination of the best-performing "
   ]
  },
  {
   "cell_type": "markdown",
   "id": "dc952c4b",
   "metadata": {},
   "source": [
    "### (3) Provide your reasoning on why the model performed best."
   ]
  },
  {
   "cell_type": "markdown",
   "id": "e0a21adb",
   "metadata": {},
   "source": [
    "The hypertuned GradientBoost model performed best based on the provided information for several reasons:\n",
    "\n",
    "- **Higher Accuracy:** The hypertuned GradientBoost model achieved higher accuracy in both the train and test stages compared to the other models. This indicates that it made fewer overall mistakes in classifying the data points.\n",
    "\n",
    "\n",
    "- **Improved Precision and Recall:** The hypertuned GradientBoost model had higher precision and recall scores for both classes (0 and 1) compared to the other models. Precision measures the proportion of correctly predicted positive instances, while recall measures the proportion of actual positive instances correctly predicted by the model. Higher precision and recall indicate that the model was better at correctly identifying both positive and negative instances.\n",
    "\n",
    "\n",
    "- **Better F1-Scores:** The F1-score is the harmonic mean of precision and recall and provides a balanced measure of a model's performance. The hypertuned GradientBoost model had higher F1-scores for both classes, indicating a better balance between precision and recall compared to the other models.\n",
    "\n",
    "\n",
    "- **Lower Number of Misclassifications:** The hypertuned GradientBoost model had a significantly lower number of misclassifications in the train stage compared to the base model. This indicates that it was able to better capture the underlying patterns in the data and make more accurate predictions.\n",
    "\n",
    "\n",
    "- **Higher ROC AUC Score:** The hypertuned GradientBoost model achieved a higher ROC AUC score in both the train and test stages compared to the other models. The ROC AUC score measures the model's ability to discriminate between the positive and negative instances. A higher ROC AUC score indicates that the model had better discriminatory power.\n",
    "\n",
    "\n",
    "Based on these factors, it can be inferred that the hypertuned GradientBoost model had better overall performance in terms of accuracy, precision, recall, F1-scores, and the ability to distinguish between the classes. These improvements can be attributed to the hyperparameter tuning process, which optimized the model's parameters to better fit the training data and generalize to unseen data in the test stage."
   ]
  },
  {
   "cell_type": "markdown",
   "id": "a77d8473",
   "metadata": {},
   "source": [
    "### (4) Provide your final conclusion on your observation."
   ]
  },
  {
   "cell_type": "markdown",
   "id": "4e4f878a",
   "metadata": {},
   "source": [
    "After comparing the performance of different models in both the train and test stages, it can be concluded that the hypertuned GradientBoost model exhibited the best overall performance. It consistently achieved higher accuracy, precision, recall, F1-scores, and ROC AUC score compared to the other models. The hyperparameter tuning process helped optimize the model's performance, resulting in improved classification and discrimination between classes. However, it's important to note that the choice of the best-performing model may depend on the specific dataset and problem at hand. Further evaluation and experimentation are recommended to validate the findings and determine the most suitable model for a particular scenario. "
   ]
  }
 ],
 "metadata": {
  "kernelspec": {
   "display_name": "Python 3 (ipykernel)",
   "language": "python",
   "name": "python3"
  },
  "language_info": {
   "codemirror_mode": {
    "name": "ipython",
    "version": 3
   },
   "file_extension": ".py",
   "mimetype": "text/x-python",
   "name": "python",
   "nbconvert_exporter": "python",
   "pygments_lexer": "ipython3",
   "version": "3.9.18"
  }
 },
 "nbformat": 4,
 "nbformat_minor": 5
}
